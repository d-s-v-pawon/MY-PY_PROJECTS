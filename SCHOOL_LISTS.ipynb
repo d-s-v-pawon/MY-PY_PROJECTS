{
 "cells": [
  {
   "cell_type": "code",
   "execution_count": 29,
   "id": "1c569207-d728-4e08-b481-db074ca9de54",
   "metadata": {},
   "outputs": [
    {
     "name": "stdout",
     "output_type": "stream",
     "text": [
      "WELCOME TO THE PYTHON SCHOOL\n"
     ]
    },
    {
     "name": "stdin",
     "output_type": "stream",
     "text": [
      "ENTER YOUR CLASS ONLY IN NUMBERS: 1\n"
     ]
    },
    {
     "name": "stdout",
     "output_type": "stream",
     "text": [
      "WELCOME TO THE CLASS 1\n"
     ]
    },
    {
     "name": "stdin",
     "output_type": "stream",
     "text": [
      "ENTER THE NUMBER OF STUDENTS THIS CLASS WILL HAVE: 3\n"
     ]
    },
    {
     "name": "stdout",
     "output_type": "stream",
     "text": [
      "THIS IS CLASS 1 WITH 3 STUDENTS\n",
      "ENTER THE DETAILS OF 3 STUDENTS\n"
     ]
    },
    {
     "name": "stdin",
     "output_type": "stream",
     "text": [
      "ENTER THE NAME OF THE STUDENT 1 OF CLASS 1: siva\n",
      "ENTER THE NAME OF THE STUDENT 2 OF CLASS 1: venkata\n",
      "ENTER THE NAME OF THE STUDENT 3 OF CLASS 1: pavan\n"
     ]
    },
    {
     "name": "stdout",
     "output_type": "stream",
     "text": [
      "NAMES OF THE CLASS 1 STUDENTS ARE AS FOLLOWS\n",
      "['siva', 'venkata', 'pavan']\n"
     ]
    },
    {
     "name": "stdin",
     "output_type": "stream",
     "text": [
      "ENTER THE ANNUAL PERCENTAGE OF THE STUDENT 1 OF CLASS 1 74\n",
      "ENTER THE ANNUAL PERCENTAGE OF THE STUDENT 2 OF CLASS 1 75\n",
      "ENTER THE ANNUAL PERCENTAGE OF THE STUDENT 3 OF CLASS 1 76\n"
     ]
    },
    {
     "name": "stdout",
     "output_type": "stream",
     "text": [
      "PERCENTAGES OF THE RESPECTIVE STUDENTS ARE AS FOLLOWS\n",
      "[74.0, 75.0, 76.0]\n",
      "['CLASS_1', ['siva', 'venkata', 'pavan'], [74.0, 75.0, 76.0]]\n",
      "CLASS 1 STUDENTS DETAILS IS AS FOLLOWS:\n",
      "[('siva', 74.0), ('venkata', 75.0), ('pavan', 76.0)]\n",
      "THE ENTRY OF STUDENT DETAILS OF CLASS1 IS FINISHED\n"
     ]
    },
    {
     "name": "stdin",
     "output_type": "stream",
     "text": [
      "DO YOU WANT TO ENTER THE DETAILS OF ANOTHER CLASS STUDENTS(Y/N): y\n",
      "ENTER YOUR CLASS ONLY IN NUMBERS: 2\n"
     ]
    },
    {
     "name": "stdout",
     "output_type": "stream",
     "text": [
      "WELCOME TO THE CLASS 2\n"
     ]
    },
    {
     "name": "stdin",
     "output_type": "stream",
     "text": [
      "ENTER THE NUMBER OF STUDENTS THIS CLASS WILL HAVE: 3\n"
     ]
    },
    {
     "name": "stdout",
     "output_type": "stream",
     "text": [
      "THIS IS CLASS 2 WITH 3 STUDENTS\n",
      "ENTER THE DETAILS OF 3 STUDENTS\n"
     ]
    },
    {
     "name": "stdin",
     "output_type": "stream",
     "text": [
      "ENTER THE NAME OF THE STUDENT 1 OF CLASS 2: siva\n",
      "ENTER THE NAME OF THE STUDENT 2 OF CLASS 2: venkata\n",
      "ENTER THE NAME OF THE STUDENT 3 OF CLASS 2: pavan\n"
     ]
    },
    {
     "name": "stdout",
     "output_type": "stream",
     "text": [
      "NAMES OF THE CLASS 2 STUDENTS ARE AS FOLLOWS\n",
      "['siva', 'venkata', 'pavan']\n"
     ]
    },
    {
     "name": "stdin",
     "output_type": "stream",
     "text": [
      "ENTER THE ANNUAL PERCENTAGE OF THE STUDENT 1 OF CLASS 2 74\n",
      "ENTER THE ANNUAL PERCENTAGE OF THE STUDENT 2 OF CLASS 2 75\n",
      "ENTER THE ANNUAL PERCENTAGE OF THE STUDENT 3 OF CLASS 2 76\n"
     ]
    },
    {
     "name": "stdout",
     "output_type": "stream",
     "text": [
      "PERCENTAGES OF THE RESPECTIVE STUDENTS ARE AS FOLLOWS\n",
      "[74.0, 75.0, 76.0]\n",
      "['CLASS_2', ['siva', 'venkata', 'pavan'], [74.0, 75.0, 76.0]]\n",
      "CLASS 2 STUDENTS DETAILS IS AS FOLLOWS:\n",
      "[('siva', 74.0), ('venkata', 75.0), ('pavan', 76.0)]\n",
      "THE ENTRY OF STUDENT DETAILS OF CLASS2 IS FINISHED\n"
     ]
    },
    {
     "name": "stdin",
     "output_type": "stream",
     "text": [
      "DO YOU WANT TO ENTER THE DETAILS OF ANOTHER CLASS STUDENTS(Y/N): n\n"
     ]
    },
    {
     "name": "stdout",
     "output_type": "stream",
     "text": [
      "THE COMPLETE SCHOOL DETAILS ARE AS FOLLOWS\n",
      "[['CLASS_1', ['siva', 'venkata', 'pavan'], [74.0, 75.0, 76.0]], ['CLASS_2', ['siva', 'venkata', 'pavan'], [74.0, 75.0, 76.0]]]\n"
     ]
    },
    {
     "name": "stdin",
     "output_type": "stream",
     "text": [
      "DO YOU WANT TO KNOW THE PROMOTION STATUS OF STUDENTS OF ANY CLASS FOR NEXT YEAR(Y/N): y\n"
     ]
    },
    {
     "name": "stdout",
     "output_type": "stream",
     "text": [
      "THE SCHOOL CONSISTS OF THE FOLLOWING CLASSES:\n",
      "0 CLASS_1\n",
      "1 CLASS_2\n"
     ]
    },
    {
     "name": "stdin",
     "output_type": "stream",
     "text": [
      "ENTER THE NUMBER BEFORE THE CLASS OF WHICH YOU ARE LIKELY TO KNOW THE PROMOTION STATUS: 1\n",
      "ENTER THE NAME OF THE STUDENT YOU ARE LIKELY TO KNOW THE PROMOTION STATUS: venkata\n"
     ]
    },
    {
     "name": "stdout",
     "output_type": "stream",
     "text": [
      "THE PERCENTAGE OF venkata IS 75.0\n",
      "THE PROMOTION OF venkata TO CLASS 2 IS WITH HELD\n"
     ]
    },
    {
     "name": "stdin",
     "output_type": "stream",
     "text": [
      "DO YOU WANT TO CHECK ANOTHER STUDENT STATUS(Y/N): y\n",
      "ENTER THE NUMBER BEFORE THE CLASS OF WHICH YOU ARE LIKELY TO KNOW THE PROMOTION STATUS: 0\n",
      "ENTER THE NAME OF THE STUDENT YOU ARE LIKELY TO KNOW THE PROMOTION STATUS: pavan\n"
     ]
    },
    {
     "name": "stdout",
     "output_type": "stream",
     "text": [
      "THE PERCENTAGE OF pavan IS 76.0\n",
      "pavan IS PROMOTED TO CLASS 1\n"
     ]
    },
    {
     "name": "stdin",
     "output_type": "stream",
     "text": [
      "DO YOU WANT TO CHECK ANOTHER STUDENT STATUS(Y/N): n\n",
      "DO YOU WANT TO KNOW THE PROMOTION STATUS OF STUDENTS OF ANY CLASS FOR NEXT YEAR(Y/N): n\n"
     ]
    },
    {
     "name": "stdout",
     "output_type": "stream",
     "text": [
      "THANK YOU FOR VISITING\n",
      "THE FINAL INFO OF THE PYTHON SCHOOL\n",
      "+--------------+------------------------------+--------------------+\n",
      "| CLASS NAME   | STUDENTS                     | PERCENTAGES        |\n",
      "+==============+==============================+====================+\n",
      "| CLASS_1      | ['siva', 'venkata', 'pavan'] | [74.0, 75.0, 76.0] |\n",
      "+--------------+------------------------------+--------------------+\n",
      "| CLASS_2      | ['siva', 'venkata', 'pavan'] | [74.0, 75.0, 76.0] |\n",
      "+--------------+------------------------------+--------------------+\n"
     ]
    }
   ],
   "source": [
    "import re\n",
    "from tabulate import tabulate\n",
    "print(\"WELCOME TO THE PYTHON SCHOOL\")\n",
    "SCHOOL=[]\n",
    "def promote(SCHOOL):\n",
    "    print(\"THE SCHOOL CONSISTS OF THE FOLLOWING CLASSES:\")\n",
    "    j=0\n",
    "    for i in enumerate(SCHOOL):\n",
    "        print(i[0],SCHOOL[j][0])\n",
    "        j=j+1\n",
    "    while(True):\n",
    "        CLASS=int(input(\"ENTER THE NUMBER BEFORE THE CLASS OF WHICH YOU ARE LIKELY TO KNOW THE PROMOTION STATUS:\"))\n",
    "        C_INDEX=SCHOOL[CLASS]\n",
    "        NAME=input(\"ENTER THE NAME OF THE STUDENT YOU ARE LIKELY TO KNOW THE PROMOTION STATUS:\")\n",
    "        NAME=NAME.lower()\n",
    "        if NAME in C_INDEX[1]:\n",
    "            INDEX=C_INDEX[1].index(NAME)\n",
    "            print(f\"THE PERCENTAGE OF {NAME} IS {C_INDEX[2][INDEX]}\")\n",
    "            if(C_INDEX[2][INDEX]<75):\n",
    "                print(f\"SINCE THE PERCENTAGE OF {NAME} IS LESS THAN 70% HE'S NOT PROMOTED TO CLASS {int(CLASS)+1}\")\n",
    "            elif(C_INDEX[2][INDEX]>75):\n",
    "                print(f\"{NAME} IS PROMOTED TO CLASS {int(CLASS)+1}\")\n",
    "            else:\n",
    "                print(f\"THE PROMOTION OF {NAME} TO CLASS {int(CLASS)+1} IS WITH HELD\")\n",
    "        else:\n",
    "            print(f\"THE STUDENT {NAME} NOT BELONGS TO CLASS {CLASS}\")\n",
    "        CONTINUE=input(\"DO YOU WANT TO CHECK ANOTHER STUDENT STATUS(Y/N):\")\n",
    "        CONTINUE=CONTINUE.lower()\n",
    "        if not re.match(\"^[y&n]*$\",CONTINUE):\n",
    "            print(\"Error! Only letters Y AND N allowed!\")\n",
    "        else:\n",
    "            if(CONTINUE==\"n\"):\n",
    "                break\n",
    "            else:\n",
    "                pass   \n",
    "def CLASS_DETAILS(name,number):\n",
    "    print(f\"ENTER THE DETAILS OF {number} STUDENTS\")\n",
    "    cl_info=[]\n",
    "    cl_info.append(f\"CLASS_{int(name)}\")\n",
    "    STU_NAMES=[]\n",
    "    while(True):\n",
    "        for i in range(1,int(number)+1):\n",
    "            NAME=input(f\"ENTER THE NAME OF THE STUDENT {i} OF CLASS {CLASS}:\")\n",
    "            NAME=NAME.lower()\n",
    "            STU_NAMES.append(NAME)\n",
    "        if(len(STU_NAMES)==int(number)):\n",
    "            print(f\"NAMES OF THE CLASS {CLASS} STUDENTS ARE AS FOLLOWS\")\n",
    "            print(STU_NAMES)\n",
    "            break\n",
    "    cl_info.append(STU_NAMES)\n",
    "    PERCENT=[]\n",
    "    while(True):\n",
    "        for i in range(1,int(number)+1):\n",
    "            percentage=float(input(f\"ENTER THE ANNUAL PERCENTAGE OF THE STUDENT {i} OF CLASS {name}\"))\n",
    "            PERCENT.append(percentage)\n",
    "        if(len(PERCENT)==int(number)):\n",
    "            print(\"PERCENTAGES OF THE RESPECTIVE STUDENTS ARE AS FOLLOWS\")\n",
    "            print(PERCENT)\n",
    "            break\n",
    "    cl_info.append(PERCENT)\n",
    "    print(cl_info)\n",
    "    SCHOOL.append(cl_info)\n",
    "    stu_indiv_det=list(zip(STU_NAMES,PERCENT))\n",
    "    print(f\"CLASS {CLASS} STUDENTS DETAILS IS AS FOLLOWS:\")\n",
    "    print(stu_indiv_det)\n",
    "    print(f\"THE ENTRY OF STUDENT DETAILS OF CLASS{name} IS FINISHED\")\n",
    "while(True):\n",
    "    CLASS=input(\"ENTER YOUR CLASS ONLY IN NUMBERS:\")\n",
    "    if CLASS.isdigit():\n",
    "        print(\"WELCOME TO THE CLASS\",CLASS)\n",
    "        NO_S=input(\"ENTER THE NUMBER OF STUDENTS THIS CLASS WILL HAVE:\")\n",
    "        if NO_S.isdigit():\n",
    "            print(f\"THIS IS CLASS {CLASS} WITH {NO_S} STUDENTS\")\n",
    "            CLASS_DETAILS(CLASS,NO_S)\n",
    "        else:\n",
    "            print(\"PLEASE ENTER VALID DETAILS\")\n",
    "    else:\n",
    "        print(\"PLEASE ENTER VALID NUMBER\")\n",
    "    N_ENTRY=input(\"DO YOU WANT TO ENTER THE DETAILS OF ANOTHER CLASS STUDENTS(Y/N):\")\n",
    "    N_ENTRY=N_ENTRY.lower()\n",
    "    if not re.match(\"^[y&n]*$\",N_ENTRY):\n",
    "        print(\"Error! Only letters Y AND N allowed!\")\n",
    "    else:\n",
    "        if(N_ENTRY==\"n\"):\n",
    "            print(\"THE COMPLETE SCHOOL DETAILS ARE AS FOLLOWS\")\n",
    "            print(SCHOOL)\n",
    "            break\n",
    "        else:\n",
    "            pass\n",
    "while(True):\n",
    "    N_ACTION=input(f\"DO YOU WANT TO KNOW THE PROMOTION STATUS OF STUDENTS OF ANY CLASS FOR NEXT YEAR(Y/N):\")\n",
    "    N_ACTION=N_ACTION.lower()\n",
    "    if not re.match(\"^[y&n]*$\",N_ACTION):\n",
    "        print(\"Error! Only letters Y AND N allowed!\")\n",
    "    else:\n",
    "        if(N_ACTION==\"n\"):\n",
    "            print(\"THANK YOU FOR VISITING\")\n",
    "            break\n",
    "        else:\n",
    "            promote(SCHOOL)\n",
    "print(\"THE FINAL INFO OF THE PYTHON SCHOOL\")\n",
    "head=[\"CLASS NAME\",\"STUDENTS\",\"PERCENTAGES\"]\n",
    "print(tabulate(SCHOOL,headers=head,tablefmt=\"grid\"))\n"
   ]
  }
 ],
 "metadata": {
  "kernelspec": {
   "display_name": "Python 3 (ipykernel)",
   "language": "python",
   "name": "python3"
  },
  "language_info": {
   "codemirror_mode": {
    "name": "ipython",
    "version": 3
   },
   "file_extension": ".py",
   "mimetype": "text/x-python",
   "name": "python",
   "nbconvert_exporter": "python",
   "pygments_lexer": "ipython3",
   "version": "3.10.11"
  }
 },
 "nbformat": 4,
 "nbformat_minor": 5
}
