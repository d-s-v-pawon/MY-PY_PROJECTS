{
 "cells": [
  {
   "cell_type": "markdown",
   "id": "588d6c4f-9ef1-42e5-a2e8-f174bbe0fd32",
   "metadata": {},
   "source": [
    "<h1><span style=\"color:orange\">WELCOME TO PYTHON SCHOOL</span></h1>"
   ]
  },
  {
   "cell_type": "markdown",
   "id": "00f790fa-838e-4300-a8b0-6bb610b7c978",
   "metadata": {},
   "source": [
    "<h3><span style=\"color:aqua\">THE FINAL RESULTS OF THE STUDENTS FOR THE CURRENT YEAR IS AS FOLLOWS</span></h3>"
   ]
  },
  {
   "cell_type": "code",
   "execution_count": 100,
   "id": "09411aac-770a-415f-8147-5d9068b12a5c",
   "metadata": {},
   "outputs": [
    {
     "name": "stdout",
     "output_type": "stream",
     "text": [
      "╭──────────────┬────────────┬───────────────╮\n",
      "│ CLASS NAME   │ STUDENTS   │ PERCENTAGES   │\n",
      "├──────────────┼────────────┼───────────────┤\n",
      "│ CLASS_1      │ ['s', 'v'] │ [75.0, 76.0]  │\n",
      "╰──────────────┴────────────┴───────────────╯\n"
     ]
    }
   ],
   "source": [
    "from tabulate import tabulate\n",
    "head=[\"CLASS NAME\",\"STUDENTS\",\"PERCENTAGES\"]\n",
    "print(tabulate(SCHOOL,headers=head,tablefmt=\"rounded_grid\"))"
   ]
  },
  {
   "cell_type": "markdown",
   "id": "30640aaa-acac-45ce-8d7f-abb0dc014910",
   "metadata": {},
   "source": [
    "<h4><span style=\"color:lightgreen\">THE POSITION OF STUDENTS FOR THE NEXT YEAR IN THE SCHOOL IS AS FOLLOWS</span></h2>"
   ]
  },
  {
   "cell_type": "code",
   "execution_count": 101,
   "id": "19aa98f6-5d72-4eb6-8d79-ab2734bba08c",
   "metadata": {},
   "outputs": [
    {
     "name": "stdout",
     "output_type": "stream",
     "text": [
      "╭──────────────┬────────────┬───────────────╮\n",
      "│ CLASS NAME   │ STUDENTS   │ PERCENTAGES   │\n",
      "├──────────────┼────────────┼───────────────┤\n",
      "│ CLASS_1      │ ['s']      │ [75.0]        │\n",
      "├──────────────┼────────────┼───────────────┤\n",
      "│ CLASS_2      │ ['v']      │ [76.0]        │\n",
      "╰──────────────┴────────────┴───────────────╯\n"
     ]
    }
   ],
   "source": [
    "from tabulate import tabulate\n",
    "head=[\"CLASS NAME\",\"STUDENTS\",\"PERCENTAGES\"]\n",
    "print(tabulate(N_SCHOOL,headers=head,tablefmt=\"rounded_grid\"))"
   ]
  },
  {
   "cell_type": "code",
   "execution_count": 99,
   "id": "2485fd41-750d-4284-baca-d387427f8ea2",
   "metadata": {},
   "outputs": [
    {
     "name": "stdout",
     "output_type": "stream",
     "text": [
      "WELCOME TO PYTHON SCHOOL\n"
     ]
    },
    {
     "name": "stdin",
     "output_type": "stream",
     "text": [
      "ENTER THE CLASS ONLY IN NUMBERS: 1\n"
     ]
    },
    {
     "name": "stdout",
     "output_type": "stream",
     "text": [
      "WELCOME TO THE CLASS 1\n"
     ]
    },
    {
     "name": "stdin",
     "output_type": "stream",
     "text": [
      "ENTER THE NUMBER OF STUDENTS THIS CLASS WILL HAVE: 2\n"
     ]
    },
    {
     "name": "stdout",
     "output_type": "stream",
     "text": [
      "THIS IS CLASS 1 WITH 2 STUDENTS\n",
      "ENTER THE DETAILS OF 2 STUDENTS\n"
     ]
    },
    {
     "name": "stdin",
     "output_type": "stream",
     "text": [
      "ENTER THE NAME OF THE STUDENT 1 OF CLASS 1: s\n",
      "ENTER THE NAME OF THE STUDENT 2 OF CLASS 1: v\n"
     ]
    },
    {
     "name": "stdout",
     "output_type": "stream",
     "text": [
      "NAMES OF THE CLASS 1 STUDENTS ARE AS FOLLOWS\n",
      "['s', 'v']\n"
     ]
    },
    {
     "name": "stdin",
     "output_type": "stream",
     "text": [
      "ENTER THE ANNUAL PERCENTAGE OF THE STUDENT 1 OF CLASS 1 75\n",
      "ENTER THE ANNUAL PERCENTAGE OF THE STUDENT 2 OF CLASS 1 76\n"
     ]
    },
    {
     "name": "stdout",
     "output_type": "stream",
     "text": [
      "PERCENTAGES OF THE RESPECTIVE STUDENTS ARE AS FOLLOWS\n",
      "[75.0, 76.0]\n",
      "['CLASS_1', ['s', 'v'], [75.0, 76.0]]\n",
      "CLASS 1 STUDENTS DETAILS IS AS FOLLOWS:\n",
      "[('s', 75.0), ('v', 76.0)]\n",
      "THE ENTRY OF STUDENT DETAILS OF CLASS 1 IS FINISHED\n"
     ]
    },
    {
     "name": "stdin",
     "output_type": "stream",
     "text": [
      "DO YOU WANT TO ENTER THE DETAILS OF ANOTHER CLASS STUDENTS(Y/N): n\n"
     ]
    },
    {
     "name": "stdout",
     "output_type": "stream",
     "text": [
      "╭──────────────┬────────────┬───────────────╮\n",
      "│ CLASS NAME   │ STUDENTS   │ PERCENTAGES   │\n",
      "├──────────────┼────────────┼───────────────┤\n",
      "│ CLASS_1      │ ['s', 'v'] │ [75.0, 76.0]  │\n",
      "╰──────────────┴────────────┴───────────────╯\n",
      "[['CLASS_1', ['s'], [75.0]], ['CLASS_2', ['v'], [76.0]]]\n"
     ]
    },
    {
     "name": "stdin",
     "output_type": "stream",
     "text": [
      "DO YOU WANT TO KNOW THE PROMOTION STATUS OF ANY PARTICULAR STUDENT OF ANY CLASS FOR NEXT YEAR(Y/N): y\n"
     ]
    },
    {
     "name": "stdout",
     "output_type": "stream",
     "text": [
      "THE SCHOOL CONSISTS OF THE FOLLOWING CLASSES:\n",
      "1 CLASS_1\n"
     ]
    },
    {
     "name": "stdin",
     "output_type": "stream",
     "text": [
      "ENTER THE NUMBER BEFORE THE CLASS OF WHICH STUDENT YOU ARE LIKELY TO KNOW THE PROMOTION STATUS: 1\n",
      "ENTER THE NAME OF THE STUDENT YOU ARE LIKELY TO KNOW THE PROMOTION STATUS: v\n"
     ]
    },
    {
     "name": "stdout",
     "output_type": "stream",
     "text": [
      "THE PERCENTAGE OF v IS 76.0\n",
      "THE STUDENT v IS PROMOTED TO THE CLASS 2\n",
      "HERE IS UPDATED THE CLASS 2 INFO\n",
      "['CLASS_2', 'v', 76.0]\n"
     ]
    },
    {
     "name": "stdin",
     "output_type": "stream",
     "text": [
      "DO YOU WANT TO CHECK ANOTHER STUDENT STATUS(Y/N): n\n",
      "DO YOU WANT TO KNOW THE PROMOTION STATUS OF ANY PARTICULAR STUDENT OF ANY CLASS FOR NEXT YEAR(Y/N): n\n"
     ]
    },
    {
     "name": "stdout",
     "output_type": "stream",
     "text": [
      "THANK YOU FOR VISITING\n",
      "THE FINAL INFO OF THE PYTHON SCHOOL\n",
      "╭──────────────┬────────────┬───────────────╮\n",
      "│ CLASS NAME   │ STUDENTS   │ PERCENTAGES   │\n",
      "├──────────────┼────────────┼───────────────┤\n",
      "│ CLASS_1      │ ['s']      │ [75.0]        │\n",
      "├──────────────┼────────────┼───────────────┤\n",
      "│ CLASS_2      │ ['v']      │ [76.0]        │\n",
      "╰──────────────┴────────────┴───────────────╯\n"
     ]
    }
   ],
   "source": [
    "import re\n",
    "from tabulate import tabulate\n",
    "import numpy as np\n",
    "print(\"WELCOME TO PYTHON SCHOOL\")\n",
    "SCHOOL=[]\n",
    "N_SCHOOL=[]\n",
    "def promote():\n",
    "    print(\"THE SCHOOL CONSISTS OF THE FOLLOWING CLASSES:\")\n",
    "    j=0\n",
    "    for i in enumerate(SCHOOL,start=1):\n",
    "        print(i[0],SCHOOL[j][0])\n",
    "        j=j+1\n",
    "    while(True):\n",
    "        CLASS=int(input(\"ENTER THE NUMBER BEFORE THE CLASS OF WHICH STUDENT YOU ARE LIKELY TO KNOW THE PROMOTION STATUS:\"))\n",
    "        C_INDEX=SCHOOL[CLASS-1]\n",
    "        if CLASS!=len(SCHOOL):\n",
    "            N_INDEX=SCHOOL[CLASS]\n",
    "            NAME=input(\"ENTER THE NAME OF THE STUDENT YOU ARE LIKELY TO KNOW THE PROMOTION STATUS:\")\n",
    "            NAME=NAME.lower()\n",
    "            if NAME in C_INDEX[1]:\n",
    "                INDEX=C_INDEX[1].index(NAME)\n",
    "                print(f\"THE PERCENTAGE OF {NAME} IS {C_INDEX[2][INDEX]}\")\n",
    "                if(C_INDEX[2][INDEX]<75):\n",
    "                    print(f\"SINCE THE PERCENTAGE OF {NAME} IS LESS THAN 75% HE'S NOT PROMOTED TO CLASS {int(CLASS)+1}\")\n",
    "                elif(C_INDEX[2][INDEX]>75):\n",
    "                    N_LIST=[f\"CLASS_{int(CLASS)+1}\"]\n",
    "                    N_LIST.extend([N_INDEX[1]])\n",
    "                    N_LIST.extend([N_INDEX[2]])\n",
    "                    print(N_LIST)\n",
    "                    print(f\"THE STUDENT {NAME} IS PROMOTED TO THE CLASS {int(CLASS)+1}\")\n",
    "                    N_LIST[1].append(NAME)\n",
    "                    N_LIST[2].append(C_INDEX[2][INDEX])\n",
    "                    print(f\"HERE IS UPDATED THE CLASS {int(CLASS)+1} INFO\")\n",
    "                    print(N_LIST)\n",
    "                else:\n",
    "                    print(f\"THE PROMOTION OF {NAME} TO CLASS {int(CLASS)+1} IS WITH HELD\")\n",
    "            else:\n",
    "                print(f\"THE STUDENT {NAME} NOT BELONGS TO CLASS {CLASS}\")\n",
    "        else:\n",
    "            NAME=input(\"ENTER THE NAME OF THE STUDENT YOU ARE LIKELY TO KNOW THE PROMOTION STATUS:\")\n",
    "            NAME=NAME.lower()\n",
    "            if NAME in C_INDEX[1]:\n",
    "                INDEX=C_INDEX[1].index(NAME)\n",
    "                print(f\"THE PERCENTAGE OF {NAME} IS {C_INDEX[2][INDEX]}\")\n",
    "                if(C_INDEX[2][INDEX]<75):\n",
    "                    print(f\"SINCE THE PERCENTAGE OF {NAME} IS LESS THAN 75% HE'S NOT PROMOTED TO CLASS {int(CLASS)+1}\")\n",
    "                elif(C_INDEX[2][INDEX]>75):\n",
    "                    N_LIST=[f\"CLASS_{int(CLASS)+1}\"]\n",
    "                    print(f\"THE STUDENT {NAME} IS PROMOTED TO THE CLASS {int(CLASS)+1}\")\n",
    "                    N_LIST.append(NAME)\n",
    "                    N_LIST.append(C_INDEX[2][INDEX])\n",
    "                    print(f\"HERE IS UPDATED THE CLASS {int(CLASS)+1} INFO\")\n",
    "                    print(N_LIST)\n",
    "                else:\n",
    "                    print(f\"THE PROMOTION OF {NAME} TO CLASS {int(CLASS)+1} IS WITH HELD\")\n",
    "            else:\n",
    "                print(f\"THE STUDENT {NAME} NOT BELONGS TO CLASS {CLASS}\")\n",
    "        CONTINUE=input(\"DO YOU WANT TO CHECK ANOTHER STUDENT STATUS(Y/N):\")\n",
    "        CONTINUE=CONTINUE.lower()\n",
    "        if not re.match(\"^[y&n]\",CONTINUE):\n",
    "            print(\"Error! Only letters Y AND N allowed!\")\n",
    "        else:\n",
    "            if(CONTINUE==\"n\"):\n",
    "                break\n",
    "            else:\n",
    "                pass\n",
    "def get_numeric_input(prompt):\n",
    "    while True:\n",
    "        try:\n",
    "            user_input = input(prompt)[:2]\n",
    "            numeric_value = float(user_input)  # Convert input to a float\n",
    "            return numeric_value\n",
    "        except ValueError:\n",
    "            print(\"Please enter a valid numeric value.\")\n",
    "def CLASS_DETAILS(name,number):\n",
    "    print(f\"ENTER THE DETAILS OF {number} STUDENTS\")\n",
    "    cl_info=[]\n",
    "    n_cl_info=[]\n",
    "    cl_info.append(f\"CLASS_{int(name)}\")\n",
    "    n_cl_info.append(f\"CLASS_{int(name)}\")\n",
    "    STU_NAMES=[]\n",
    "    N_STU_NAMES=[]\n",
    "    n_cl_info.append(N_STU_NAMES)\n",
    "    while(True):\n",
    "        for i in range(1,int(number)+1):\n",
    "            NAME=input(f\"ENTER THE NAME OF THE STUDENT {i} OF CLASS {name}:\")\n",
    "            if NAME.isalpha():\n",
    "                NAME=NAME.lower()\n",
    "                STU_NAMES.append(NAME)\n",
    "        if(len(STU_NAMES)==int(number)):\n",
    "            print(f\"NAMES OF THE CLASS {name} STUDENTS ARE AS FOLLOWS\")\n",
    "            print(STU_NAMES)\n",
    "            break\n",
    "    cl_info.append(STU_NAMES)\n",
    "    PERCENT=[]\n",
    "    N_PERCENT=[]\n",
    "    n_cl_info.append(N_PERCENT)\n",
    "    while(True):\n",
    "        for i in range(1,int(number)+1):\n",
    "            percentage=get_numeric_input(f\"ENTER THE ANNUAL PERCENTAGE OF THE STUDENT {i} OF CLASS {name}\")\n",
    "            PERCENT.append(percentage)\n",
    "        if(len(PERCENT)==int(number)):\n",
    "            print(\"PERCENTAGES OF THE RESPECTIVE STUDENTS ARE AS FOLLOWS\")\n",
    "            print(PERCENT)\n",
    "            break\n",
    "    cl_info.append(PERCENT)\n",
    "    print(cl_info)\n",
    "    SCHOOL.append(cl_info)\n",
    "    N_SCHOOL.append(n_cl_info)\n",
    "    stu_indiv_det=list(zip(STU_NAMES,PERCENT))\n",
    "    print(f\"CLASS {name} STUDENTS DETAILS IS AS FOLLOWS:\")\n",
    "    print(stu_indiv_det)\n",
    "    print(f\"THE ENTRY OF STUDENT DETAILS OF CLASS {name} IS FINISHED\")\n",
    "def START():\n",
    "    CLASS=input(\"ENTER THE CLASS ONLY IN NUMBERS:\")\n",
    "    if CLASS.isdigit():\n",
    "        print(\"WELCOME TO THE CLASS\",CLASS)\n",
    "        NO_S=input(\"ENTER THE NUMBER OF STUDENTS THIS CLASS WILL HAVE:\")\n",
    "        if NO_S.isdigit():\n",
    "            print(f\"THIS IS CLASS {CLASS} WITH {NO_S} STUDENTS\")\n",
    "            CLASS_DETAILS(CLASS,NO_S)\n",
    "        else:\n",
    "            print(\"PLEASE ENTER VALID DETAILS\")\n",
    "    else:\n",
    "        print(\"PLEASE ENTER VALID NUMBER\")\n",
    "    return CLASS\n",
    "n_class=START()\n",
    "while(True):\n",
    "    N_ENTRY=input(\"DO YOU WANT TO ENTER THE DETAILS OF ANOTHER CLASS STUDENTS(Y/N):\")\n",
    "    N_ENTRY=N_ENTRY.lower()\n",
    "    if not re.match(\"^[y&n]\",N_ENTRY):\n",
    "        print(\"Error! Only letters Y AND N allowed!\")\n",
    "    else:\n",
    "        if(N_ENTRY==\"n\"):\n",
    "            head=[\"CLASS NAME\",\"STUDENTS\",\"PERCENTAGES\"]\n",
    "            print(tabulate(SCHOOL,headers=head,tablefmt=\"rounded_grid\"))\n",
    "            break\n",
    "        else:\n",
    "            n_class=START()\n",
    "def N_YEAR(n_name,SCHOOL,N_SCHOOL):    \n",
    "    values_above_75 = [value for value in SCHOOL[len(SCHOOL)-1][2] if value > 75]\n",
    "    if len(values_above_75)>=1:\n",
    "        N_CLASS=[f\"CLASS_{int(n_name)+1}\"]\n",
    "        N_STU_NAMES=[]\n",
    "        N_PERCENT=[]\n",
    "        for i in range(len(SCHOOL)):\n",
    "            if i==len(SCHOOL)-1:\n",
    "                per=np.array(SCHOOL[i][2])\n",
    "                for j in SCHOOL[i][2]:\n",
    "                    INDIXES=np.where(per==j)[0]\n",
    "                    if j>75:\n",
    "                        if j not in N_PERCENT:\n",
    "                            for k in INDIXES:\n",
    "                                N_PERCENT.append(j)\n",
    "                                N_STU_NAMES.append(SCHOOL[i][1][k])\n",
    "                        else:\n",
    "                            pass\n",
    "                    else:\n",
    "                        if j not in N_SCHOOL[i][2]:\n",
    "                            for k in INDIXES:\n",
    "                                N_SCHOOL[i][2].append(j)\n",
    "                                N_SCHOOL[i][1].append(SCHOOL[i][1][k])\n",
    "                        else:\n",
    "                            pass\n",
    "            else:\n",
    "                per=np.array(SCHOOL[i][2])\n",
    "                for j in SCHOOL[i][2]:\n",
    "                    INDICES=np.where(per==j)[0]\n",
    "                    if(j>75):\n",
    "                        if j not in N_SCHOOL[i+1][2]:\n",
    "                            for k in INDICES:\n",
    "                                N_SCHOOL[i+1][2].append(j)\n",
    "                                N_SCHOOL[i+1][1].append(SCHOOL[i][1][k])\n",
    "                        else:\n",
    "                            pass\n",
    "                    else:\n",
    "                        if j not in N_SCHOOL[i][2]:\n",
    "                            for k in INDICES:\n",
    "                                N_SCHOOL[i][2].append(j)\n",
    "                                N_SCHOOL[i][1].append(SCHOOL[i][1][k])\n",
    "                        else:\n",
    "                            pass\n",
    "        N_CLASS.append(N_STU_NAMES)\n",
    "        N_CLASS.append(N_PERCENT)\n",
    "        N_SCHOOL.append(N_CLASS)\n",
    "    else:\n",
    "        for i in range(len(SCHOOL)):\n",
    "            per=np.array(SCHOOL[i][2])\n",
    "            for j in SCHOOL[i][2]:\n",
    "                INDICES=np.where(per==j)[0]\n",
    "                if(j>75):\n",
    "                    if j not in N_SCHOOL[i+1][2]:\n",
    "                        for k in INDICES:\n",
    "                            N_SCHOOL[i+1][2].append(j)\n",
    "                            N_SCHOOL[i+1][1].append(SCHOOL[i][1][k])\n",
    "                    else:\n",
    "                        pass\n",
    "                else:\n",
    "                    if j not in N_SCHOOL[i][2]:\n",
    "                        for k in INDICES:\n",
    "                            N_SCHOOL[i][2].append(j)\n",
    "                            N_SCHOOL[i][1].append(SCHOOL[i][1][k])\n",
    "                    else:\n",
    "                        pass\n",
    "        \n",
    "    print(N_SCHOOL)\n",
    "N_YEAR(n_class,SCHOOL,N_SCHOOL)\n",
    "while(True):\n",
    "    N_ACTION=input(f\"DO YOU WANT TO KNOW THE PROMOTION STATUS OF ANY PARTICULAR STUDENT OF ANY CLASS FOR NEXT YEAR(Y/N):\")\n",
    "    N_ACTION=N_ACTION.lower()\n",
    "    if not re.match(\"^[y&n]\",N_ACTION):\n",
    "        print(\"Error! Only letters Y AND N allowed!\")\n",
    "    else:\n",
    "        if(N_ACTION==\"n\"):\n",
    "            print(\"THANK YOU FOR VISITING\")\n",
    "            break\n",
    "        else:\n",
    "            promote()\n",
    "print(\"THE FINAL INFO OF THE PYTHON SCHOOL\")\n",
    "head=[\"CLASS NAME\",\"STUDENTS\",\"PERCENTAGES\"]\n",
    "print(tabulate(N_SCHOOL,headers=head,tablefmt=\"rounded_grid\"))\n"
   ]
  },
  {
   "cell_type": "code",
   "execution_count": 79,
   "id": "41ab6357-9eea-4c24-9600-16f838f73973",
   "metadata": {},
   "outputs": [
    {
     "name": "stdout",
     "output_type": "stream",
     "text": [
      "[[[], ['s', 'p'], [74.0, 74.0]], [[], ['v', 'p', 's', 'v', 'p'], [76.0, 76.0, 75.0, 74.0, 74.0]], [[], ['s', 'p'], [75.0, 74.0]], [[], ['v', 's', 'v'], [76.0, 75.0, 74.0]], [[], ['p', 's', 'v'], [76.0, 75.0, 74.0]], [[], ['p'], [76.0]]]\n"
     ]
    }
   ],
   "source": [
    "import numpy as np\n",
    "SCHOOL=[['CLASS_1', ['s', 'v', 'p','p'], [74.0, 76.0, 74.0,76.0]],\n",
    "        ['CLASS_2', ['s', 'v', 'p'], [75.0, 74.0, 74.0]],\n",
    "        ['CLASS_3', ['s', 'v', 'p'], [75.0, 76.0, 74.0]],\n",
    "        ['CLASS_4', ['s', 'v', 'p'], [75.0, 74.0, 76.0]],\n",
    "        ['CLASS_5', ['s', 'v', 'p'], [75.0, 74.0, 76.0]]]\n",
    "N_SCHOOL=[[[],[],[]],[[],[],[]],[[],[],[]],[[],[],[]],[[],[],[]]]\n",
    "def N_YEAR(SCHOOL,N_SCHOOL):\n",
    "    values_above_75 = [value for value in SCHOOL[len(SCHOOL)-1][2] if value > 75]\n",
    "    if len(values_above_75)==1:\n",
    "        N_CLASS=[[]]\n",
    "        N_STU_NAMES=[]\n",
    "        N_PERCENT=[]\n",
    "        for i in range(len(SCHOOL)):\n",
    "            if i==len(SCHOOL)-1:\n",
    "                per=np.array(SCHOOL[i][2])\n",
    "                for j in SCHOOL[i][2]:\n",
    "                    INDIXES=np.where(per==j)[0]\n",
    "                    if j>75:\n",
    "                        if j not in N_PERCENT:\n",
    "                            for k in INDIXES:\n",
    "                                N_PERCENT.append(j)\n",
    "                                N_STU_NAMES.append(SCHOOL[i][1][k])\n",
    "                        else:\n",
    "                            pass\n",
    "                    else:\n",
    "                        if j not in N_SCHOOL[i][2]:\n",
    "                            for k in INDIXES:\n",
    "                                N_SCHOOL[i][2].append(j)\n",
    "                                N_SCHOOL[i][1].append(SCHOOL[i][1][k])\n",
    "                        else:\n",
    "                            pass\n",
    "            else:\n",
    "                per=np.array(SCHOOL[i][2])\n",
    "                for j in SCHOOL[i][2]:\n",
    "                    INDICES=np.where(per==j)[0]\n",
    "                    if(j>75):\n",
    "                        if j not in N_SCHOOL[i+1][2]:\n",
    "                            for k in INDICES:\n",
    "                                N_SCHOOL[i+1][2].append(j)\n",
    "                                N_SCHOOL[i+1][1].append(SCHOOL[i][1][k])\n",
    "                        else:\n",
    "                            pass\n",
    "                    else:\n",
    "                        if j not in N_SCHOOL[i][2]:\n",
    "                            for k in INDICES:\n",
    "                                N_SCHOOL[i][2].append(j)\n",
    "                                N_SCHOOL[i][1].append(SCHOOL[i][1][k])\n",
    "                        else:\n",
    "                            pass\n",
    "        N_CLASS.append(N_STU_NAMES)\n",
    "        N_CLASS.append(N_PERCENT)\n",
    "        N_SCHOOL.append(N_CLASS)\n",
    "    else:\n",
    "        for i in range(len(SCHOOL)):\n",
    "            per=np.array(SCHOOL[i][2])\n",
    "            for j in SCHOOL[i][2]:\n",
    "                INDICES=np.where(per==j)[0]\n",
    "                if(j>75):\n",
    "                    if j not in N_SCHOOL[i+1][2]:\n",
    "                        for k in INDICES:\n",
    "                            N_SCHOOL[i+1][2].append(j)\n",
    "                            N_SCHOOL[i+1][1].append(SCHOOL[i][1][k])\n",
    "                    else:\n",
    "                        pass\n",
    "                else:\n",
    "                    if j not in N_SCHOOL[i][2]:\n",
    "                        for k in INDICES:\n",
    "                            N_SCHOOL[i][2].append(j)\n",
    "                            N_SCHOOL[i][1].append(SCHOOL[i][1][k])\n",
    "                    else:\n",
    "                        pass\n",
    "        \n",
    "    print(N_SCHOOL)\n",
    "          \n",
    "N_YEAR(SCHOOL,N_SCHOOL)"
   ]
  },
  {
   "cell_type": "code",
   "execution_count": null,
   "id": "f36b213c-146c-43f1-a2bd-182b7731694a",
   "metadata": {},
   "outputs": [],
   "source": [
    "def promote(SCHOOL):\n",
    "    print(\"THE SCHOOL CONSISTS OF THE FOLLOWING CLASSES:\")\n",
    "    j=0\n",
    "    for i in enumerate(SCHOOL,start=1):\n",
    "        print(i[0],SCHOOL[j][0])\n",
    "        j=j+1\n",
    "    while(True):\n",
    "        CLASS=int(input(\"ENTER THE NUMBER BEFORE THE CLASS OF WHICH STUDENT YOU ARE LIKELY TO KNOW THE PROMOTION STATUS:\"))\n",
    "        C_INDEX=SCHOOL[CLASS-1]\n",
    "        if(C_INDEX==SCHOOL[len(SCHOOL)-1]):\n",
    "            N_CLASS=[f\"CLASS_{CLASS+1}\"]\n",
    "            N_STU_NAMES=[]\n",
    "            N_PERCENT=[]\n",
    "            NAME=input(\"ENTER THE NAME OF THE STUDENT YOU ARE LIKELY TO KNOW THE PROMOTION STATUS:\")\n",
    "            NAME=NAME.lower()\n",
    "            if NAME in C_INDEX[1]:\n",
    "                INDEX=C_INDEX[1].index(NAME)\n",
    "                print(f\"THE PERCENTAGE OF {NAME} IS {C_INDEX[2][INDEX]}\")\n",
    "                if(C_INDEX[2][INDEX]<75):\n",
    "                    print(f\"SINCE THE PERCENTAGE OF {NAME} IS LESS THAN 75% HE'S NOT PROMOTED TO CLASS {int(CLASS)+1}\")\n",
    "                elif(C_INDEX[2][INDEX]>75):\n",
    "                    N_ITEM=C_INDEX[1].pop(INDEX)\n",
    "                    P_ITEM=C_INDEX[2].pop(INDEX)\n",
    "                    N_STU_NAMES.append(N_ITEM)\n",
    "                    N_PERCENT.append(P_ITEM)\n",
    "                    N_CLASS.append(N_STU_NAMES)\n",
    "                    N_CLASS.append(N_PERCENT)\n",
    "                    print(f\"THE STUDENT {NAME} IS PROMOTED TO THE CLASS {int(CLASS)+1}\")\n",
    "                    print(f\"HERE IS UPDATED THE CLASS {int(CLASS)+1} INFO\")\n",
    "                    print(N_CLASS)\n",
    "                else:\n",
    "                    print(f\"THE PROMOTION OF {NAME} TO CLASS {int(CLASS)+1} IS WITH HELD\")\n",
    "            else:\n",
    "                print(f\"THE STUDENT {NAME} NOT BELONGS TO CLASS {CLASS}\")\n",
    "        else:\n",
    "            N_INDEX=SCHOOL[CLASS]\n",
    "            NAME=input(\"ENTER THE NAME OF THE STUDENT YOU ARE LIKELY TO KNOW THE PROMOTION STATUS:\")\n",
    "            NAME=NAME.lower()\n",
    "            if NAME in C_INDEX[1]:\n",
    "                INDEX=C_INDEX[1].index(NAME)\n",
    "                print(f\"THE PERCENTAGE OF {NAME} IS {C_INDEX[2][INDEX]}\")\n",
    "                if(C_INDEX[2][INDEX]<75):\n",
    "                    print(f\"SINCE THE PERCENTAGE OF {NAME} IS LESS THAN 70% HE'S NOT PROMOTED TO CLASS {int(CLASS)+1}\")\n",
    "                elif(C_INDEX[2][INDEX]>75):\n",
    "                    N_ITEM=C_INDEX[1].pop(INDEX)\n",
    "                    P_ITEM=C_INDEX[2].pop(INDEX)\n",
    "                    N_INDEX[1].append(N_ITEM)\n",
    "                    N_INDEX[2].append(P_ITEM)\n",
    "                    print(f\"THE STUDENT {NAME} IS PROMOTED TO THE CLASS {int(CLASS)+1}\")\n",
    "                    print(f\"HERE IS UPDATED THE CLASS {int(CLASS)+1} INFO\")\n",
    "                    print(N_INDEX)\n",
    "                else:\n",
    "                    print(f\"THE PROMOTION OF {NAME} TO CLASS {int(CLASS)+1} IS WITH HELD\")\n",
    "            else:\n",
    "                print(f\"THE STUDENT {NAME} NOT BELONGS TO CLASS {CLASS}\")\n",
    "        CONTINUE=input(\"DO YOU WANT TO CHECK ANOTHER STUDENT STATUS(Y/N):\")\n",
    "        CONTINUE=CONTINUE.lower()\n",
    "        if not re.match(\"^[y&n]*$\",CONTINUE):\n",
    "            print(\"Error! Only letters Y AND N allowed!\")\n",
    "        else:\n",
    "            if(CONTINUE==\"n\"):\n",
    "                break\n",
    "            else:\n",
    "                pass"
   ]
  }
 ],
 "metadata": {
  "kernelspec": {
   "display_name": "Python 3 (ipykernel)",
   "language": "python",
   "name": "python3"
  },
  "language_info": {
   "codemirror_mode": {
    "name": "ipython",
    "version": 3
   },
   "file_extension": ".py",
   "mimetype": "text/x-python",
   "name": "python",
   "nbconvert_exporter": "python",
   "pygments_lexer": "ipython3",
   "version": "3.10.11"
  }
 },
 "nbformat": 4,
 "nbformat_minor": 5
}
