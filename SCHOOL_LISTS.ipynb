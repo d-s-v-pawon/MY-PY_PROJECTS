{
 "cells": [
  {
   "cell_type": "code",
   "execution_count": 89,
   "id": "2485fd41-750d-4284-baca-d387427f8ea2",
   "metadata": {},
   "outputs": [
    {
     "name": "stdout",
     "output_type": "stream",
     "text": [
      "WELCOME TO THE PYTHON SCHOOL\n"
     ]
    },
    {
     "name": "stdin",
     "output_type": "stream",
     "text": [
      "ENTER THE CLASS ONLY IN NUMBERS: 1\n"
     ]
    },
    {
     "name": "stdout",
     "output_type": "stream",
     "text": [
      "WELCOME TO THE CLASS 1\n"
     ]
    },
    {
     "name": "stdin",
     "output_type": "stream",
     "text": [
      "ENTER THE NUMBER OF STUDENTS THIS CLASS WILL HAVE: 10\n"
     ]
    },
    {
     "name": "stdout",
     "output_type": "stream",
     "text": [
      "THIS IS CLASS 1 WITH 10 STUDENTS\n",
      "ENTER THE DETAILS OF 10 STUDENTS\n"
     ]
    },
    {
     "name": "stdin",
     "output_type": "stream",
     "text": [
      "ENTER THE NAME OF THE STUDENT 1 OF CLASS 1: ram\n",
      "ENTER THE NAME OF THE STUDENT 2 OF CLASS 1: bheem\n",
      "ENTER THE NAME OF THE STUDENT 3 OF CLASS 1: rahim\n",
      "ENTER THE NAME OF THE STUDENT 4 OF CLASS 1: vinay\n",
      "ENTER THE NAME OF THE STUDENT 5 OF CLASS 1: vignesh\n",
      "ENTER THE NAME OF THE STUDENT 6 OF CLASS 1: varun\n",
      "ENTER THE NAME OF THE STUDENT 7 OF CLASS 1: mani\n",
      "ENTER THE NAME OF THE STUDENT 8 OF CLASS 1: siva\n",
      "ENTER THE NAME OF THE STUDENT 9 OF CLASS 1: sai\n",
      "ENTER THE NAME OF THE STUDENT 10 OF CLASS 1: sravani\n"
     ]
    },
    {
     "name": "stdout",
     "output_type": "stream",
     "text": [
      "NAMES OF THE CLASS 5 STUDENTS ARE AS FOLLOWS\n",
      "['ram', 'bheem', 'rahim', 'vinay', 'vignesh', 'varun', 'mani', 'siva', 'sai', 'sravani']\n"
     ]
    },
    {
     "name": "stdin",
     "output_type": "stream",
     "text": [
      "ENTER THE ANNUAL PERCENTAGE OF THE STUDENT 1 OF CLASS 1 75\n",
      "ENTER THE ANNUAL PERCENTAGE OF THE STUDENT 2 OF CLASS 1 76\n",
      "ENTER THE ANNUAL PERCENTAGE OF THE STUDENT 3 OF CLASS 1 78\n",
      "ENTER THE ANNUAL PERCENTAGE OF THE STUDENT 4 OF CLASS 1 46\n",
      "ENTER THE ANNUAL PERCENTAGE OF THE STUDENT 5 OF CLASS 1 69\n",
      "ENTER THE ANNUAL PERCENTAGE OF THE STUDENT 6 OF CLASS 1 59\n",
      "ENTER THE ANNUAL PERCENTAGE OF THE STUDENT 7 OF CLASS 1 90\n",
      "ENTER THE ANNUAL PERCENTAGE OF THE STUDENT 8 OF CLASS 1 79\n",
      "ENTER THE ANNUAL PERCENTAGE OF THE STUDENT 9 OF CLASS 1 67\n",
      "ENTER THE ANNUAL PERCENTAGE OF THE STUDENT 10 OF CLASS 1 50\n"
     ]
    },
    {
     "name": "stdout",
     "output_type": "stream",
     "text": [
      "PERCENTAGES OF THE RESPECTIVE STUDENTS ARE AS FOLLOWS\n",
      "[75.0, 76.0, 78.0, 46.0, 69.0, 59.0, 90.0, 79.0, 67.0, 50.0]\n",
      "['CLASS_1', ['ram', 'bheem', 'rahim', 'vinay', 'vignesh', 'varun', 'mani', 'siva', 'sai', 'sravani'], [75.0, 76.0, 78.0, 46.0, 69.0, 59.0, 90.0, 79.0, 67.0, 50.0]]\n",
      "CLASS 5 STUDENTS DETAILS IS AS FOLLOWS:\n",
      "[('ram', 75.0), ('bheem', 76.0), ('rahim', 78.0), ('vinay', 46.0), ('vignesh', 69.0), ('varun', 59.0), ('mani', 90.0), ('siva', 79.0), ('sai', 67.0), ('sravani', 50.0)]\n",
      "THE ENTRY OF STUDENT DETAILS OF CLASS1 IS FINISHED\n"
     ]
    },
    {
     "name": "stdin",
     "output_type": "stream",
     "text": [
      "DO YOU WANT TO ENTER THE DETAILS OF ANOTHER CLASS STUDENTS(Y/N): y\n",
      "ENTER THE CLASS ONLY IN NUMBERS: 2\n"
     ]
    },
    {
     "name": "stdout",
     "output_type": "stream",
     "text": [
      "WELCOME TO THE CLASS 2\n"
     ]
    },
    {
     "name": "stdin",
     "output_type": "stream",
     "text": [
      "ENTER THE NUMBER OF STUDENTS THIS CLASS WILL HAVE: 8\n"
     ]
    },
    {
     "name": "stdout",
     "output_type": "stream",
     "text": [
      "THIS IS CLASS 2 WITH 8 STUDENTS\n",
      "ENTER THE DETAILS OF 8 STUDENTS\n"
     ]
    },
    {
     "name": "stdin",
     "output_type": "stream",
     "text": [
      "ENTER THE NAME OF THE STUDENT 1 OF CLASS 2: venkat\n",
      "ENTER THE NAME OF THE STUDENT 2 OF CLASS 2: pavan\n",
      "ENTER THE NAME OF THE STUDENT 3 OF CLASS 2: syamala\n",
      "ENTER THE NAME OF THE STUDENT 4 OF CLASS 2: narayana\n",
      "ENTER THE NAME OF THE STUDENT 5 OF CLASS 2: charani\n",
      "ENTER THE NAME OF THE STUDENT 6 OF CLASS 2: bharathi\n",
      "ENTER THE NAME OF THE STUDENT 7 OF CLASS 2: ahmad\n",
      "ENTER THE NAME OF THE STUDENT 8 OF CLASS 2: arun\n"
     ]
    },
    {
     "name": "stdout",
     "output_type": "stream",
     "text": [
      "NAMES OF THE CLASS 5 STUDENTS ARE AS FOLLOWS\n",
      "['venkat', 'pavan', 'syamala', 'narayana', 'charani', 'bharathi', 'ahmad', 'arun']\n"
     ]
    },
    {
     "name": "stdin",
     "output_type": "stream",
     "text": [
      "ENTER THE ANNUAL PERCENTAGE OF THE STUDENT 1 OF CLASS 2 56\n",
      "ENTER THE ANNUAL PERCENTAGE OF THE STUDENT 2 OF CLASS 2 67\n",
      "ENTER THE ANNUAL PERCENTAGE OF THE STUDENT 3 OF CLASS 2 78\n",
      "ENTER THE ANNUAL PERCENTAGE OF THE STUDENT 4 OF CLASS 2 89\n",
      "ENTER THE ANNUAL PERCENTAGE OF THE STUDENT 5 OF CLASS 2 90\n",
      "ENTER THE ANNUAL PERCENTAGE OF THE STUDENT 6 OF CLASS 2 57\n",
      "ENTER THE ANNUAL PERCENTAGE OF THE STUDENT 7 OF CLASS 2 68\n",
      "ENTER THE ANNUAL PERCENTAGE OF THE STUDENT 8 OF CLASS 2 79\n"
     ]
    },
    {
     "name": "stdout",
     "output_type": "stream",
     "text": [
      "PERCENTAGES OF THE RESPECTIVE STUDENTS ARE AS FOLLOWS\n",
      "[56.0, 67.0, 78.0, 89.0, 90.0, 57.0, 68.0, 79.0]\n",
      "['CLASS_2', ['venkat', 'pavan', 'syamala', 'narayana', 'charani', 'bharathi', 'ahmad', 'arun'], [56.0, 67.0, 78.0, 89.0, 90.0, 57.0, 68.0, 79.0]]\n",
      "CLASS 5 STUDENTS DETAILS IS AS FOLLOWS:\n",
      "[('venkat', 56.0), ('pavan', 67.0), ('syamala', 78.0), ('narayana', 89.0), ('charani', 90.0), ('bharathi', 57.0), ('ahmad', 68.0), ('arun', 79.0)]\n",
      "THE ENTRY OF STUDENT DETAILS OF CLASS2 IS FINISHED\n"
     ]
    },
    {
     "name": "stdin",
     "output_type": "stream",
     "text": [
      "DO YOU WANT TO ENTER THE DETAILS OF ANOTHER CLASS STUDENTS(Y/N): y\n",
      "ENTER THE CLASS ONLY IN NUMBERS: 3\n"
     ]
    },
    {
     "name": "stdout",
     "output_type": "stream",
     "text": [
      "WELCOME TO THE CLASS 3\n"
     ]
    },
    {
     "name": "stdin",
     "output_type": "stream",
     "text": [
      "ENTER THE NUMBER OF STUDENTS THIS CLASS WILL HAVE: 7\n"
     ]
    },
    {
     "name": "stdout",
     "output_type": "stream",
     "text": [
      "THIS IS CLASS 3 WITH 7 STUDENTS\n",
      "ENTER THE DETAILS OF 7 STUDENTS\n"
     ]
    },
    {
     "name": "stdin",
     "output_type": "stream",
     "text": [
      "ENTER THE NAME OF THE STUDENT 1 OF CLASS 3: dhanush\n",
      "ENTER THE NAME OF THE STUDENT 2 OF CLASS 3: dharani\n",
      "ENTER THE NAME OF THE STUDENT 3 OF CLASS 3: keerthana\n",
      "ENTER THE NAME OF THE STUDENT 4 OF CLASS 3: rajesh\n",
      "ENTER THE NAME OF THE STUDENT 5 OF CLASS 3: vamsi\n",
      "ENTER THE NAME OF THE STUDENT 6 OF CLASS 3: varun\n",
      "ENTER THE NAME OF THE STUDENT 7 OF CLASS 3: sailaja\n"
     ]
    },
    {
     "name": "stdout",
     "output_type": "stream",
     "text": [
      "NAMES OF THE CLASS 5 STUDENTS ARE AS FOLLOWS\n",
      "['dhanush', 'dharani', 'keerthana', 'rajesh', 'vamsi', 'varun', 'sailaja']\n"
     ]
    },
    {
     "name": "stdin",
     "output_type": "stream",
     "text": [
      "ENTER THE ANNUAL PERCENTAGE OF THE STUDENT 1 OF CLASS 3 45\n",
      "ENTER THE ANNUAL PERCENTAGE OF THE STUDENT 2 OF CLASS 3 56\n",
      "ENTER THE ANNUAL PERCENTAGE OF THE STUDENT 3 OF CLASS 3 67\n",
      "ENTER THE ANNUAL PERCENTAGE OF THE STUDENT 4 OF CLASS 3 78\n",
      "ENTER THE ANNUAL PERCENTAGE OF THE STUDENT 5 OF CLASS 3 89\n",
      "ENTER THE ANNUAL PERCENTAGE OF THE STUDENT 6 OF CLASS 3 80\n",
      "ENTER THE ANNUAL PERCENTAGE OF THE STUDENT 7 OF CLASS 3 97\n"
     ]
    },
    {
     "name": "stdout",
     "output_type": "stream",
     "text": [
      "PERCENTAGES OF THE RESPECTIVE STUDENTS ARE AS FOLLOWS\n",
      "[45.0, 56.0, 67.0, 78.0, 89.0, 80.0, 97.0]\n",
      "['CLASS_3', ['dhanush', 'dharani', 'keerthana', 'rajesh', 'vamsi', 'varun', 'sailaja'], [45.0, 56.0, 67.0, 78.0, 89.0, 80.0, 97.0]]\n",
      "CLASS 5 STUDENTS DETAILS IS AS FOLLOWS:\n",
      "[('dhanush', 45.0), ('dharani', 56.0), ('keerthana', 67.0), ('rajesh', 78.0), ('vamsi', 89.0), ('varun', 80.0), ('sailaja', 97.0)]\n",
      "THE ENTRY OF STUDENT DETAILS OF CLASS3 IS FINISHED\n"
     ]
    },
    {
     "name": "stdin",
     "output_type": "stream",
     "text": [
      "DO YOU WANT TO ENTER THE DETAILS OF ANOTHER CLASS STUDENTS(Y/N): y\n",
      "ENTER THE CLASS ONLY IN NUMBERS: 4\n"
     ]
    },
    {
     "name": "stdout",
     "output_type": "stream",
     "text": [
      "WELCOME TO THE CLASS 4\n"
     ]
    },
    {
     "name": "stdin",
     "output_type": "stream",
     "text": [
      "ENTER THE NUMBER OF STUDENTS THIS CLASS WILL HAVE: 6\n"
     ]
    },
    {
     "name": "stdout",
     "output_type": "stream",
     "text": [
      "THIS IS CLASS 4 WITH 6 STUDENTS\n",
      "ENTER THE DETAILS OF 6 STUDENTS\n"
     ]
    },
    {
     "name": "stdin",
     "output_type": "stream",
     "text": [
      "ENTER THE NAME OF THE STUDENT 1 OF CLASS 4: gagan\n",
      "ENTER THE NAME OF THE STUDENT 2 OF CLASS 4: ganga\n",
      "ENTER THE NAME OF THE STUDENT 3 OF CLASS 4: ganesh\n",
      "ENTER THE NAME OF THE STUDENT 4 OF CLASS 4: raju\n",
      "ENTER THE NAME OF THE STUDENT 5 OF CLASS 4: vinod\n",
      "ENTER THE NAME OF THE STUDENT 6 OF CLASS 4: vikram\n"
     ]
    },
    {
     "name": "stdout",
     "output_type": "stream",
     "text": [
      "NAMES OF THE CLASS 5 STUDENTS ARE AS FOLLOWS\n",
      "['gagan', 'ganga', 'ganesh', 'raju', 'vinod', 'vikram']\n"
     ]
    },
    {
     "name": "stdin",
     "output_type": "stream",
     "text": [
      "ENTER THE ANNUAL PERCENTAGE OF THE STUDENT 1 OF CLASS 4 68\n",
      "ENTER THE ANNUAL PERCENTAGE OF THE STUDENT 2 OF CLASS 4 50\n",
      "ENTER THE ANNUAL PERCENTAGE OF THE STUDENT 3 OF CLASS 4 49\n",
      "ENTER THE ANNUAL PERCENTAGE OF THE STUDENT 4 OF CLASS 4 60\n",
      "ENTER THE ANNUAL PERCENTAGE OF THE STUDENT 5 OF CLASS 4 70\n",
      "ENTER THE ANNUAL PERCENTAGE OF THE STUDENT 6 OF CLASS 4 79\n"
     ]
    },
    {
     "name": "stdout",
     "output_type": "stream",
     "text": [
      "PERCENTAGES OF THE RESPECTIVE STUDENTS ARE AS FOLLOWS\n",
      "[68.0, 50.0, 49.0, 60.0, 70.0, 79.0]\n",
      "['CLASS_4', ['gagan', 'ganga', 'ganesh', 'raju', 'vinod', 'vikram'], [68.0, 50.0, 49.0, 60.0, 70.0, 79.0]]\n",
      "CLASS 5 STUDENTS DETAILS IS AS FOLLOWS:\n",
      "[('gagan', 68.0), ('ganga', 50.0), ('ganesh', 49.0), ('raju', 60.0), ('vinod', 70.0), ('vikram', 79.0)]\n",
      "THE ENTRY OF STUDENT DETAILS OF CLASS4 IS FINISHED\n"
     ]
    },
    {
     "name": "stdin",
     "output_type": "stream",
     "text": [
      "DO YOU WANT TO ENTER THE DETAILS OF ANOTHER CLASS STUDENTS(Y/N): y\n",
      "ENTER THE CLASS ONLY IN NUMBERS: 5\n"
     ]
    },
    {
     "name": "stdout",
     "output_type": "stream",
     "text": [
      "WELCOME TO THE CLASS 5\n"
     ]
    },
    {
     "name": "stdin",
     "output_type": "stream",
     "text": [
      "ENTER THE NUMBER OF STUDENTS THIS CLASS WILL HAVE: 5\n"
     ]
    },
    {
     "name": "stdout",
     "output_type": "stream",
     "text": [
      "THIS IS CLASS 5 WITH 5 STUDENTS\n",
      "ENTER THE DETAILS OF 5 STUDENTS\n"
     ]
    },
    {
     "name": "stdin",
     "output_type": "stream",
     "text": [
      "ENTER THE NAME OF THE STUDENT 1 OF CLASS 5: farooq\n",
      "ENTER THE NAME OF THE STUDENT 2 OF CLASS 5: sharooq\n",
      "ENTER THE NAME OF THE STUDENT 3 OF CLASS 5: shahul\n",
      "ENTER THE NAME OF THE STUDENT 4 OF CLASS 5: salma\n",
      "ENTER THE NAME OF THE STUDENT 5 OF CLASS 5: viraj\n"
     ]
    },
    {
     "name": "stdout",
     "output_type": "stream",
     "text": [
      "NAMES OF THE CLASS 5 STUDENTS ARE AS FOLLOWS\n",
      "['farooq', 'sharooq', 'shahul', 'salma', 'viraj']\n"
     ]
    },
    {
     "name": "stdin",
     "output_type": "stream",
     "text": [
      "ENTER THE ANNUAL PERCENTAGE OF THE STUDENT 1 OF CLASS 5 67\n",
      "ENTER THE ANNUAL PERCENTAGE OF THE STUDENT 2 OF CLASS 5 65\n",
      "ENTER THE ANNUAL PERCENTAGE OF THE STUDENT 3 OF CLASS 5 79\n",
      "ENTER THE ANNUAL PERCENTAGE OF THE STUDENT 4 OF CLASS 5 88\n",
      "ENTER THE ANNUAL PERCENTAGE OF THE STUDENT 5 OF CLASS 5 49\n"
     ]
    },
    {
     "name": "stdout",
     "output_type": "stream",
     "text": [
      "PERCENTAGES OF THE RESPECTIVE STUDENTS ARE AS FOLLOWS\n",
      "[67.0, 65.0, 79.0, 88.0, 49.0]\n",
      "['CLASS_5', ['farooq', 'sharooq', 'shahul', 'salma', 'viraj'], [67.0, 65.0, 79.0, 88.0, 49.0]]\n",
      "CLASS 5 STUDENTS DETAILS IS AS FOLLOWS:\n",
      "[('farooq', 67.0), ('sharooq', 65.0), ('shahul', 79.0), ('salma', 88.0), ('viraj', 49.0)]\n",
      "THE ENTRY OF STUDENT DETAILS OF CLASS5 IS FINISHED\n"
     ]
    },
    {
     "name": "stdin",
     "output_type": "stream",
     "text": [
      "DO YOU WANT TO ENTER THE DETAILS OF ANOTHER CLASS STUDENTS(Y/N): n\n"
     ]
    },
    {
     "name": "stdout",
     "output_type": "stream",
     "text": [
      "╭──────────────┬──────────────────────────────────────────────────────────────────────────────────────────┬──────────────────────────────────────────────────────────────╮\n",
      "│ CLASS NAME   │ STUDENTS                                                                                 │ PERCENTAGES                                                  │\n",
      "├──────────────┼──────────────────────────────────────────────────────────────────────────────────────────┼──────────────────────────────────────────────────────────────┤\n",
      "│ CLASS_1      │ ['ram', 'bheem', 'rahim', 'vinay', 'vignesh', 'varun', 'mani', 'siva', 'sai', 'sravani'] │ [75.0, 76.0, 78.0, 46.0, 69.0, 59.0, 90.0, 79.0, 67.0, 50.0] │\n",
      "├──────────────┼──────────────────────────────────────────────────────────────────────────────────────────┼──────────────────────────────────────────────────────────────┤\n",
      "│ CLASS_2      │ ['venkat', 'pavan', 'syamala', 'narayana', 'charani', 'bharathi', 'ahmad', 'arun']       │ [56.0, 67.0, 78.0, 89.0, 90.0, 57.0, 68.0, 79.0]             │\n",
      "├──────────────┼──────────────────────────────────────────────────────────────────────────────────────────┼──────────────────────────────────────────────────────────────┤\n",
      "│ CLASS_3      │ ['dhanush', 'dharani', 'keerthana', 'rajesh', 'vamsi', 'varun', 'sailaja']               │ [45.0, 56.0, 67.0, 78.0, 89.0, 80.0, 97.0]                   │\n",
      "├──────────────┼──────────────────────────────────────────────────────────────────────────────────────────┼──────────────────────────────────────────────────────────────┤\n",
      "│ CLASS_4      │ ['gagan', 'ganga', 'ganesh', 'raju', 'vinod', 'vikram']                                  │ [68.0, 50.0, 49.0, 60.0, 70.0, 79.0]                         │\n",
      "├──────────────┼──────────────────────────────────────────────────────────────────────────────────────────┼──────────────────────────────────────────────────────────────┤\n",
      "│ CLASS_5      │ ['farooq', 'sharooq', 'shahul', 'salma', 'viraj']                                        │ [67.0, 65.0, 79.0, 88.0, 49.0]                               │\n",
      "╰──────────────┴──────────────────────────────────────────────────────────────────────────────────────────┴──────────────────────────────────────────────────────────────╯\n"
     ]
    },
    {
     "name": "stdin",
     "output_type": "stream",
     "text": [
      "DO YOU WANT TO KNOW THE PROMOTION STATUS OF STUDENTS OF ANY CLASS FOR NEXT YEAR(Y/N): y\n"
     ]
    },
    {
     "name": "stdout",
     "output_type": "stream",
     "text": [
      "THE SCHOOL CONSISTS OF THE FOLLOWING CLASSES:\n",
      "1 CLASS_1\n",
      "2 CLASS_2\n",
      "3 CLASS_3\n",
      "4 CLASS_4\n",
      "5 CLASS_5\n"
     ]
    },
    {
     "name": "stdin",
     "output_type": "stream",
     "text": [
      "ENTER THE NUMBER BEFORE THE CLASS OF WHICH STUDENT YOU ARE LIKELY TO KNOW THE PROMOTION STATUS: 1\n",
      "ENTER THE NAME OF THE STUDENT YOU ARE LIKELY TO KNOW THE PROMOTION STATUS: siva\n"
     ]
    },
    {
     "name": "stdout",
     "output_type": "stream",
     "text": [
      "THE PERCENTAGE OF siva IS 79.0\n",
      "THE STUDENT siva IS PROMOTED TO THE CLASS 2\n",
      "HERE IS UPDATED THE CLASS 2 INFO\n",
      "['CLASS_2', ['venkat', 'pavan', 'syamala', 'narayana', 'charani', 'bharathi', 'ahmad', 'arun', 'siva'], [56.0, 67.0, 78.0, 89.0, 90.0, 57.0, 68.0, 79.0, 79.0]]\n"
     ]
    },
    {
     "name": "stdin",
     "output_type": "stream",
     "text": [
      "DO YOU WANT TO CHECK ANOTHER STUDENT STATUS(Y/N): y\n",
      "ENTER THE NUMBER BEFORE THE CLASS OF WHICH STUDENT YOU ARE LIKELY TO KNOW THE PROMOTION STATUS: 2\n",
      "ENTER THE NAME OF THE STUDENT YOU ARE LIKELY TO KNOW THE PROMOTION STATUS: pavan\n"
     ]
    },
    {
     "name": "stdout",
     "output_type": "stream",
     "text": [
      "THE PERCENTAGE OF pavan IS 67.0\n",
      "SINCE THE PERCENTAGE OF pavan IS LESS THAN 70% HE'S NOT PROMOTED TO CLASS 3\n"
     ]
    },
    {
     "name": "stdin",
     "output_type": "stream",
     "text": [
      "DO YOU WANT TO CHECK ANOTHER STUDENT STATUS(Y/N): y\n",
      "ENTER THE NUMBER BEFORE THE CLASS OF WHICH STUDENT YOU ARE LIKELY TO KNOW THE PROMOTION STATUS: 2\n",
      "ENTER THE NAME OF THE STUDENT YOU ARE LIKELY TO KNOW THE PROMOTION STATUS: syamala\n"
     ]
    },
    {
     "name": "stdout",
     "output_type": "stream",
     "text": [
      "THE PERCENTAGE OF syamala IS 78.0\n",
      "THE STUDENT syamala IS PROMOTED TO THE CLASS 3\n",
      "HERE IS UPDATED THE CLASS 3 INFO\n",
      "['CLASS_3', ['dhanush', 'dharani', 'keerthana', 'rajesh', 'vamsi', 'varun', 'sailaja', 'syamala'], [45.0, 56.0, 67.0, 78.0, 89.0, 80.0, 97.0, 78.0]]\n"
     ]
    },
    {
     "name": "stdin",
     "output_type": "stream",
     "text": [
      "DO YOU WANT TO CHECK ANOTHER STUDENT STATUS(Y/N): y\n",
      "ENTER THE NUMBER BEFORE THE CLASS OF WHICH STUDENT YOU ARE LIKELY TO KNOW THE PROMOTION STATUS: 3\n",
      "ENTER THE NAME OF THE STUDENT YOU ARE LIKELY TO KNOW THE PROMOTION STATUS: sailaja\n"
     ]
    },
    {
     "name": "stdout",
     "output_type": "stream",
     "text": [
      "THE PERCENTAGE OF sailaja IS 97.0\n",
      "THE STUDENT sailaja IS PROMOTED TO THE CLASS 4\n",
      "HERE IS UPDATED THE CLASS 4 INFO\n",
      "['CLASS_4', ['gagan', 'ganga', 'ganesh', 'raju', 'vinod', 'vikram', 'sailaja'], [68.0, 50.0, 49.0, 60.0, 70.0, 79.0, 97.0]]\n"
     ]
    },
    {
     "name": "stdin",
     "output_type": "stream",
     "text": [
      "DO YOU WANT TO CHECK ANOTHER STUDENT STATUS(Y/N): y\n",
      "ENTER THE NUMBER BEFORE THE CLASS OF WHICH STUDENT YOU ARE LIKELY TO KNOW THE PROMOTION STATUS: 4\n",
      "ENTER THE NAME OF THE STUDENT YOU ARE LIKELY TO KNOW THE PROMOTION STATUS: vikram\n"
     ]
    },
    {
     "name": "stdout",
     "output_type": "stream",
     "text": [
      "THE PERCENTAGE OF vikram IS 79.0\n",
      "THE STUDENT vikram IS PROMOTED TO THE CLASS 5\n",
      "HERE IS UPDATED THE CLASS 5 INFO\n",
      "['CLASS_5', ['farooq', 'sharooq', 'shahul', 'salma', 'viraj', 'vikram'], [67.0, 65.0, 79.0, 88.0, 49.0, 79.0]]\n"
     ]
    },
    {
     "name": "stdin",
     "output_type": "stream",
     "text": [
      "DO YOU WANT TO CHECK ANOTHER STUDENT STATUS(Y/N): y\n",
      "ENTER THE NUMBER BEFORE THE CLASS OF WHICH STUDENT YOU ARE LIKELY TO KNOW THE PROMOTION STATUS: 5\n",
      "ENTER THE NAME OF THE STUDENT YOU ARE LIKELY TO KNOW THE PROMOTION STATUS: salma\n"
     ]
    },
    {
     "name": "stdout",
     "output_type": "stream",
     "text": [
      "THE PERCENTAGE OF salma IS 88.0\n",
      "THE STUDENT salma IS PROMOTED TO THE CLASS 6\n",
      "HERE IS UPDATED THE CLASS 6 INFO\n",
      "['CLASS_6', ['salma'], [88.0]]\n"
     ]
    },
    {
     "name": "stdin",
     "output_type": "stream",
     "text": [
      "DO YOU WANT TO CHECK ANOTHER STUDENT STATUS(Y/N): n\n",
      "DO YOU WANT TO KNOW THE PROMOTION STATUS OF STUDENTS OF ANY CLASS FOR NEXT YEAR(Y/N): y\n"
     ]
    },
    {
     "name": "stdout",
     "output_type": "stream",
     "text": [
      "THE SCHOOL CONSISTS OF THE FOLLOWING CLASSES:\n",
      "1 CLASS_1\n",
      "2 CLASS_2\n",
      "3 CLASS_3\n",
      "4 CLASS_4\n",
      "5 CLASS_5\n",
      "6 CLASS_6\n"
     ]
    },
    {
     "name": "stdin",
     "output_type": "stream",
     "text": [
      "ENTER THE NUMBER BEFORE THE CLASS OF WHICH STUDENT YOU ARE LIKELY TO KNOW THE PROMOTION STATUS: 5\n",
      "ENTER THE NAME OF THE STUDENT YOU ARE LIKELY TO KNOW THE PROMOTION STATUS: shahul\n"
     ]
    },
    {
     "name": "stdout",
     "output_type": "stream",
     "text": [
      "THE PERCENTAGE OF shahul IS 79.0\n",
      "THE STUDENT shahul IS PROMOTED TO THE CLASS 6\n",
      "HERE IS UPDATED THE CLASS 6 INFO\n",
      "['CLASS_6', ['salma', 'shahul'], [88.0, 79.0]]\n"
     ]
    },
    {
     "name": "stdin",
     "output_type": "stream",
     "text": [
      "DO YOU WANT TO CHECK ANOTHER STUDENT STATUS(Y/N): n\n",
      "DO YOU WANT TO KNOW THE PROMOTION STATUS OF STUDENTS OF ANY CLASS FOR NEXT YEAR(Y/N): n\n"
     ]
    },
    {
     "name": "stdout",
     "output_type": "stream",
     "text": [
      "THANK YOU FOR VISITING\n",
      "THE FINAL INFO OF THE PYTHON SCHOOL\n",
      "╭──────────────┬──────────────────────────────────────────────────────────────────────────────────┬────────────────────────────────────────────────────────╮\n",
      "│ CLASS NAME   │ STUDENTS                                                                         │ PERCENTAGES                                            │\n",
      "├──────────────┼──────────────────────────────────────────────────────────────────────────────────┼────────────────────────────────────────────────────────┤\n",
      "│ CLASS_1      │ ['ram', 'bheem', 'rahim', 'vinay', 'vignesh', 'varun', 'mani', 'sai', 'sravani'] │ [75.0, 76.0, 78.0, 46.0, 69.0, 59.0, 90.0, 67.0, 50.0] │\n",
      "├──────────────┼──────────────────────────────────────────────────────────────────────────────────┼────────────────────────────────────────────────────────┤\n",
      "│ CLASS_2      │ ['venkat', 'pavan', 'narayana', 'charani', 'bharathi', 'ahmad', 'arun', 'siva']  │ [56.0, 67.0, 89.0, 90.0, 57.0, 68.0, 79.0, 79.0]       │\n",
      "├──────────────┼──────────────────────────────────────────────────────────────────────────────────┼────────────────────────────────────────────────────────┤\n",
      "│ CLASS_3      │ ['dhanush', 'dharani', 'keerthana', 'rajesh', 'vamsi', 'varun', 'syamala']       │ [45.0, 56.0, 67.0, 78.0, 89.0, 80.0, 78.0]             │\n",
      "├──────────────┼──────────────────────────────────────────────────────────────────────────────────┼────────────────────────────────────────────────────────┤\n",
      "│ CLASS_4      │ ['gagan', 'ganga', 'ganesh', 'raju', 'vinod', 'sailaja']                         │ [68.0, 50.0, 49.0, 60.0, 70.0, 97.0]                   │\n",
      "├──────────────┼──────────────────────────────────────────────────────────────────────────────────┼────────────────────────────────────────────────────────┤\n",
      "│ CLASS_5      │ ['farooq', 'sharooq', 'viraj', 'vikram']                                         │ [67.0, 65.0, 49.0, 79.0]                               │\n",
      "├──────────────┼──────────────────────────────────────────────────────────────────────────────────┼────────────────────────────────────────────────────────┤\n",
      "│ CLASS_6      │ ['salma', 'shahul']                                                              │ [88.0, 79.0]                                           │\n",
      "╰──────────────┴──────────────────────────────────────────────────────────────────────────────────┴────────────────────────────────────────────────────────╯\n"
     ]
    }
   ],
   "source": [
    "import re\n",
    "from tabulate import tabulate\n",
    "print(\"WELCOME TO THE PYTHON SCHOOL\")\n",
    "SCHOOL=[]\n",
    "def promote(SCHOOL):\n",
    "    print(\"THE SCHOOL CONSISTS OF THE FOLLOWING CLASSES:\")\n",
    "    j=0\n",
    "    for i in enumerate(SCHOOL,start=1):\n",
    "        print(i[0],SCHOOL[j][0])\n",
    "        j=j+1\n",
    "    while(True):\n",
    "        CLASS=int(input(\"ENTER THE NUMBER BEFORE THE CLASS OF WHICH STUDENT YOU ARE LIKELY TO KNOW THE PROMOTION STATUS:\"))\n",
    "        C_INDEX=SCHOOL[CLASS-1]\n",
    "        if(C_INDEX==SCHOOL[len(SCHOOL)-1]):\n",
    "            N_CLASS=[f\"CLASS_{int(CLASS+1)}\"]\n",
    "            N_STU_NAMES=[]\n",
    "            N_PERCENT=[]\n",
    "            NAME=input(\"ENTER THE NAME OF THE STUDENT YOU ARE LIKELY TO KNOW THE PROMOTION STATUS:\")\n",
    "            NAME=NAME.lower()\n",
    "            if NAME in C_INDEX[1]:\n",
    "                INDEX=C_INDEX[1].index(NAME)\n",
    "                print(f\"THE PERCENTAGE OF {NAME} IS {C_INDEX[2][INDEX]}\")\n",
    "                if(C_INDEX[2][INDEX]<75):\n",
    "                    print(f\"SINCE THE PERCENTAGE OF {NAME} IS LESS THAN 70% HE'S NOT PROMOTED TO CLASS {int(CLASS)+1}\")\n",
    "                elif(C_INDEX[2][INDEX]>75):\n",
    "                    N_ITEM=C_INDEX[1].pop(INDEX)\n",
    "                    P_ITEM=C_INDEX[2].pop(INDEX)\n",
    "                    N_STU_NAMES.append(N_ITEM)\n",
    "                    N_PERCENT.append(P_ITEM)\n",
    "                    N_CLASS.append(N_STU_NAMES)\n",
    "                    N_CLASS.append(N_PERCENT)\n",
    "                    print(f\"THE STUDENT {NAME} IS PROMOTED TO THE CLASS {int(CLASS)+1}\")\n",
    "                    print(f\"HERE IS UPDATED THE CLASS {int(CLASS)+1} INFO\")\n",
    "                    print(N_CLASS)\n",
    "                    SCHOOL.append(N_CLASS)\n",
    "                else:\n",
    "                    print(f\"THE PROMOTION OF {NAME} TO CLASS {int(CLASS)+1} IS WITH HELD\")\n",
    "            else:\n",
    "                print(f\"THE STUDENT {NAME} NOT BELONGS TO CLASS {CLASS}\")\n",
    "        else:\n",
    "            N_INDEX=SCHOOL[CLASS]\n",
    "            NAME=input(\"ENTER THE NAME OF THE STUDENT YOU ARE LIKELY TO KNOW THE PROMOTION STATUS:\")\n",
    "            NAME=NAME.lower()\n",
    "            if NAME in C_INDEX[1]:\n",
    "                INDEX=C_INDEX[1].index(NAME)\n",
    "                print(f\"THE PERCENTAGE OF {NAME} IS {C_INDEX[2][INDEX]}\")\n",
    "                if(C_INDEX[2][INDEX]<75):\n",
    "                    print(f\"SINCE THE PERCENTAGE OF {NAME} IS LESS THAN 70% HE'S NOT PROMOTED TO CLASS {int(CLASS)+1}\")\n",
    "                elif(C_INDEX[2][INDEX]>75):\n",
    "                    N_ITEM=C_INDEX[1].pop(INDEX)\n",
    "                    P_ITEM=C_INDEX[2].pop(INDEX)\n",
    "                    N_INDEX[1].append(N_ITEM)\n",
    "                    N_INDEX[2].append(P_ITEM)\n",
    "                    print(f\"THE STUDENT {NAME} IS PROMOTED TO THE CLASS {int(CLASS)+1}\")\n",
    "                    print(f\"HERE IS UPDATED THE CLASS {int(CLASS)+1} INFO\")\n",
    "                    print(N_INDEX)\n",
    "                else:\n",
    "                    print(f\"THE PROMOTION OF {NAME} TO CLASS {int(CLASS)+1} IS WITH HELD\")\n",
    "            else:\n",
    "                print(f\"THE STUDENT {NAME} NOT BELONGS TO CLASS {CLASS}\")\n",
    "        CONTINUE=input(\"DO YOU WANT TO CHECK ANOTHER STUDENT STATUS(Y/N):\")\n",
    "        CONTINUE=CONTINUE.lower()\n",
    "        if not re.match(\"^[y&n]*$\",CONTINUE):\n",
    "            print(\"Error! Only letters Y AND N allowed!\")\n",
    "        else:\n",
    "            if(CONTINUE==\"n\"):\n",
    "                break\n",
    "            else:\n",
    "                pass   \n",
    "def CLASS_DETAILS(name,number):\n",
    "    print(f\"ENTER THE DETAILS OF {number} STUDENTS\")\n",
    "    cl_info=[]\n",
    "    cl_info.append(f\"CLASS_{int(name)}\")\n",
    "    STU_NAMES=[]\n",
    "    while(True):\n",
    "        for i in range(1,int(number)+1):\n",
    "            NAME=input(f\"ENTER THE NAME OF THE STUDENT {i} OF CLASS {name}:\")\n",
    "            NAME=NAME.lower()\n",
    "            STU_NAMES.append(NAME)\n",
    "        if(len(STU_NAMES)==int(number)):\n",
    "            print(f\"NAMES OF THE CLASS {CLASS} STUDENTS ARE AS FOLLOWS\")\n",
    "            print(STU_NAMES)\n",
    "            break\n",
    "    cl_info.append(STU_NAMES)\n",
    "    PERCENT=[]\n",
    "    while(True):\n",
    "        for i in range(1,int(number)+1):\n",
    "            percentage=float(input(f\"ENTER THE ANNUAL PERCENTAGE OF THE STUDENT {i} OF CLASS {name}\")[:6])\n",
    "            PERCENT.append(percentage)\n",
    "        if(len(PERCENT)==int(number)):\n",
    "            print(\"PERCENTAGES OF THE RESPECTIVE STUDENTS ARE AS FOLLOWS\")\n",
    "            print(PERCENT)\n",
    "            break\n",
    "    cl_info.append(PERCENT)\n",
    "    print(cl_info)\n",
    "    SCHOOL.append(cl_info)\n",
    "    stu_indiv_det=list(zip(STU_NAMES,PERCENT))\n",
    "    print(f\"CLASS {CLASS} STUDENTS DETAILS IS AS FOLLOWS:\")\n",
    "    print(stu_indiv_det)\n",
    "    print(f\"THE ENTRY OF STUDENT DETAILS OF CLASS{name} IS FINISHED\")\n",
    "def START():\n",
    "    CLASS=input(\"ENTER THE CLASS ONLY IN NUMBERS:\")\n",
    "    if CLASS.isdigit():\n",
    "        print(\"WELCOME TO THE CLASS\",CLASS)\n",
    "        NO_S=input(\"ENTER THE NUMBER OF STUDENTS THIS CLASS WILL HAVE:\")\n",
    "        if NO_S.isdigit():\n",
    "            print(f\"THIS IS CLASS {CLASS} WITH {NO_S} STUDENTS\")\n",
    "            CLASS_DETAILS(CLASS,NO_S)\n",
    "        else:\n",
    "            print(\"PLEASE ENTER VALID DETAILS\")\n",
    "    else:\n",
    "        print(\"PLEASE ENTER VALID NUMBER\")\n",
    "START()\n",
    "while(True):\n",
    "    N_ENTRY=input(\"DO YOU WANT TO ENTER THE DETAILS OF ANOTHER CLASS STUDENTS(Y/N):\")\n",
    "    N_ENTRY=N_ENTRY.lower()\n",
    "    if not re.match(\"^[y&n]*$\",N_ENTRY):\n",
    "        print(\"Error! Only letters Y AND N allowed!\")\n",
    "    else:\n",
    "        if(N_ENTRY==\"n\"):\n",
    "            head=[\"CLASS NAME\",\"STUDENTS\",\"PERCENTAGES\"]\n",
    "            print(tabulate(SCHOOL,headers=head,tablefmt=\"rounded_grid\"))\n",
    "            break\n",
    "        else:\n",
    "            START()\n",
    "while(True):\n",
    "    N_ACTION=input(f\"DO YOU WANT TO KNOW THE PROMOTION STATUS OF STUDENTS OF ANY CLASS FOR NEXT YEAR(Y/N):\")\n",
    "    N_ACTION=N_ACTION.lower()\n",
    "    if not re.match(\"^[y&n]*$\",N_ACTION):\n",
    "        print(\"Error! Only letters Y AND N allowed!\")\n",
    "    else:\n",
    "        if(N_ACTION==\"n\"):\n",
    "            print(\"THANK YOU FOR VISITING\")\n",
    "            break\n",
    "        else:\n",
    "            promote(SCHOOL)\n",
    "print(\"THE FINAL INFO OF THE PYTHON SCHOOL\")\n",
    "head=[\"CLASS NAME\",\"STUDENTS\",\"PERCENTAGES\"]\n",
    "print(tabulate(SCHOOL,headers=head,tablefmt=\"rounded_grid\"))\n"
   ]
  },
  {
   "cell_type": "code",
   "execution_count": null,
   "id": "f962dac4-ab44-4c89-8710-1ef29594a341",
   "metadata": {},
   "outputs": [],
   "source": []
  }
 ],
 "metadata": {
  "kernelspec": {
   "display_name": "Python 3 (ipykernel)",
   "language": "python",
   "name": "python3"
  },
  "language_info": {
   "codemirror_mode": {
    "name": "ipython",
    "version": 3
   },
   "file_extension": ".py",
   "mimetype": "text/x-python",
   "name": "python",
   "nbconvert_exporter": "python",
   "pygments_lexer": "ipython3",
   "version": "3.10.11"
  }
 },
 "nbformat": 4,
 "nbformat_minor": 5
}
