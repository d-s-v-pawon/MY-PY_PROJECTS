{
 "cells": [
  {
   "cell_type": "code",
   "execution_count": 1,
   "id": "5720079e-d5f9-403e-8aed-a55b83b5d84d",
   "metadata": {},
   "outputs": [
    {
     "name": "stdin",
     "output_type": "stream",
     "text": [
      "ENTER THE FIRST MEMBER NAME: SIVA VENKATA PAVAN\n",
      "ENTER THE SECOND MEMBER NAME: MARUTHI\n"
     ]
    },
    {
     "name": "stdout",
     "output_type": "stream",
     "text": [
      "sivavenkatapavan\n",
      "maruthi\n",
      "THE RELATIONSHIP BETWEEN THE TWO PERSONS IS AFFECTION\n"
     ]
    }
   ],
   "source": [
    "NAME1=input(\"ENTER THE FIRST MEMBER NAME:\")\n",
    "NAME2=input(\"ENTER THE SECOND MEMBER NAME:\")\n",
    "NAME1=NAME1.replace(\" \",\"\")\n",
    "NAME2=NAME2.replace(\" \",\"\")\n",
    "NAME1=NAME1.lower()\n",
    "NAME2=NAME2.lower()\n",
    "print(NAME1)\n",
    "print(NAME2)\n",
    "def FLAMES():\n",
    "    pop_val=[]\n",
    "    for i in NAME1_L:\n",
    "        if i in NAME2_L:\n",
    "            INDEX=NAME2_L.index(i)\n",
    "            pop_val.append(NAME2_L.pop(INDEX))\n",
    "    for i in range(len(pop_val)):\n",
    "        NAME1_L.remove(pop_val[i])\n",
    "    NAME3_L=NAME1_L+NAME2_L\n",
    "    COUNT=len(NAME3_L)\n",
    "    FLAMES=[\"FRIENDS\",\"LOVE\",\"AFFECTION\",\"MARRIAGE\",\"ENEMIES\",\"SIBLINGS\"]\n",
    "    while(len(FLAMES)>1):\n",
    "        INDEX=((COUNT%len(FLAMES))-1)\n",
    "        if(INDEX>=0):\n",
    "            FLAMES=FLAMES[INDEX+1:]+FLAMES[:INDEX]\n",
    "        else:\n",
    "            FLAMES=FLAMES[:len(FLAMES)-1]\n",
    "    print(\"THE RELATIONSHIP BETWEEN THE TWO PERSONS IS\",FLAMES[0])\n",
    "if NAME1.isalpha() and NAME2.isalpha():\n",
    "    NAME1_L=list(NAME1)\n",
    "    NAME2_L=list(NAME2)\n",
    "    FLAMES()  "
   ]
  },
  {
   "cell_type": "code",
   "execution_count": null,
   "id": "b200d6b9-0e93-426d-8841-b3634b28cf42",
   "metadata": {},
   "outputs": [],
   "source": []
  }
 ],
 "metadata": {
  "kernelspec": {
   "display_name": "Python 3 (ipykernel)",
   "language": "python",
   "name": "python3"
  },
  "language_info": {
   "codemirror_mode": {
    "name": "ipython",
    "version": 3
   },
   "file_extension": ".py",
   "mimetype": "text/x-python",
   "name": "python",
   "nbconvert_exporter": "python",
   "pygments_lexer": "ipython3",
   "version": "3.10.11"
  }
 },
 "nbformat": 4,
 "nbformat_minor": 5
}
