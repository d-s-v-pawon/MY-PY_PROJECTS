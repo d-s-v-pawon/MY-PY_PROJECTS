{
 "cells": [
  {
   "cell_type": "code",
   "execution_count": null,
   "id": "5723497e-8dbd-4289-aca9-8aa6ca40b8a8",
   "metadata": {},
   "outputs": [],
   "source": [
    "import numpy as np\n",
    "SCHOOL=[['CLASS_1',['s','v','p','p'],[74.0, 76.0, 74.0,76.0]],\n",
    "        ['CLASS_2',['s','v','p'],[75.0,74.0,74.0]],\n",
    "        ['CLASS_3',['s','v','p'],[75.0,76.0,74.0]],\n",
    "        ['CLASS_4',['s','v','p'],[75.0,74.0,76.0]],\n",
    "        ['CLASS_5',['s','v','p'],[75.0,74.0,76.0]],\n",
    "        ['CLASS_6',['s','v','p'],[76.0,75.0,78.0]],\n",
    "        ['CLASS_7',['s','v','p'],[76.0,75.0,78.0]]]\n",
    "N_SCHOOL=[[[],[],[]],[[],[],[]],[[],[],[]],[[],[],[]],[[],[],[]],[[],[],[]],[[],[],[]]]\n",
    "def N_YEAR(SCHOOL,N_SCHOOL):\n",
    "    values_above_75 = [value for value in SCHOOL[len(SCHOOL)-1][2] if value > 75]\n",
    "    if len(values_above_75)>=1:\n",
    "        N_CLASS=[[]]\n",
    "        N_STU_NAMES=[]\n",
    "        N_PERCENT=[]\n",
    "        for i in range(len(SCHOOL)):\n",
    "            if i==len(SCHOOL)-1:\n",
    "                per=np.array(SCHOOL[i][2])\n",
    "                for j in SCHOOL[i][2]:\n",
    "                    INDIXES=np.where(per==j)[0]\n",
    "                    if j>75:\n",
    "                        if j not in N_PERCENT:\n",
    "                            for k in INDIXES:\n",
    "                                N_PERCENT.append(j)\n",
    "                                N_STU_NAMES.append(SCHOOL[i][1][k])\n",
    "                        else:\n",
    "                            pass\n",
    "                    else:\n",
    "                        if j not in N_SCHOOL[i][2]:\n",
    "                            for k in INDIXES:\n",
    "                                N_SCHOOL[i][2].append(j)\n",
    "                                N_SCHOOL[i][1].append(SCHOOL[i][1][k])\n",
    "                        else:\n",
    "                            pass\n",
    "            else:\n",
    "                per=np.array(SCHOOL[i][2])\n",
    "                for j in SCHOOL[i][2]:\n",
    "                    INDICES=np.where(per==j)[0]\n",
    "                    if(j>75):\n",
    "                        if j not in N_SCHOOL[i+1][2]:\n",
    "                            for k in INDICES:\n",
    "                                N_SCHOOL[i+1][2].append(j)\n",
    "                                N_SCHOOL[i+1][1].append(SCHOOL[i][1][k])\n",
    "                        else:\n",
    "                            pass\n",
    "                    else:\n",
    "                        if j not in N_SCHOOL[i][2]:\n",
    "                            for k in INDICES:\n",
    "                                N_SCHOOL[i][2].append(j)\n",
    "                                N_SCHOOL[i][1].append(SCHOOL[i][1][k])\n",
    "                        else:\n",
    "                            pass\n",
    "        N_CLASS.append(N_STU_NAMES)\n",
    "        N_CLASS.append(N_PERCENT)\n",
    "        N_SCHOOL.append(N_CLASS)\n",
    "    else:\n",
    "        for i in range(len(SCHOOL)):\n",
    "            per=np.array(SCHOOL[i][2])\n",
    "            for j in SCHOOL[i][2]:\n",
    "                INDICES=np.where(per==j)[0]\n",
    "                if(j>75):\n",
    "                    if j not in N_SCHOOL[i+1][2]:\n",
    "                        for k in INDICES:\n",
    "                            N_SCHOOL[i+1][2].append(j)\n",
    "                            N_SCHOOL[i+1][1].append(SCHOOL[i][1][k])\n",
    "                    else:\n",
    "                        pass\n",
    "                else:\n",
    "                    if j not in N_SCHOOL[i][2]:\n",
    "                        for k in INDICES:\n",
    "                            N_SCHOOL[i][2].append(j)\n",
    "                            N_SCHOOL[i][1].append(SCHOOL[i][1][k])\n",
    "                    else:\n",
    "                        pass\n",
    "        \n",
    "    print(N_SCHOOL)\n",
    "          \n",
    "N_YEAR(SCHOOL,N_SCHOOL)"
   ]
  },
  {
   "cell_type": "code",
   "execution_count": null,
   "id": "0119b7e4-5472-427b-8007-53a117784fe9",
   "metadata": {},
   "outputs": [],
   "source": [
    "def promote(SCHOOL):\n",
    "    print(\"THE SCHOOL CONSISTS OF THE FOLLOWING CLASSES:\")\n",
    "    j=0\n",
    "    for i in enumerate(SCHOOL,start=1):\n",
    "        print(i[0],SCHOOL[j][0])\n",
    "        j=j+1\n",
    "    while(True):\n",
    "        CLASS=int(input(\"ENTER THE NUMBER BEFORE THE CLASS OF WHICH STUDENT YOU ARE LIKELY TO KNOW THE PROMOTION STATUS:\"))\n",
    "        C_INDEX=SCHOOL[CLASS-1]\n",
    "        if(C_INDEX==SCHOOL[len(SCHOOL)-1]):\n",
    "            N_CLASS=[f\"CLASS_{CLASS+1}\"]\n",
    "            N_STU_NAMES=[]\n",
    "            N_PERCENT=[]\n",
    "            NAME=input(\"ENTER THE NAME OF THE STUDENT YOU ARE LIKELY TO KNOW THE PROMOTION STATUS:\")\n",
    "            NAME=NAME.lower()\n",
    "            if NAME in C_INDEX[1]:\n",
    "                INDEX=C_INDEX[1].index(NAME)\n",
    "                print(f\"THE PERCENTAGE OF {NAME} IS {C_INDEX[2][INDEX]}\")\n",
    "                if(C_INDEX[2][INDEX]<75):\n",
    "                    print(f\"SINCE THE PERCENTAGE OF {NAME} IS LESS THAN 75% HE'S NOT PROMOTED TO CLASS {int(CLASS)+1}\")\n",
    "                elif(C_INDEX[2][INDEX]>75):\n",
    "                    N_ITEM=C_INDEX[1].pop(INDEX)\n",
    "                    P_ITEM=C_INDEX[2].pop(INDEX)\n",
    "                    N_STU_NAMES.append(N_ITEM)\n",
    "                    N_PERCENT.append(P_ITEM)\n",
    "                    N_CLASS.append(N_STU_NAMES)\n",
    "                    N_CLASS.append(N_PERCENT)\n",
    "                    print(f\"THE STUDENT {NAME} IS PROMOTED TO THE CLASS {int(CLASS)+1}\")\n",
    "                    print(f\"HERE IS UPDATED THE CLASS {int(CLASS)+1} INFO\")\n",
    "                    print(N_CLASS)\n",
    "                else:\n",
    "                    print(f\"THE PROMOTION OF {NAME} TO CLASS {int(CLASS)+1} IS WITH HELD\")\n",
    "            else:\n",
    "                print(f\"THE STUDENT {NAME} NOT BELONGS TO CLASS {CLASS}\")\n",
    "        else:\n",
    "            N_INDEX=SCHOOL[CLASS]\n",
    "            NAME=input(\"ENTER THE NAME OF THE STUDENT YOU ARE LIKELY TO KNOW THE PROMOTION STATUS:\")\n",
    "            NAME=NAME.lower()\n",
    "            if NAME in C_INDEX[1]:\n",
    "                INDEX=C_INDEX[1].index(NAME)\n",
    "                print(f\"THE PERCENTAGE OF {NAME} IS {C_INDEX[2][INDEX]}\")\n",
    "                if(C_INDEX[2][INDEX]<75):\n",
    "                    print(f\"SINCE THE PERCENTAGE OF {NAME} IS LESS THAN 70% HE'S NOT PROMOTED TO CLASS {int(CLASS)+1}\")\n",
    "                elif(C_INDEX[2][INDEX]>75):\n",
    "                    N_ITEM=C_INDEX[1].pop(INDEX)\n",
    "                    P_ITEM=C_INDEX[2].pop(INDEX)\n",
    "                    N_INDEX[1].append(N_ITEM)\n",
    "                    N_INDEX[2].append(P_ITEM)\n",
    "                    print(f\"THE STUDENT {NAME} IS PROMOTED TO THE CLASS {int(CLASS)+1}\")\n",
    "                    print(f\"HERE IS UPDATED THE CLASS {int(CLASS)+1} INFO\")\n",
    "                    print(N_INDEX)\n",
    "                else:\n",
    "                    print(f\"THE PROMOTION OF {NAME} TO CLASS {int(CLASS)+1} IS WITH HELD\")\n",
    "            else:\n",
    "                print(f\"THE STUDENT {NAME} NOT BELONGS TO CLASS {CLASS}\")\n",
    "        CONTINUE=input(\"DO YOU WANT TO CHECK ANOTHER STUDENT STATUS(Y/N):\")\n",
    "        CONTINUE=CONTINUE.lower()\n",
    "        if not re.match(\"^[y&n]*$\",CONTINUE):\n",
    "            print(\"Error! Only letters Y AND N allowed!\")\n",
    "        else:\n",
    "            if(CONTINUE==\"n\"):\n",
    "                break\n",
    "            else:\n",
    "                pass"
   ]
  },
  {
   "cell_type": "code",
   "execution_count": 123,
   "id": "f6fd90fa-d8d2-48e6-b36e-9bc067f4646a",
   "metadata": {},
   "outputs": [],
   "source": [
    "class STANDARD:\n",
    "    def __init__(self,name,cap):\n",
    "        self.name=name\n",
    "        self.cap=cap\n",
    "class STUDENT:\n",
    "    def __init__(self,instance_of_STANDARD):\n",
    "        self.instance_of_STANDARD=instance_of_STANDARD\n",
    "    def __str__(self):\n",
    "        print(self.instance_of_STANDARD.name)\n",
    "    def STU_ENTRY(self):\n",
    "        print(self.instance_of_STANDARD.cap)"
   ]
  },
  {
   "cell_type": "code",
   "execution_count": 124,
   "id": "73b3b294-179d-44b1-a9fd-9a43bf07c3ab",
   "metadata": {},
   "outputs": [],
   "source": [
    "c1=STANDARD(1,10)"
   ]
  },
  {
   "cell_type": "code",
   "execution_count": 125,
   "id": "ddae77f4-62af-47d0-bedb-ac65156df4d2",
   "metadata": {},
   "outputs": [],
   "source": [
    "c2=STUDENT(c1)"
   ]
  },
  {
   "cell_type": "code",
   "execution_count": 126,
   "id": "a5f44822-a058-4c53-8bcb-94706aaaa9a1",
   "metadata": {},
   "outputs": [
    {
     "name": "stdout",
     "output_type": "stream",
     "text": [
      "10\n"
     ]
    }
   ],
   "source": [
    "c2.STU_ENTRY()"
   ]
  },
  {
   "cell_type": "code",
   "execution_count": 127,
   "id": "c0f2e222-f588-4bae-b742-1d3d73fac2a1",
   "metadata": {},
   "outputs": [
    {
     "name": "stdout",
     "output_type": "stream",
     "text": [
      "1\n"
     ]
    }
   ],
   "source": [
    "c2.__str__()"
   ]
  },
  {
   "cell_type": "code",
   "execution_count": 129,
   "id": "3126f2f3-249f-40cf-adfa-86b8399be389",
   "metadata": {},
   "outputs": [
    {
     "name": "stdout",
     "output_type": "stream",
     "text": [
      "Tome created with title: Book of Secrets\n"
     ]
    }
   ],
   "source": [
    "class EnchantedTome:\n",
    "    def __new__(cls, title):\n",
    "        instance = super().__new__(cls)\n",
    "        instance.title = title\n",
    "        print(f\"Tome created with title: {instance.title}\")\n",
    "        return instance\n",
    "\n",
    "# Creating an instance\n",
    "ancient_tome = EnchantedTome(title=\"Book of Secrets\")\n",
    "# Output:\n",
    "# Tome created with title: Book of Secrets\n"
   ]
  },
  {
   "cell_type": "code",
   "execution_count": 120,
   "id": "92576ba9-3837-4b91-bc1a-81a09d2e536c",
   "metadata": {},
   "outputs": [
    {
     "name": "stdout",
     "output_type": "stream",
     "text": [
      "['STU_ENTRY', '__class__', '__delattr__', '__dict__', '__dir__', '__doc__', '__eq__', '__format__', '__ge__', '__getattribute__', '__gt__', '__hash__', '__init__', '__init_subclass__', '__le__', '__lt__', '__module__', '__ne__', '__new__', '__reduce__', '__reduce_ex__', '__repr__', '__setattr__', '__sizeof__', '__str__', '__subclasshook__', '__weakref__']\n"
     ]
    }
   ],
   "source": [
    "print(dir(STUDENT))"
   ]
  },
  {
   "cell_type": "code",
   "execution_count": 121,
   "id": "3c661d99-d4d9-4318-8c1b-99c621acbd45",
   "metadata": {},
   "outputs": [
    {
     "name": "stdout",
     "output_type": "stream",
     "text": [
      "Firebreath ability activated!\n"
     ]
    }
   ],
   "source": [
    "class MagicalCreature:\n",
    "    def __getattr__(self, ability_name):\n",
    "        return f\"{ability_name.capitalize()} ability activated!\"\n",
    "\n",
    "dragon = MagicalCreature()\n",
    "print(dragon.firebreath)\n",
    "# Output: Firebreath ability activated!\n"
   ]
  },
  {
   "cell_type": "code",
   "execution_count": 122,
   "id": "33608e3c-b3b1-4731-b508-25bd29bc621e",
   "metadata": {},
   "outputs": [
    {
     "name": "stdout",
     "output_type": "stream",
     "text": [
      "Searching for the forbidden book: necronomicon\n"
     ]
    }
   ],
   "source": [
    "class ForbiddenLibrary:\n",
    "    def __getattr__(self, book_name):\n",
    "        print(f\"Searching for the forbidden book: {book_name}\")\n",
    "        # You can return a value here or raise an AttributeError.\n",
    "\n",
    "library = ForbiddenLibrary()\n",
    "library.necronomicon\n",
    "# Output: Searching for the forbidden book: necronomicon\n"
   ]
  },
  {
   "cell_type": "code",
   "execution_count": null,
   "id": "94c780b4-8d56-4a77-bf8c-c3851441c9ff",
   "metadata": {},
   "outputs": [],
   "source": []
  }
 ],
 "metadata": {
  "kernelspec": {
   "display_name": "Python 3 (ipykernel)",
   "language": "python",
   "name": "python3"
  },
  "language_info": {
   "codemirror_mode": {
    "name": "ipython",
    "version": 3
   },
   "file_extension": ".py",
   "mimetype": "text/x-python",
   "name": "python",
   "nbconvert_exporter": "python",
   "pygments_lexer": "ipython3",
   "version": "3.10.11"
  }
 },
 "nbformat": 4,
 "nbformat_minor": 5
}
