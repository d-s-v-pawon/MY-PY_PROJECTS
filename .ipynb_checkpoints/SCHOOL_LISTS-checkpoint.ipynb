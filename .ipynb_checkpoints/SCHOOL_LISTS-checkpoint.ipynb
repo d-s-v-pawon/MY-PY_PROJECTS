{
 "cells": [
  {
   "cell_type": "markdown",
   "id": "588d6c4f-9ef1-42e5-a2e8-f174bbe0fd32",
   "metadata": {},
   "source": [
    "<h1><span style=\"color:orange\">WELCOME TO PYTHON SCHOOL</span></h1>"
   ]
  },
  {
   "cell_type": "markdown",
   "id": "00f790fa-838e-4300-a8b0-6bb610b7c978",
   "metadata": {},
   "source": [
    "<h3><span style=\"color:aqua\">THE FINAL RESULTS OF THE STUDENTS FOR THE CURRENT YEAR IS AS FOLLOWS</span></h3>"
   ]
  },
  {
   "cell_type": "code",
   "execution_count": 52,
   "id": "09411aac-770a-415f-8147-5d9068b12a5c",
   "metadata": {},
   "outputs": [
    {
     "name": "stdout",
     "output_type": "stream",
     "text": [
      "╭──────────────┬────────────────────────────────────────────────────────────────────────────────────────────────────────┬──────────────────────────────────────────────────────────────╮\n",
      "│ CLASS NAME   │ STUDENTS                                                                                               │ PERCENTAGES                                                  │\n",
      "├──────────────┼────────────────────────────────────────────────────────────────────────────────────────────────────────┼──────────────────────────────────────────────────────────────┤\n",
      "│ CLASS_1      │ ['siva', 'venkat', 'pavan', 'syamala', 'narayana', 'bharathi', 'charani', 'ahmad', 'manikanta', 'sai'] │ [56.0, 6.0, 67.0, 78.0, 65.0, 67.0, 78.0, 89.0, 98.0, 89.0]  │\n",
      "├──────────────┼────────────────────────────────────────────────────────────────────────────────────────────────────────┼──────────────────────────────────────────────────────────────┤\n",
      "│ CLASS_2      │ ['modi', 'chadra', 'jagan', 'loki', 'pawan', 'amit', 'murmu', 'rammohan', 'ashmith', 'yogi']           │ [99.0, 88.0, 77.0, 66.0, 55.0, 44.0, 33.0, 22.0, 77.0, 66.0] │\n",
      "├──────────────┼────────────────────────────────────────────────────────────────────────────────────────────────────────┼──────────────────────────────────────────────────────────────┤\n",
      "│ CLASS_3      │ ['ganesh', 'subbu', 'lakshmi', 'saraswathi', 'krishna', 'maruthi', 'ram', 'indra', 'brahma', 'surya']  │ [54.0, 65.0, 76.0, 87.0, 98.0, 98.0, 87.0, 67.0, 56.0, 45.0] │\n",
      "├──────────────┼────────────────────────────────────────────────────────────────────────────────────────────────────────┼──────────────────────────────────────────────────────────────┤\n",
      "│ CLASS_4      │ ['tom', 'jerry', 'henry', 'ben', 'peter', 'gwen', 'kevin', 'vilgax', 'shinchan', 'richie']             │ [92.0, 83.0, 74.0, 65.0, 56.0, 47.0, 38.0, 29.0, 65.0, 74.0] │\n",
      "├──────────────┼────────────────────────────────────────────────────────────────────────────────────────────────────────┼──────────────────────────────────────────────────────────────┤\n",
      "│ CLASS_5      │ ['kamal', 'rajni', 'ntr', 'anr', 'ramcharan', 'surya', 'vijay', 'vishal', 'yash', 'amir']              │ [23.0, 34.0, 45.0, 56.0, 67.0, 78.0, 89.0, 90.0, 78.0, 65.0] │\n",
      "╰──────────────┴────────────────────────────────────────────────────────────────────────────────────────────────────────┴──────────────────────────────────────────────────────────────╯\n"
     ]
    }
   ],
   "source": [
    "from tabulate import tabulate\n",
    "head=[\"CLASS NAME\",\"STUDENTS\",\"PERCENTAGES\"]\n",
    "print(tabulate(SCHOOL,headers=head,tablefmt=\"rounded_grid\"))"
   ]
  },
  {
   "cell_type": "markdown",
   "id": "30640aaa-acac-45ce-8d7f-abb0dc014910",
   "metadata": {},
   "source": [
    "<h4><span style=\"color:lightgreen\">THE POSITION OF STUDENTS FOR THE NEXT YEAR IN THE SCHOOL IS AS FOLLOWS</span></h2>"
   ]
  },
  {
   "cell_type": "code",
   "execution_count": 53,
   "id": "19aa98f6-5d72-4eb6-8d79-ab2734bba08c",
   "metadata": {},
   "outputs": [
    {
     "name": "stdout",
     "output_type": "stream",
     "text": [
      "╭──────────────┬──────────────────────────────────────────────────────────────────────────────────────────────────────────────────────────────────┬────────────────────────────────────────────────────────────────────────────────╮\n",
      "│ CLASS NAME   │ STUDENTS                                                                                                                         │ PERCENTAGES                                                                    │\n",
      "├──────────────┼──────────────────────────────────────────────────────────────────────────────────────────────────────────────────────────────────┼────────────────────────────────────────────────────────────────────────────────┤\n",
      "│ CLASS_1      │ ['siva', 'venkat', 'pavan', 'bharathi', 'narayana']                                                                              │ [56.0, 6.0, 67.0, 67.0, 65.0]                                                  │\n",
      "├──────────────┼──────────────────────────────────────────────────────────────────────────────────────────────────────────────────────────────────┼────────────────────────────────────────────────────────────────────────────────┤\n",
      "│ CLASS_2      │ ['syamala', 'charani', 'ahmad', 'sai', 'manikanta', 'loki', 'yogi', 'pawan', 'amit', 'murmu', 'rammohan']                        │ [78.0, 78.0, 89.0, 89.0, 98.0, 66.0, 66.0, 55.0, 44.0, 33.0, 22.0]             │\n",
      "├──────────────┼──────────────────────────────────────────────────────────────────────────────────────────────────────────────────────────────────┼────────────────────────────────────────────────────────────────────────────────┤\n",
      "│ CLASS_3      │ ['modi', 'chadra', 'jagan', 'ashmith', 'ganesh', 'subbu', 'indra', 'brahma', 'surya']                                            │ [99.0, 88.0, 77.0, 77.0, 54.0, 65.0, 67.0, 56.0, 45.0]                         │\n",
      "├──────────────┼──────────────────────────────────────────────────────────────────────────────────────────────────────────────────────────────────┼────────────────────────────────────────────────────────────────────────────────┤\n",
      "│ CLASS_4      │ ['lakshmi', 'saraswathi', 'ram', 'krishna', 'maruthi', 'henry', 'richie', 'ben', 'shinchan', 'peter', 'gwen', 'kevin', 'vilgax'] │ [76.0, 87.0, 87.0, 98.0, 98.0, 74.0, 74.0, 65.0, 65.0, 56.0, 47.0, 38.0, 29.0] │\n",
      "├──────────────┼──────────────────────────────────────────────────────────────────────────────────────────────────────────────────────────────────┼────────────────────────────────────────────────────────────────────────────────┤\n",
      "│ CLASS_5      │ ['tom', 'jerry', 'kamal', 'rajni', 'ntr', 'anr', 'ramcharan', 'amir']                                                            │ [92.0, 83.0, 23.0, 34.0, 45.0, 56.0, 67.0, 65.0]                               │\n",
      "├──────────────┼──────────────────────────────────────────────────────────────────────────────────────────────────────────────────────────────────┼────────────────────────────────────────────────────────────────────────────────┤\n",
      "│ CLASS_6      │ ['surya', 'yash', 'vijay', 'vishal']                                                                                             │ [78.0, 78.0, 89.0, 90.0]                                                       │\n",
      "╰──────────────┴──────────────────────────────────────────────────────────────────────────────────────────────────────────────────────────────────┴────────────────────────────────────────────────────────────────────────────────╯\n"
     ]
    }
   ],
   "source": [
    "from tabulate import tabulate\n",
    "head=[\"CLASS NAME\",\"STUDENTS\",\"PERCENTAGES\"]\n",
    "print(tabulate(N_SCHOOL,headers=head,tablefmt=\"rounded_grid\"))"
   ]
  },
  {
   "cell_type": "code",
   "execution_count": 51,
   "id": "2485fd41-750d-4284-baca-d387427f8ea2",
   "metadata": {},
   "outputs": [
    {
     "name": "stdout",
     "output_type": "stream",
     "text": [
      "WELCOME TO PYTHON SCHOOL\n"
     ]
    },
    {
     "name": "stdin",
     "output_type": "stream",
     "text": [
      "ENTER THE CLASS ONLY IN NUMBERS: 1\n"
     ]
    },
    {
     "name": "stdout",
     "output_type": "stream",
     "text": [
      "WELCOME TO THE CLASS 1\n"
     ]
    },
    {
     "name": "stdin",
     "output_type": "stream",
     "text": [
      "ENTER THE NUMBER OF STUDENTS THIS CLASS WILL HAVE: 10\n"
     ]
    },
    {
     "name": "stdout",
     "output_type": "stream",
     "text": [
      "THIS IS CLASS 1 WITH 10 STUDENTS\n",
      "ENTER THE DETAILS OF 10 STUDENTS\n"
     ]
    },
    {
     "name": "stdin",
     "output_type": "stream",
     "text": [
      "ENTER THE NAME OF THE STUDENT 1 OF CLASS 1: siva\n",
      "ENTER THE NAME OF THE STUDENT 2 OF CLASS 1: venkat\n",
      "ENTER THE NAME OF THE STUDENT 3 OF CLASS 1: pavan\n",
      "ENTER THE NAME OF THE STUDENT 4 OF CLASS 1: syamala\n",
      "ENTER THE NAME OF THE STUDENT 5 OF CLASS 1: narayana\n",
      "ENTER THE NAME OF THE STUDENT 6 OF CLASS 1: bharathi\n",
      "ENTER THE NAME OF THE STUDENT 7 OF CLASS 1: charani\n",
      "ENTER THE NAME OF THE STUDENT 8 OF CLASS 1: ahmad\n",
      "ENTER THE NAME OF THE STUDENT 9 OF CLASS 1: manikanta\n",
      "ENTER THE NAME OF THE STUDENT 10 OF CLASS 1: sai\n"
     ]
    },
    {
     "name": "stdout",
     "output_type": "stream",
     "text": [
      "NAMES OF THE CLASS 1 STUDENTS ARE AS FOLLOWS\n",
      "['siva', 'venkat', 'pavan', 'syamala', 'narayana', 'bharathi', 'charani', 'ahmad', 'manikanta', 'sai']\n"
     ]
    },
    {
     "name": "stdin",
     "output_type": "stream",
     "text": [
      "ENTER THE ANNUAL PERCENTAGE OF THE STUDENT 1 OF CLASS 1 56\n",
      "ENTER THE ANNUAL PERCENTAGE OF THE STUDENT 2 OF CLASS 1 6\n",
      "ENTER THE ANNUAL PERCENTAGE OF THE STUDENT 3 OF CLASS 1 67\n",
      "ENTER THE ANNUAL PERCENTAGE OF THE STUDENT 4 OF CLASS 1 78\n",
      "ENTER THE ANNUAL PERCENTAGE OF THE STUDENT 5 OF CLASS 1 65\n",
      "ENTER THE ANNUAL PERCENTAGE OF THE STUDENT 6 OF CLASS 1 67\n",
      "ENTER THE ANNUAL PERCENTAGE OF THE STUDENT 7 OF CLASS 1 78\n",
      "ENTER THE ANNUAL PERCENTAGE OF THE STUDENT 8 OF CLASS 1 89\n",
      "ENTER THE ANNUAL PERCENTAGE OF THE STUDENT 9 OF CLASS 1 98\n",
      "ENTER THE ANNUAL PERCENTAGE OF THE STUDENT 10 OF CLASS 1 89\n"
     ]
    },
    {
     "name": "stdout",
     "output_type": "stream",
     "text": [
      "PERCENTAGES OF THE RESPECTIVE STUDENTS ARE AS FOLLOWS\n",
      "[56.0, 6.0, 67.0, 78.0, 65.0, 67.0, 78.0, 89.0, 98.0, 89.0]\n",
      "['CLASS_1', ['siva', 'venkat', 'pavan', 'syamala', 'narayana', 'bharathi', 'charani', 'ahmad', 'manikanta', 'sai'], [56.0, 6.0, 67.0, 78.0, 65.0, 67.0, 78.0, 89.0, 98.0, 89.0]]\n",
      "CLASS 1 STUDENTS DETAILS IS AS FOLLOWS:\n",
      "[('siva', 56.0), ('venkat', 6.0), ('pavan', 67.0), ('syamala', 78.0), ('narayana', 65.0), ('bharathi', 67.0), ('charani', 78.0), ('ahmad', 89.0), ('manikanta', 98.0), ('sai', 89.0)]\n",
      "THE ENTRY OF STUDENT DETAILS OF CLASS 1 IS FINISHED\n"
     ]
    },
    {
     "name": "stdin",
     "output_type": "stream",
     "text": [
      "DO YOU WANT TO ENTER THE DETAILS OF ANOTHER CLASS STUDENTS(Y/N): y\n",
      "ENTER THE CLASS ONLY IN NUMBERS: 2\n"
     ]
    },
    {
     "name": "stdout",
     "output_type": "stream",
     "text": [
      "WELCOME TO THE CLASS 2\n"
     ]
    },
    {
     "name": "stdin",
     "output_type": "stream",
     "text": [
      "ENTER THE NUMBER OF STUDENTS THIS CLASS WILL HAVE: 10\n"
     ]
    },
    {
     "name": "stdout",
     "output_type": "stream",
     "text": [
      "THIS IS CLASS 2 WITH 10 STUDENTS\n",
      "ENTER THE DETAILS OF 10 STUDENTS\n"
     ]
    },
    {
     "name": "stdin",
     "output_type": "stream",
     "text": [
      "ENTER THE NAME OF THE STUDENT 1 OF CLASS 2: modi\n",
      "ENTER THE NAME OF THE STUDENT 2 OF CLASS 2: chadra\n",
      "ENTER THE NAME OF THE STUDENT 3 OF CLASS 2: jagan\n",
      "ENTER THE NAME OF THE STUDENT 4 OF CLASS 2: loki\n",
      "ENTER THE NAME OF THE STUDENT 5 OF CLASS 2: pawan\n",
      "ENTER THE NAME OF THE STUDENT 6 OF CLASS 2: amit\n",
      "ENTER THE NAME OF THE STUDENT 7 OF CLASS 2: murmu\n",
      "ENTER THE NAME OF THE STUDENT 8 OF CLASS 2: rammohan\n",
      "ENTER THE NAME OF THE STUDENT 9 OF CLASS 2: ashmith\n",
      "ENTER THE NAME OF THE STUDENT 10 OF CLASS 2: yogi\n"
     ]
    },
    {
     "name": "stdout",
     "output_type": "stream",
     "text": [
      "NAMES OF THE CLASS 2 STUDENTS ARE AS FOLLOWS\n",
      "['modi', 'chadra', 'jagan', 'loki', 'pawan', 'amit', 'murmu', 'rammohan', 'ashmith', 'yogi']\n"
     ]
    },
    {
     "name": "stdin",
     "output_type": "stream",
     "text": [
      "ENTER THE ANNUAL PERCENTAGE OF THE STUDENT 1 OF CLASS 2 99\n",
      "ENTER THE ANNUAL PERCENTAGE OF THE STUDENT 2 OF CLASS 2 88\n",
      "ENTER THE ANNUAL PERCENTAGE OF THE STUDENT 3 OF CLASS 2 77\n",
      "ENTER THE ANNUAL PERCENTAGE OF THE STUDENT 4 OF CLASS 2 66\n",
      "ENTER THE ANNUAL PERCENTAGE OF THE STUDENT 5 OF CLASS 2 55\n",
      "ENTER THE ANNUAL PERCENTAGE OF THE STUDENT 6 OF CLASS 2 44\n",
      "ENTER THE ANNUAL PERCENTAGE OF THE STUDENT 7 OF CLASS 2 33\n",
      "ENTER THE ANNUAL PERCENTAGE OF THE STUDENT 8 OF CLASS 2 22\n",
      "ENTER THE ANNUAL PERCENTAGE OF THE STUDENT 9 OF CLASS 2 77\n",
      "ENTER THE ANNUAL PERCENTAGE OF THE STUDENT 10 OF CLASS 2 66\n"
     ]
    },
    {
     "name": "stdout",
     "output_type": "stream",
     "text": [
      "PERCENTAGES OF THE RESPECTIVE STUDENTS ARE AS FOLLOWS\n",
      "[99.0, 88.0, 77.0, 66.0, 55.0, 44.0, 33.0, 22.0, 77.0, 66.0]\n",
      "['CLASS_2', ['modi', 'chadra', 'jagan', 'loki', 'pawan', 'amit', 'murmu', 'rammohan', 'ashmith', 'yogi'], [99.0, 88.0, 77.0, 66.0, 55.0, 44.0, 33.0, 22.0, 77.0, 66.0]]\n",
      "CLASS 2 STUDENTS DETAILS IS AS FOLLOWS:\n",
      "[('modi', 99.0), ('chadra', 88.0), ('jagan', 77.0), ('loki', 66.0), ('pawan', 55.0), ('amit', 44.0), ('murmu', 33.0), ('rammohan', 22.0), ('ashmith', 77.0), ('yogi', 66.0)]\n",
      "THE ENTRY OF STUDENT DETAILS OF CLASS 2 IS FINISHED\n"
     ]
    },
    {
     "name": "stdin",
     "output_type": "stream",
     "text": [
      "DO YOU WANT TO ENTER THE DETAILS OF ANOTHER CLASS STUDENTS(Y/N): y\n",
      "ENTER THE CLASS ONLY IN NUMBERS: 3\n"
     ]
    },
    {
     "name": "stdout",
     "output_type": "stream",
     "text": [
      "WELCOME TO THE CLASS 3\n"
     ]
    },
    {
     "name": "stdin",
     "output_type": "stream",
     "text": [
      "ENTER THE NUMBER OF STUDENTS THIS CLASS WILL HAVE: 10\n"
     ]
    },
    {
     "name": "stdout",
     "output_type": "stream",
     "text": [
      "THIS IS CLASS 3 WITH 10 STUDENTS\n",
      "ENTER THE DETAILS OF 10 STUDENTS\n"
     ]
    },
    {
     "name": "stdin",
     "output_type": "stream",
     "text": [
      "ENTER THE NAME OF THE STUDENT 1 OF CLASS 3: ganesh\n",
      "ENTER THE NAME OF THE STUDENT 2 OF CLASS 3: subbu\n",
      "ENTER THE NAME OF THE STUDENT 3 OF CLASS 3: lakshmi\n",
      "ENTER THE NAME OF THE STUDENT 4 OF CLASS 3: saraswathi\n",
      "ENTER THE NAME OF THE STUDENT 5 OF CLASS 3: krishna\n",
      "ENTER THE NAME OF THE STUDENT 6 OF CLASS 3: maruthi\n",
      "ENTER THE NAME OF THE STUDENT 7 OF CLASS 3: ram\n",
      "ENTER THE NAME OF THE STUDENT 8 OF CLASS 3: indra\n",
      "ENTER THE NAME OF THE STUDENT 9 OF CLASS 3: brahma\n",
      "ENTER THE NAME OF THE STUDENT 10 OF CLASS 3: surya\n"
     ]
    },
    {
     "name": "stdout",
     "output_type": "stream",
     "text": [
      "NAMES OF THE CLASS 3 STUDENTS ARE AS FOLLOWS\n",
      "['ganesh', 'subbu', 'lakshmi', 'saraswathi', 'krishna', 'maruthi', 'ram', 'indra', 'brahma', 'surya']\n"
     ]
    },
    {
     "name": "stdin",
     "output_type": "stream",
     "text": [
      "ENTER THE ANNUAL PERCENTAGE OF THE STUDENT 1 OF CLASS 3 54\n",
      "ENTER THE ANNUAL PERCENTAGE OF THE STUDENT 2 OF CLASS 3 65\n",
      "ENTER THE ANNUAL PERCENTAGE OF THE STUDENT 3 OF CLASS 3 76\n",
      "ENTER THE ANNUAL PERCENTAGE OF THE STUDENT 4 OF CLASS 3 87\n",
      "ENTER THE ANNUAL PERCENTAGE OF THE STUDENT 5 OF CLASS 3 98\n",
      "ENTER THE ANNUAL PERCENTAGE OF THE STUDENT 6 OF CLASS 3 98\n",
      "ENTER THE ANNUAL PERCENTAGE OF THE STUDENT 7 OF CLASS 3 87\n",
      "ENTER THE ANNUAL PERCENTAGE OF THE STUDENT 8 OF CLASS 3 67\n",
      "ENTER THE ANNUAL PERCENTAGE OF THE STUDENT 9 OF CLASS 3 56\n",
      "ENTER THE ANNUAL PERCENTAGE OF THE STUDENT 10 OF CLASS 3 45\n"
     ]
    },
    {
     "name": "stdout",
     "output_type": "stream",
     "text": [
      "PERCENTAGES OF THE RESPECTIVE STUDENTS ARE AS FOLLOWS\n",
      "[54.0, 65.0, 76.0, 87.0, 98.0, 98.0, 87.0, 67.0, 56.0, 45.0]\n",
      "['CLASS_3', ['ganesh', 'subbu', 'lakshmi', 'saraswathi', 'krishna', 'maruthi', 'ram', 'indra', 'brahma', 'surya'], [54.0, 65.0, 76.0, 87.0, 98.0, 98.0, 87.0, 67.0, 56.0, 45.0]]\n",
      "CLASS 3 STUDENTS DETAILS IS AS FOLLOWS:\n",
      "[('ganesh', 54.0), ('subbu', 65.0), ('lakshmi', 76.0), ('saraswathi', 87.0), ('krishna', 98.0), ('maruthi', 98.0), ('ram', 87.0), ('indra', 67.0), ('brahma', 56.0), ('surya', 45.0)]\n",
      "THE ENTRY OF STUDENT DETAILS OF CLASS 3 IS FINISHED\n"
     ]
    },
    {
     "name": "stdin",
     "output_type": "stream",
     "text": [
      "DO YOU WANT TO ENTER THE DETAILS OF ANOTHER CLASS STUDENTS(Y/N): y\n",
      "ENTER THE CLASS ONLY IN NUMBERS: 4\n"
     ]
    },
    {
     "name": "stdout",
     "output_type": "stream",
     "text": [
      "WELCOME TO THE CLASS 4\n"
     ]
    },
    {
     "name": "stdin",
     "output_type": "stream",
     "text": [
      "ENTER THE NUMBER OF STUDENTS THIS CLASS WILL HAVE: 10\n"
     ]
    },
    {
     "name": "stdout",
     "output_type": "stream",
     "text": [
      "THIS IS CLASS 4 WITH 10 STUDENTS\n",
      "ENTER THE DETAILS OF 10 STUDENTS\n"
     ]
    },
    {
     "name": "stdin",
     "output_type": "stream",
     "text": [
      "ENTER THE NAME OF THE STUDENT 1 OF CLASS 4: tom\n",
      "ENTER THE NAME OF THE STUDENT 2 OF CLASS 4: jerry\n",
      "ENTER THE NAME OF THE STUDENT 3 OF CLASS 4: henry\n",
      "ENTER THE NAME OF THE STUDENT 4 OF CLASS 4: ben\n",
      "ENTER THE NAME OF THE STUDENT 5 OF CLASS 4: peter\n",
      "ENTER THE NAME OF THE STUDENT 6 OF CLASS 4: gwen\n",
      "ENTER THE NAME OF THE STUDENT 7 OF CLASS 4: kevin\n",
      "ENTER THE NAME OF THE STUDENT 8 OF CLASS 4: vilgax\n",
      "ENTER THE NAME OF THE STUDENT 9 OF CLASS 4: shinchan\n",
      "ENTER THE NAME OF THE STUDENT 10 OF CLASS 4: richie\n"
     ]
    },
    {
     "name": "stdout",
     "output_type": "stream",
     "text": [
      "NAMES OF THE CLASS 4 STUDENTS ARE AS FOLLOWS\n",
      "['tom', 'jerry', 'henry', 'ben', 'peter', 'gwen', 'kevin', 'vilgax', 'shinchan', 'richie']\n"
     ]
    },
    {
     "name": "stdin",
     "output_type": "stream",
     "text": [
      "ENTER THE ANNUAL PERCENTAGE OF THE STUDENT 1 OF CLASS 4 92\n",
      "ENTER THE ANNUAL PERCENTAGE OF THE STUDENT 2 OF CLASS 4 83\n",
      "ENTER THE ANNUAL PERCENTAGE OF THE STUDENT 3 OF CLASS 4 74\n",
      "ENTER THE ANNUAL PERCENTAGE OF THE STUDENT 4 OF CLASS 4 65\n",
      "ENTER THE ANNUAL PERCENTAGE OF THE STUDENT 5 OF CLASS 4 56\n",
      "ENTER THE ANNUAL PERCENTAGE OF THE STUDENT 6 OF CLASS 4 47\n",
      "ENTER THE ANNUAL PERCENTAGE OF THE STUDENT 7 OF CLASS 4 38\n",
      "ENTER THE ANNUAL PERCENTAGE OF THE STUDENT 8 OF CLASS 4 29\n",
      "ENTER THE ANNUAL PERCENTAGE OF THE STUDENT 9 OF CLASS 4 65\n",
      "ENTER THE ANNUAL PERCENTAGE OF THE STUDENT 10 OF CLASS 4 74\n"
     ]
    },
    {
     "name": "stdout",
     "output_type": "stream",
     "text": [
      "PERCENTAGES OF THE RESPECTIVE STUDENTS ARE AS FOLLOWS\n",
      "[92.0, 83.0, 74.0, 65.0, 56.0, 47.0, 38.0, 29.0, 65.0, 74.0]\n",
      "['CLASS_4', ['tom', 'jerry', 'henry', 'ben', 'peter', 'gwen', 'kevin', 'vilgax', 'shinchan', 'richie'], [92.0, 83.0, 74.0, 65.0, 56.0, 47.0, 38.0, 29.0, 65.0, 74.0]]\n",
      "CLASS 4 STUDENTS DETAILS IS AS FOLLOWS:\n",
      "[('tom', 92.0), ('jerry', 83.0), ('henry', 74.0), ('ben', 65.0), ('peter', 56.0), ('gwen', 47.0), ('kevin', 38.0), ('vilgax', 29.0), ('shinchan', 65.0), ('richie', 74.0)]\n",
      "THE ENTRY OF STUDENT DETAILS OF CLASS 4 IS FINISHED\n"
     ]
    },
    {
     "name": "stdin",
     "output_type": "stream",
     "text": [
      "DO YOU WANT TO ENTER THE DETAILS OF ANOTHER CLASS STUDENTS(Y/N): y\n",
      "ENTER THE CLASS ONLY IN NUMBERS: 5\n"
     ]
    },
    {
     "name": "stdout",
     "output_type": "stream",
     "text": [
      "WELCOME TO THE CLASS 5\n"
     ]
    },
    {
     "name": "stdin",
     "output_type": "stream",
     "text": [
      "ENTER THE NUMBER OF STUDENTS THIS CLASS WILL HAVE: 10\n"
     ]
    },
    {
     "name": "stdout",
     "output_type": "stream",
     "text": [
      "THIS IS CLASS 5 WITH 10 STUDENTS\n",
      "ENTER THE DETAILS OF 10 STUDENTS\n"
     ]
    },
    {
     "name": "stdin",
     "output_type": "stream",
     "text": [
      "ENTER THE NAME OF THE STUDENT 1 OF CLASS 5: kamal\n",
      "ENTER THE NAME OF THE STUDENT 2 OF CLASS 5: rajni\n",
      "ENTER THE NAME OF THE STUDENT 3 OF CLASS 5: ntr\n",
      "ENTER THE NAME OF THE STUDENT 4 OF CLASS 5: anr\n",
      "ENTER THE NAME OF THE STUDENT 5 OF CLASS 5: ramcharan\n",
      "ENTER THE NAME OF THE STUDENT 6 OF CLASS 5: surya\n",
      "ENTER THE NAME OF THE STUDENT 7 OF CLASS 5: vijay\n",
      "ENTER THE NAME OF THE STUDENT 8 OF CLASS 5: vishal\n",
      "ENTER THE NAME OF THE STUDENT 9 OF CLASS 5: yash\n",
      "ENTER THE NAME OF THE STUDENT 10 OF CLASS 5: amir\n"
     ]
    },
    {
     "name": "stdout",
     "output_type": "stream",
     "text": [
      "NAMES OF THE CLASS 5 STUDENTS ARE AS FOLLOWS\n",
      "['kamal', 'rajni', 'ntr', 'anr', 'ramcharan', 'surya', 'vijay', 'vishal', 'yash', 'amir']\n"
     ]
    },
    {
     "name": "stdin",
     "output_type": "stream",
     "text": [
      "ENTER THE ANNUAL PERCENTAGE OF THE STUDENT 1 OF CLASS 5 23\n",
      "ENTER THE ANNUAL PERCENTAGE OF THE STUDENT 2 OF CLASS 5 34\n",
      "ENTER THE ANNUAL PERCENTAGE OF THE STUDENT 3 OF CLASS 5 45\n",
      "ENTER THE ANNUAL PERCENTAGE OF THE STUDENT 4 OF CLASS 5 56\n",
      "ENTER THE ANNUAL PERCENTAGE OF THE STUDENT 5 OF CLASS 5 67\n",
      "ENTER THE ANNUAL PERCENTAGE OF THE STUDENT 6 OF CLASS 5 78\n",
      "ENTER THE ANNUAL PERCENTAGE OF THE STUDENT 7 OF CLASS 5 89\n",
      "ENTER THE ANNUAL PERCENTAGE OF THE STUDENT 8 OF CLASS 5 90\n",
      "ENTER THE ANNUAL PERCENTAGE OF THE STUDENT 9 OF CLASS 5 78\n",
      "ENTER THE ANNUAL PERCENTAGE OF THE STUDENT 10 OF CLASS 5 65\n"
     ]
    },
    {
     "name": "stdout",
     "output_type": "stream",
     "text": [
      "PERCENTAGES OF THE RESPECTIVE STUDENTS ARE AS FOLLOWS\n",
      "[23.0, 34.0, 45.0, 56.0, 67.0, 78.0, 89.0, 90.0, 78.0, 65.0]\n",
      "['CLASS_5', ['kamal', 'rajni', 'ntr', 'anr', 'ramcharan', 'surya', 'vijay', 'vishal', 'yash', 'amir'], [23.0, 34.0, 45.0, 56.0, 67.0, 78.0, 89.0, 90.0, 78.0, 65.0]]\n",
      "CLASS 5 STUDENTS DETAILS IS AS FOLLOWS:\n",
      "[('kamal', 23.0), ('rajni', 34.0), ('ntr', 45.0), ('anr', 56.0), ('ramcharan', 67.0), ('surya', 78.0), ('vijay', 89.0), ('vishal', 90.0), ('yash', 78.0), ('amir', 65.0)]\n",
      "THE ENTRY OF STUDENT DETAILS OF CLASS 5 IS FINISHED\n"
     ]
    },
    {
     "name": "stdin",
     "output_type": "stream",
     "text": [
      "DO YOU WANT TO ENTER THE DETAILS OF ANOTHER CLASS STUDENTS(Y/N): n\n"
     ]
    },
    {
     "name": "stdout",
     "output_type": "stream",
     "text": [
      "╭──────────────┬────────────────────────────────────────────────────────────────────────────────────────────────────────┬──────────────────────────────────────────────────────────────╮\n",
      "│ CLASS NAME   │ STUDENTS                                                                                               │ PERCENTAGES                                                  │\n",
      "├──────────────┼────────────────────────────────────────────────────────────────────────────────────────────────────────┼──────────────────────────────────────────────────────────────┤\n",
      "│ CLASS_1      │ ['siva', 'venkat', 'pavan', 'syamala', 'narayana', 'bharathi', 'charani', 'ahmad', 'manikanta', 'sai'] │ [56.0, 6.0, 67.0, 78.0, 65.0, 67.0, 78.0, 89.0, 98.0, 89.0]  │\n",
      "├──────────────┼────────────────────────────────────────────────────────────────────────────────────────────────────────┼──────────────────────────────────────────────────────────────┤\n",
      "│ CLASS_2      │ ['modi', 'chadra', 'jagan', 'loki', 'pawan', 'amit', 'murmu', 'rammohan', 'ashmith', 'yogi']           │ [99.0, 88.0, 77.0, 66.0, 55.0, 44.0, 33.0, 22.0, 77.0, 66.0] │\n",
      "├──────────────┼────────────────────────────────────────────────────────────────────────────────────────────────────────┼──────────────────────────────────────────────────────────────┤\n",
      "│ CLASS_3      │ ['ganesh', 'subbu', 'lakshmi', 'saraswathi', 'krishna', 'maruthi', 'ram', 'indra', 'brahma', 'surya']  │ [54.0, 65.0, 76.0, 87.0, 98.0, 98.0, 87.0, 67.0, 56.0, 45.0] │\n",
      "├──────────────┼────────────────────────────────────────────────────────────────────────────────────────────────────────┼──────────────────────────────────────────────────────────────┤\n",
      "│ CLASS_4      │ ['tom', 'jerry', 'henry', 'ben', 'peter', 'gwen', 'kevin', 'vilgax', 'shinchan', 'richie']             │ [92.0, 83.0, 74.0, 65.0, 56.0, 47.0, 38.0, 29.0, 65.0, 74.0] │\n",
      "├──────────────┼────────────────────────────────────────────────────────────────────────────────────────────────────────┼──────────────────────────────────────────────────────────────┤\n",
      "│ CLASS_5      │ ['kamal', 'rajni', 'ntr', 'anr', 'ramcharan', 'surya', 'vijay', 'vishal', 'yash', 'amir']              │ [23.0, 34.0, 45.0, 56.0, 67.0, 78.0, 89.0, 90.0, 78.0, 65.0] │\n",
      "╰──────────────┴────────────────────────────────────────────────────────────────────────────────────────────────────────┴──────────────────────────────────────────────────────────────╯\n",
      "[['CLASS_1', ['siva', 'venkat', 'pavan', 'bharathi', 'narayana'], [56.0, 6.0, 67.0, 67.0, 65.0]], ['CLASS_2', ['syamala', 'charani', 'ahmad', 'sai', 'manikanta', 'loki', 'yogi', 'pawan', 'amit', 'murmu', 'rammohan'], [78.0, 78.0, 89.0, 89.0, 98.0, 66.0, 66.0, 55.0, 44.0, 33.0, 22.0]], ['CLASS_3', ['modi', 'chadra', 'jagan', 'ashmith', 'ganesh', 'subbu', 'indra', 'brahma', 'surya'], [99.0, 88.0, 77.0, 77.0, 54.0, 65.0, 67.0, 56.0, 45.0]], ['CLASS_4', ['lakshmi', 'saraswathi', 'ram', 'krishna', 'maruthi', 'henry', 'richie', 'ben', 'shinchan', 'peter', 'gwen', 'kevin', 'vilgax'], [76.0, 87.0, 87.0, 98.0, 98.0, 74.0, 74.0, 65.0, 65.0, 56.0, 47.0, 38.0, 29.0]], ['CLASS_5', ['tom', 'jerry', 'kamal', 'rajni', 'ntr', 'anr', 'ramcharan', 'amir'], [92.0, 83.0, 23.0, 34.0, 45.0, 56.0, 67.0, 65.0]], ['CLASS_6', ['surya', 'yash', 'vijay', 'vishal'], [78.0, 78.0, 89.0, 90.0]]]\n"
     ]
    },
    {
     "name": "stdin",
     "output_type": "stream",
     "text": [
      "DO YOU WANT TO KNOW THE PROMOTION STATUS OF ANY PARTICULAR STUDENT OF ANY CLASS FOR NEXT YEAR(Y/N): y\n"
     ]
    },
    {
     "name": "stdout",
     "output_type": "stream",
     "text": [
      "THE SCHOOL CONSISTS OF THE FOLLOWING CLASSES:\n",
      "[['CLASS_1', ['siva', 'venkat', 'pavan', 'syamala', 'narayana', 'bharathi', 'charani', 'ahmad', 'manikanta', 'sai'], [56.0, 6.0, 67.0, 78.0, 65.0, 67.0, 78.0, 89.0, 98.0, 89.0]], ['CLASS_2', ['modi', 'chadra', 'jagan', 'loki', 'pawan', 'amit', 'murmu', 'rammohan', 'ashmith', 'yogi'], [99.0, 88.0, 77.0, 66.0, 55.0, 44.0, 33.0, 22.0, 77.0, 66.0]], ['CLASS_3', ['ganesh', 'subbu', 'lakshmi', 'saraswathi', 'krishna', 'maruthi', 'ram', 'indra', 'brahma', 'surya'], [54.0, 65.0, 76.0, 87.0, 98.0, 98.0, 87.0, 67.0, 56.0, 45.0]], ['CLASS_4', ['tom', 'jerry', 'henry', 'ben', 'peter', 'gwen', 'kevin', 'vilgax', 'shinchan', 'richie'], [92.0, 83.0, 74.0, 65.0, 56.0, 47.0, 38.0, 29.0, 65.0, 74.0]], ['CLASS_5', ['kamal', 'rajni', 'ntr', 'anr', 'ramcharan', 'surya', 'vijay', 'vishal', 'yash', 'amir'], [23.0, 34.0, 45.0, 56.0, 67.0, 78.0, 89.0, 90.0, 78.0, 65.0]]]\n",
      "1 CLASS_1\n",
      "2 CLASS_2\n",
      "3 CLASS_3\n",
      "4 CLASS_4\n",
      "5 CLASS_5\n"
     ]
    },
    {
     "name": "stdin",
     "output_type": "stream",
     "text": [
      "ENTER THE NUMBER BEFORE THE CLASS OF WHICH STUDENT YOU ARE LIKELY TO KNOW THE PROMOTION STATUS: 1\n",
      "ENTER THE NAME OF THE STUDENT YOU ARE LIKELY TO KNOW THE PROMOTION STATUS: syamala\n"
     ]
    },
    {
     "name": "stdout",
     "output_type": "stream",
     "text": [
      "THE PERCENTAGE OF syamala IS 78.0\n",
      "['CLASS_2', ['modi', 'chadra', 'jagan', 'loki', 'pawan', 'amit', 'murmu', 'rammohan', 'ashmith', 'yogi'], [99.0, 88.0, 77.0, 66.0, 55.0, 44.0, 33.0, 22.0, 77.0, 66.0]]\n",
      "THE STUDENT syamala IS PROMOTED TO THE CLASS 2\n",
      "HERE IS UPDATED THE CLASS 2 INFO\n",
      "['CLASS_2', ['modi', 'chadra', 'jagan', 'loki', 'pawan', 'amit', 'murmu', 'rammohan', 'ashmith', 'yogi', 'syamala'], [99.0, 88.0, 77.0, 66.0, 55.0, 44.0, 33.0, 22.0, 77.0, 66.0, 78.0]]\n"
     ]
    },
    {
     "name": "stdin",
     "output_type": "stream",
     "text": [
      "DO YOU WANT TO CHECK ANOTHER STUDENT STATUS(Y/N): y\n",
      "ENTER THE NUMBER BEFORE THE CLASS OF WHICH STUDENT YOU ARE LIKELY TO KNOW THE PROMOTION STATUS: 2\n",
      "ENTER THE NAME OF THE STUDENT YOU ARE LIKELY TO KNOW THE PROMOTION STATUS: modi\n"
     ]
    },
    {
     "name": "stdout",
     "output_type": "stream",
     "text": [
      "THE PERCENTAGE OF modi IS 99.0\n",
      "['CLASS_3', ['ganesh', 'subbu', 'lakshmi', 'saraswathi', 'krishna', 'maruthi', 'ram', 'indra', 'brahma', 'surya'], [54.0, 65.0, 76.0, 87.0, 98.0, 98.0, 87.0, 67.0, 56.0, 45.0]]\n",
      "THE STUDENT modi IS PROMOTED TO THE CLASS 3\n",
      "HERE IS UPDATED THE CLASS 3 INFO\n",
      "['CLASS_3', ['ganesh', 'subbu', 'lakshmi', 'saraswathi', 'krishna', 'maruthi', 'ram', 'indra', 'brahma', 'surya', 'modi'], [54.0, 65.0, 76.0, 87.0, 98.0, 98.0, 87.0, 67.0, 56.0, 45.0, 99.0]]\n"
     ]
    },
    {
     "name": "stdin",
     "output_type": "stream",
     "text": [
      "DO YOU WANT TO CHECK ANOTHER STUDENT STATUS(Y/N): y\n",
      "ENTER THE NUMBER BEFORE THE CLASS OF WHICH STUDENT YOU ARE LIKELY TO KNOW THE PROMOTION STATUS: 3\n",
      "ENTER THE NAME OF THE STUDENT YOU ARE LIKELY TO KNOW THE PROMOTION STATUS: lakshmi\n"
     ]
    },
    {
     "name": "stdout",
     "output_type": "stream",
     "text": [
      "THE PERCENTAGE OF lakshmi IS 76.0\n",
      "['CLASS_4', ['tom', 'jerry', 'henry', 'ben', 'peter', 'gwen', 'kevin', 'vilgax', 'shinchan', 'richie'], [92.0, 83.0, 74.0, 65.0, 56.0, 47.0, 38.0, 29.0, 65.0, 74.0]]\n",
      "THE STUDENT lakshmi IS PROMOTED TO THE CLASS 4\n",
      "HERE IS UPDATED THE CLASS 4 INFO\n",
      "['CLASS_4', ['tom', 'jerry', 'henry', 'ben', 'peter', 'gwen', 'kevin', 'vilgax', 'shinchan', 'richie', 'lakshmi'], [92.0, 83.0, 74.0, 65.0, 56.0, 47.0, 38.0, 29.0, 65.0, 74.0, 76.0]]\n"
     ]
    },
    {
     "name": "stdin",
     "output_type": "stream",
     "text": [
      "DO YOU WANT TO CHECK ANOTHER STUDENT STATUS(Y/N): y\n",
      "ENTER THE NUMBER BEFORE THE CLASS OF WHICH STUDENT YOU ARE LIKELY TO KNOW THE PROMOTION STATUS: 4\n",
      "ENTER THE NAME OF THE STUDENT YOU ARE LIKELY TO KNOW THE PROMOTION STATUS: tom\n"
     ]
    },
    {
     "name": "stdout",
     "output_type": "stream",
     "text": [
      "THE PERCENTAGE OF tom IS 92.0\n",
      "['CLASS_5', ['kamal', 'rajni', 'ntr', 'anr', 'ramcharan', 'surya', 'vijay', 'vishal', 'yash', 'amir'], [23.0, 34.0, 45.0, 56.0, 67.0, 78.0, 89.0, 90.0, 78.0, 65.0]]\n",
      "THE STUDENT tom IS PROMOTED TO THE CLASS 5\n",
      "HERE IS UPDATED THE CLASS 5 INFO\n",
      "['CLASS_5', ['kamal', 'rajni', 'ntr', 'anr', 'ramcharan', 'surya', 'vijay', 'vishal', 'yash', 'amir', 'tom'], [23.0, 34.0, 45.0, 56.0, 67.0, 78.0, 89.0, 90.0, 78.0, 65.0, 92.0]]\n"
     ]
    },
    {
     "name": "stdin",
     "output_type": "stream",
     "text": [
      "DO YOU WANT TO CHECK ANOTHER STUDENT STATUS(Y/N): y\n",
      "ENTER THE NUMBER BEFORE THE CLASS OF WHICH STUDENT YOU ARE LIKELY TO KNOW THE PROMOTION STATUS: 5\n",
      "ENTER THE NAME OF THE STUDENT YOU ARE LIKELY TO KNOW THE PROMOTION STATUS: yash\n"
     ]
    },
    {
     "name": "stdout",
     "output_type": "stream",
     "text": [
      "THE PERCENTAGE OF yash IS 78.0\n",
      "THE STUDENT yash IS PROMOTED TO THE CLASS 6\n",
      "HERE IS UPDATED THE CLASS 6 INFO\n",
      "['CLASS_6', 'yash', 78.0]\n"
     ]
    },
    {
     "name": "stdin",
     "output_type": "stream",
     "text": [
      "DO YOU WANT TO CHECK ANOTHER STUDENT STATUS(Y/N): n\n",
      "DO YOU WANT TO KNOW THE PROMOTION STATUS OF ANY PARTICULAR STUDENT OF ANY CLASS FOR NEXT YEAR(Y/N): n\n"
     ]
    },
    {
     "name": "stdout",
     "output_type": "stream",
     "text": [
      "THANK YOU FOR VISITING\n",
      "THE FINAL INFO OF THE PYTHON SCHOOL\n",
      "╭──────────────┬──────────────────────────────────────────────────────────────────────────────────────────────────────────────────────────────────┬────────────────────────────────────────────────────────────────────────────────╮\n",
      "│ CLASS NAME   │ STUDENTS                                                                                                                         │ PERCENTAGES                                                                    │\n",
      "├──────────────┼──────────────────────────────────────────────────────────────────────────────────────────────────────────────────────────────────┼────────────────────────────────────────────────────────────────────────────────┤\n",
      "│ CLASS_1      │ ['siva', 'venkat', 'pavan', 'bharathi', 'narayana']                                                                              │ [56.0, 6.0, 67.0, 67.0, 65.0]                                                  │\n",
      "├──────────────┼──────────────────────────────────────────────────────────────────────────────────────────────────────────────────────────────────┼────────────────────────────────────────────────────────────────────────────────┤\n",
      "│ CLASS_2      │ ['syamala', 'charani', 'ahmad', 'sai', 'manikanta', 'loki', 'yogi', 'pawan', 'amit', 'murmu', 'rammohan']                        │ [78.0, 78.0, 89.0, 89.0, 98.0, 66.0, 66.0, 55.0, 44.0, 33.0, 22.0]             │\n",
      "├──────────────┼──────────────────────────────────────────────────────────────────────────────────────────────────────────────────────────────────┼────────────────────────────────────────────────────────────────────────────────┤\n",
      "│ CLASS_3      │ ['modi', 'chadra', 'jagan', 'ashmith', 'ganesh', 'subbu', 'indra', 'brahma', 'surya']                                            │ [99.0, 88.0, 77.0, 77.0, 54.0, 65.0, 67.0, 56.0, 45.0]                         │\n",
      "├──────────────┼──────────────────────────────────────────────────────────────────────────────────────────────────────────────────────────────────┼────────────────────────────────────────────────────────────────────────────────┤\n",
      "│ CLASS_4      │ ['lakshmi', 'saraswathi', 'ram', 'krishna', 'maruthi', 'henry', 'richie', 'ben', 'shinchan', 'peter', 'gwen', 'kevin', 'vilgax'] │ [76.0, 87.0, 87.0, 98.0, 98.0, 74.0, 74.0, 65.0, 65.0, 56.0, 47.0, 38.0, 29.0] │\n",
      "├──────────────┼──────────────────────────────────────────────────────────────────────────────────────────────────────────────────────────────────┼────────────────────────────────────────────────────────────────────────────────┤\n",
      "│ CLASS_5      │ ['tom', 'jerry', 'kamal', 'rajni', 'ntr', 'anr', 'ramcharan', 'amir']                                                            │ [92.0, 83.0, 23.0, 34.0, 45.0, 56.0, 67.0, 65.0]                               │\n",
      "├──────────────┼──────────────────────────────────────────────────────────────────────────────────────────────────────────────────────────────────┼────────────────────────────────────────────────────────────────────────────────┤\n",
      "│ CLASS_6      │ ['surya', 'yash', 'vijay', 'vishal']                                                                                             │ [78.0, 78.0, 89.0, 90.0]                                                       │\n",
      "╰──────────────┴──────────────────────────────────────────────────────────────────────────────────────────────────────────────────────────────────┴────────────────────────────────────────────────────────────────────────────────╯\n"
     ]
    }
   ],
   "source": [
    "import re\n",
    "import copy\n",
    "from tabulate import tabulate\n",
    "import numpy as np\n",
    "print(\"WELCOME TO PYTHON SCHOOL\")\n",
    "SCHOOL=[]\n",
    "N_SCHOOL=[]\n",
    "def get_numeric_input(prompt):\n",
    "    while True:\n",
    "        try:\n",
    "            user_input = input(prompt)[:2]\n",
    "            numeric_value = float(user_input)  # Convert input to a float\n",
    "            return numeric_value\n",
    "        except ValueError:\n",
    "            print(\"Please enter a valid numeric value.\")\n",
    "def CLASS_DETAILS(name,number):\n",
    "    print(f\"ENTER THE DETAILS OF {number} STUDENTS\")\n",
    "    cl_info=[]\n",
    "    n_cl_info=[]\n",
    "    cl_info.append(f\"CLASS_{int(name)}\")\n",
    "    n_cl_info.append(f\"CLASS_{int(name)}\")\n",
    "    STU_NAMES=[]\n",
    "    N_STU_NAMES=[]\n",
    "    n_cl_info.append(N_STU_NAMES)\n",
    "    while(True):\n",
    "        for i in range(1,int(number)+1):\n",
    "            while(True):\n",
    "                NAME=input(f\"ENTER THE NAME OF THE STUDENT {i} OF CLASS {name}:\")\n",
    "                if NAME.isalpha():\n",
    "                    NAME=NAME.lower()\n",
    "                    STU_NAMES.append(NAME)\n",
    "                    break\n",
    "                else:\n",
    "                    print(\"ENTER VALID NAME\")\n",
    "                    pass\n",
    "        if(len(STU_NAMES)==int(number)):\n",
    "            print(f\"NAMES OF THE CLASS {name} STUDENTS ARE AS FOLLOWS\")\n",
    "            print(STU_NAMES)\n",
    "            break\n",
    "    cl_info.append(STU_NAMES)\n",
    "    PERCENT=[]\n",
    "    N_PERCENT=[]\n",
    "    n_cl_info.append(N_PERCENT)\n",
    "    while(True):\n",
    "        for i in range(1,int(number)+1):\n",
    "            percentage=get_numeric_input(f\"ENTER THE ANNUAL PERCENTAGE OF THE STUDENT {i} OF CLASS {name}\")\n",
    "            PERCENT.append(percentage)\n",
    "        if(len(PERCENT)==int(number)):\n",
    "            print(\"PERCENTAGES OF THE RESPECTIVE STUDENTS ARE AS FOLLOWS\")\n",
    "            print(PERCENT)\n",
    "            break\n",
    "    cl_info.append(PERCENT)\n",
    "    print(cl_info)\n",
    "    SCHOOL.append(cl_info)\n",
    "    N_SCHOOL.append(n_cl_info)\n",
    "    stu_indiv_det=list(zip(STU_NAMES,PERCENT))\n",
    "    print(f\"CLASS {name} STUDENTS DETAILS IS AS FOLLOWS:\")\n",
    "    print(stu_indiv_det)\n",
    "    print(f\"THE ENTRY OF STUDENT DETAILS OF CLASS {name} IS FINISHED\")\n",
    "def START():\n",
    "    CLASS=input(\"ENTER THE CLASS ONLY IN NUMBERS:\")\n",
    "    if CLASS.isdigit():\n",
    "        print(\"WELCOME TO THE CLASS\",CLASS)\n",
    "        NO_S=input(\"ENTER THE NUMBER OF STUDENTS THIS CLASS WILL HAVE:\")\n",
    "        if NO_S.isdigit():\n",
    "            print(f\"THIS IS CLASS {CLASS} WITH {NO_S} STUDENTS\")\n",
    "            CLASS_DETAILS(CLASS,NO_S)\n",
    "        else:\n",
    "            print(\"PLEASE ENTER VALID DETAILS\")\n",
    "    else:\n",
    "        print(\"PLEASE ENTER VALID NUMBER\")\n",
    "    return CLASS\n",
    "n_class=START()\n",
    "while(True):\n",
    "    N_ENTRY=input(\"DO YOU WANT TO ENTER THE DETAILS OF ANOTHER CLASS STUDENTS(Y/N):\")\n",
    "    N_ENTRY=N_ENTRY.lower()\n",
    "    if not re.match(\"^[y&n]\",N_ENTRY):\n",
    "        print(\"Error! Only letters Y AND N allowed!\")\n",
    "    else:\n",
    "        if(N_ENTRY==\"n\"):\n",
    "            head=[\"CLASS NAME\",\"STUDENTS\",\"PERCENTAGES\"]\n",
    "            print(tabulate(SCHOOL,headers=head,tablefmt=\"rounded_grid\"))\n",
    "            SCHOOL_C=copy.deepcopy(SCHOOL)\n",
    "            break\n",
    "        else:\n",
    "            n_class=START()\n",
    "def N_YEAR(n_name,SCHOOL,N_SCHOOL):    \n",
    "    values_above_75 = [value for value in SCHOOL[len(SCHOOL)-1][2] if value > 75]\n",
    "    if len(values_above_75)>=1:\n",
    "        N_CLASS=[f\"CLASS_{int(n_name)+1}\"]\n",
    "        N_STU_NAMES=[]\n",
    "        N_PERCENT=[]\n",
    "        for i in range(len(SCHOOL)):\n",
    "            if i==len(SCHOOL)-1:\n",
    "                per=np.array(SCHOOL[i][2])\n",
    "                for j in SCHOOL[i][2]:\n",
    "                    INDIXES=np.where(per==j)[0]\n",
    "                    if j>75:\n",
    "                        if j not in N_PERCENT:\n",
    "                            for k in INDIXES:\n",
    "                                N_PERCENT.append(j)\n",
    "                                N_STU_NAMES.append(SCHOOL[i][1][k])\n",
    "                        else:\n",
    "                            pass\n",
    "                    else:\n",
    "                        if j not in N_SCHOOL[i][2]:\n",
    "                            for k in INDIXES:\n",
    "                                N_SCHOOL[i][2].append(j)\n",
    "                                N_SCHOOL[i][1].append(SCHOOL[i][1][k])\n",
    "                        else:\n",
    "                            pass\n",
    "            else:\n",
    "                per=np.array(SCHOOL[i][2])\n",
    "                for j in SCHOOL[i][2]:\n",
    "                    INDICES=np.where(per==j)[0]\n",
    "                    if(j>75):\n",
    "                        if j not in N_SCHOOL[i+1][2]:\n",
    "                            for k in INDICES:\n",
    "                                N_SCHOOL[i+1][2].append(j)\n",
    "                                N_SCHOOL[i+1][1].append(SCHOOL[i][1][k])\n",
    "                        else:\n",
    "                            pass\n",
    "                    else:\n",
    "                        if j not in N_SCHOOL[i][2]:\n",
    "                            for k in INDICES:\n",
    "                                N_SCHOOL[i][2].append(j)\n",
    "                                N_SCHOOL[i][1].append(SCHOOL[i][1][k])\n",
    "                        else:\n",
    "                            pass\n",
    "        N_CLASS.append(N_STU_NAMES)\n",
    "        N_CLASS.append(N_PERCENT)\n",
    "        N_SCHOOL.append(N_CLASS)\n",
    "    else:\n",
    "        for i in range(len(SCHOOL)):\n",
    "            per=np.array(SCHOOL[i][2])\n",
    "            for j in SCHOOL[i][2]:\n",
    "                INDICES=np.where(per==j)[0]\n",
    "                if(j>75):\n",
    "                    if j not in N_SCHOOL[i+1][2]:\n",
    "                        for k in INDICES:\n",
    "                            N_SCHOOL[i+1][2].append(j)\n",
    "                            N_SCHOOL[i+1][1].append(SCHOOL[i][1][k])\n",
    "                    else:\n",
    "                        pass\n",
    "                else:\n",
    "                    if j not in N_SCHOOL[i][2]:\n",
    "                        for k in INDICES:\n",
    "                            N_SCHOOL[i][2].append(j)\n",
    "                            N_SCHOOL[i][1].append(SCHOOL[i][1][k])\n",
    "                    else:\n",
    "                        pass\n",
    "        \n",
    "    print(N_SCHOOL)\n",
    "N_YEAR(n_class,SCHOOL,N_SCHOOL)\n",
    "def promote(SCHOOL_C):\n",
    "    print(\"THE SCHOOL CONSISTS OF THE FOLLOWING CLASSES:\")\n",
    "    print(SCHOOL_C)\n",
    "    j=0\n",
    "    for i in enumerate(SCHOOL_C,start=1):\n",
    "        print(i[0],SCHOOL_C[j][0])\n",
    "        j=j+1\n",
    "    while(True):\n",
    "        CLASS=int(input(\"ENTER THE NUMBER BEFORE THE CLASS OF WHICH STUDENT YOU ARE LIKELY TO KNOW THE PROMOTION STATUS:\"))\n",
    "        C_INDEX=SCHOOL_C[CLASS-1]\n",
    "        if CLASS!=len(SCHOOL_C):\n",
    "            N_INDEX=SCHOOL_C[CLASS]\n",
    "            NAME=input(\"ENTER THE NAME OF THE STUDENT YOU ARE LIKELY TO KNOW THE PROMOTION STATUS:\")\n",
    "            NAME=NAME.lower()\n",
    "            if NAME in C_INDEX[1]:\n",
    "                INDEX=C_INDEX[1].index(NAME)\n",
    "                print(f\"THE PERCENTAGE OF {NAME} IS {C_INDEX[2][INDEX]}\")\n",
    "                if(C_INDEX[2][INDEX]<75):\n",
    "                    print(f\"SINCE THE PERCENTAGE OF {NAME} IS LESS THAN 75% HE'S NOT PROMOTED TO CLASS {int(CLASS)+1}\")\n",
    "                elif(C_INDEX[2][INDEX]>75):\n",
    "                    N_LIST=[]\n",
    "                    N_LIST.append(f\"CLASS_{int(CLASS)+1}\")\n",
    "                    N_LIST.extend([N_INDEX[1]])\n",
    "                    N_LIST.extend([N_INDEX[2]])\n",
    "                    print(N_LIST)\n",
    "                    print(f\"THE STUDENT {NAME} IS PROMOTED TO THE CLASS {int(CLASS)+1}\")\n",
    "                    N_LIST[1].append(NAME)\n",
    "                    N_LIST[2].append(C_INDEX[2][INDEX])\n",
    "                    print(f\"HERE IS UPDATED THE CLASS {int(CLASS)+1} INFO\")\n",
    "                    print(N_LIST)\n",
    "                else:\n",
    "                    print(f\"THE PROMOTION OF {NAME} TO CLASS {int(CLASS)+1} IS WITH HELD\")\n",
    "            else:\n",
    "                print(f\"THE STUDENT {NAME} NOT BELONGS TO CLASS {CLASS}\")\n",
    "        else:\n",
    "            NAME=input(\"ENTER THE NAME OF THE STUDENT YOU ARE LIKELY TO KNOW THE PROMOTION STATUS:\")\n",
    "            NAME=NAME.lower()\n",
    "            if NAME in C_INDEX[1]:\n",
    "                INDEX=C_INDEX[1].index(NAME)\n",
    "                print(f\"THE PERCENTAGE OF {NAME} IS {C_INDEX[2][INDEX]}\")\n",
    "                if(C_INDEX[2][INDEX]<75):\n",
    "                    print(f\"SINCE THE PERCENTAGE OF {NAME} IS LESS THAN 75% HE'S NOT PROMOTED TO CLASS {int(CLASS)+1}\")\n",
    "                elif(C_INDEX[2][INDEX]>75):\n",
    "                    N_LIST=[f\"CLASS_{int(CLASS)+1}\"]\n",
    "                    print(f\"THE STUDENT {NAME} IS PROMOTED TO THE CLASS {int(CLASS)+1}\")\n",
    "                    N_LIST.append(NAME)\n",
    "                    N_LIST.append(C_INDEX[2][INDEX])\n",
    "                    print(f\"HERE IS UPDATED THE CLASS {int(CLASS)+1} INFO\")\n",
    "                    print(N_LIST)\n",
    "                else:\n",
    "                    print(f\"THE PROMOTION OF {NAME} TO CLASS {int(CLASS)+1} IS WITH HELD\")\n",
    "            else:\n",
    "                print(f\"THE STUDENT {NAME} NOT BELONGS TO CLASS {CLASS}\")\n",
    "        CONTINUE=input(\"DO YOU WANT TO CHECK ANOTHER STUDENT STATUS(Y/N):\")\n",
    "        CONTINUE=CONTINUE.lower()\n",
    "        if not re.match(\"^[y&n]\",CONTINUE):\n",
    "            print(\"Error! Only letters Y AND N allowed!\")\n",
    "        else:\n",
    "            if(CONTINUE==\"n\"):\n",
    "                break\n",
    "            else:\n",
    "                pass\n",
    "while(True):\n",
    "    N_ACTION=input(f\"DO YOU WANT TO KNOW THE PROMOTION STATUS OF ANY PARTICULAR STUDENT OF ANY CLASS FOR NEXT YEAR(Y/N):\")\n",
    "    N_ACTION=N_ACTION.lower()\n",
    "    if not re.match(\"^[y&n]\",N_ACTION):\n",
    "        print(\"Error! Only letters Y AND N allowed!\")\n",
    "    else:\n",
    "        if(N_ACTION==\"n\"):\n",
    "            print(\"THANK YOU FOR VISITING\")\n",
    "            break\n",
    "        else:\n",
    "            promote(SCHOOL_C)\n",
    "print(\"THE FINAL INFO OF THE PYTHON SCHOOL\")\n",
    "head=[\"CLASS NAME\",\"STUDENTS\",\"PERCENTAGES\"]\n",
    "print(tabulate(N_SCHOOL,headers=head,tablefmt=\"rounded_grid\"))\n"
   ]
  }
 ],
 "metadata": {
  "kernelspec": {
   "display_name": "Python 3 (ipykernel)",
   "language": "python",
   "name": "python3"
  },
  "language_info": {
   "codemirror_mode": {
    "name": "ipython",
    "version": 3
   },
   "file_extension": ".py",
   "mimetype": "text/x-python",
   "name": "python",
   "nbconvert_exporter": "python",
   "pygments_lexer": "ipython3",
   "version": "3.10.11"
  }
 },
 "nbformat": 4,
 "nbformat_minor": 5
}
