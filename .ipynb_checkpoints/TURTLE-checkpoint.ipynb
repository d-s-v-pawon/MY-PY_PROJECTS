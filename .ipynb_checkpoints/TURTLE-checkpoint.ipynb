{
 "cells": [
  {
   "cell_type": "code",
   "execution_count": 27,
   "id": "f3e0173d-7274-461a-a139-8e46f7de35a9",
   "metadata": {},
   "outputs": [
    {
     "name": "stdin",
     "output_type": "stream",
     "text": [
      "ENTER THE FIRST MEMBER NAME: siva VENKATA pavan\n",
      "ENTER THE SECOND MEMBER NAME: maniKANTA\n"
     ]
    },
    {
     "name": "stdout",
     "output_type": "stream",
     "text": [
      "sivavenkatapavan\n",
      "manikanta\n",
      "THE RELATIONSHIP BETWEEN THE TWO PERSONS IS ENEMIES\n"
     ]
    }
   ],
   "source": [
    "NAME1=input(\"ENTER THE FIRST MEMBER NAME:\")\n",
    "NAME2=input(\"ENTER THE SECOND MEMBER NAME:\")\n",
    "NAME1=NAME1.replace(\" \",\"\")\n",
    "NAME2=NAME2.replace(\" \",\"\")\n",
    "NAME1=NAME1.lower()\n",
    "NAME2=NAME2.lower()\n",
    "print(NAME1)\n",
    "print(NAME2)\n",
    "def FLAMES():\n",
    "    pop_val=[]\n",
    "    for i in NAME1_L:\n",
    "        if i in NAME2_L:\n",
    "            INDEX=NAME2_L.index(i)\n",
    "            pop_val.append(NAME2_L.pop(INDEX))\n",
    "    for i in range(len(pop_val)):\n",
    "        NAME1_L.remove(pop_val[i])\n",
    "    NAME3_L=NAME1_L+NAME2_L\n",
    "    COUNT=len(NAME3_L)\n",
    "    FLAMES=[\"FRIENDS\",\"LOVE\",\"AFFECTION\",\"MARRIAGE\",\"ENEMIES\",\"SIBLINGS\"]\n",
    "    while(len(FLAMES)>1):\n",
    "        INDEX=((COUNT%len(FLAMES))-1)\n",
    "        if(INDEX>=0):\n",
    "            FLAMES=FLAMES[INDEX+1:]+FLAMES[:INDEX]\n",
    "        else:\n",
    "            FLAMES=FLAMES[:len(FLAMES)-1]\n",
    "    print(\"THE RELATIONSHIP BETWEEN THE TWO PERSONS IS\",FLAMES[0])\n",
    "if NAME1.isalpha() and NAME2.isalpha():\n",
    "    NAME1_L=list(NAME1)\n",
    "    NAME2_L=list(NAME2)\n",
    "    FLAMES()  "
   ]
  },
  {
   "cell_type": "code",
   "execution_count": 31,
   "id": "7ba39039-4ce3-4d7d-b9e7-f727356750b5",
   "metadata": {},
   "outputs": [
    {
     "name": "stdout",
     "output_type": "stream",
     "text": [
      "😃\n"
     ]
    }
   ],
   "source": [
    "import emoji\n",
    "\n",
    "# Print a smiling face with big eyes emoji\n",
    "print(emoji.emojize(\":grinning_face_with_big_eyes:\"))\n"
   ]
  },
  {
   "cell_type": "code",
   "execution_count": 1,
   "id": "8152b595-0245-4e86-9319-540f9b4ba57d",
   "metadata": {},
   "outputs": [],
   "source": [
    "from turtle import *\n",
    "color('red')\n",
    "fillcolor('yellow')\n",
    "begin_fill()\n",
    "\n",
    "while True:\n",
    "    forward(200)\n",
    "    left(170)\n",
    "    if abs(pos()) < 1:\n",
    "        break\n",
    "\n",
    "end_fill()\n"
   ]
  },
  {
   "cell_type": "code",
   "execution_count": 1,
   "id": "0bb0d33a-694d-4d71-9109-96b08e3d46ed",
   "metadata": {},
   "outputs": [
    {
     "ename": "TypeError",
     "evalue": "TNavigator.goto() takes from 2 to 3 positional arguments but 4 were given",
     "output_type": "error",
     "traceback": [
      "\u001b[1;31m---------------------------------------------------------------------------\u001b[0m",
      "\u001b[1;31mTypeError\u001b[0m                                 Traceback (most recent call last)",
      "Cell \u001b[1;32mIn[1], line 26\u001b[0m\n\u001b[0;32m     24\u001b[0m     pen\u001b[38;5;241m.\u001b[39mwrite(\u001b[38;5;124m\"\u001b[39m\u001b[38;5;124mTHE RELATIONSHIP BETWEEN THE TWO PERSONS IS LOVE\u001b[39m\u001b[38;5;124m\"\u001b[39m, font\u001b[38;5;241m=\u001b[39m(\u001b[38;5;124m\"\u001b[39m\u001b[38;5;124mVerdana\u001b[39m\u001b[38;5;124m\"\u001b[39m, \u001b[38;5;241m12\u001b[39m, \u001b[38;5;124m\"\u001b[39m\u001b[38;5;124mbold\u001b[39m\u001b[38;5;124m\"\u001b[39m))\n\u001b[0;32m     25\u001b[0m heart()\n\u001b[1;32m---> 26\u001b[0m \u001b[43mtxt\u001b[49m\u001b[43m(\u001b[49m\u001b[43m)\u001b[49m\n\u001b[0;32m     27\u001b[0m pen\u001b[38;5;241m.\u001b[39mhideturtle()\n\u001b[0;32m     28\u001b[0m turtle\u001b[38;5;241m.\u001b[39mdone()\n",
      "Cell \u001b[1;32mIn[1], line 21\u001b[0m, in \u001b[0;36mtxt\u001b[1;34m()\u001b[0m\n\u001b[0;32m     19\u001b[0m \u001b[38;5;28;01mdef\u001b[39;00m \u001b[38;5;21mtxt\u001b[39m():\n\u001b[0;32m     20\u001b[0m     pen\u001b[38;5;241m.\u001b[39mup()\n\u001b[1;32m---> 21\u001b[0m     \u001b[43mpen\u001b[49m\u001b[38;5;241;43m.\u001b[39;49m\u001b[43msetpos\u001b[49m\u001b[43m(\u001b[49m\u001b[38;5;241;43m100\u001b[39;49m\u001b[43m,\u001b[49m\u001b[38;5;241;43m100\u001b[39;49m\u001b[43m,\u001b[49m\u001b[38;5;241;43m100\u001b[39;49m\u001b[43m)\u001b[49m\n\u001b[0;32m     22\u001b[0m     pen\u001b[38;5;241m.\u001b[39mdown()\n\u001b[0;32m     23\u001b[0m     pen\u001b[38;5;241m.\u001b[39mcolor(\u001b[38;5;124m'\u001b[39m\u001b[38;5;124mred\u001b[39m\u001b[38;5;124m'\u001b[39m)\n",
      "\u001b[1;31mTypeError\u001b[0m: TNavigator.goto() takes from 2 to 3 positional arguments but 4 were given"
     ]
    }
   ],
   "source": [
    "import turtle\n",
    "pen=turtle.Turtle()\n",
    "pen.speed(10)\n",
    "def curve():\n",
    "    for _ in range(200):\n",
    "        pen.right(1)\n",
    "        pen.forward(1)\n",
    "def heart():\n",
    "    pen.fillcolor('red')\n",
    "    pen.begin_fill()\n",
    "    pen.left(140)\n",
    "    pen.forward(113)\n",
    "    curve()\n",
    "    pen.left(125)\n",
    "    pen.down()\n",
    "    curve()\n",
    "    pen.forward(113)\n",
    "    pen.end_fill()\n",
    "def txt():\n",
    "    pen.up()\n",
    "    pen.setpos(100,100,100)\n",
    "    pen.down()\n",
    "    pen.color('red')\n",
    "    pen.write(\"THE RELATIONSHIP BETWEEN THE TWO PERSONS IS LOVE\", font=(\"Verdana\", 12, \"bold\"))\n",
    "heart()\n",
    "txt()\n",
    "pen.hideturtle()\n",
    "turtle.done()\n"
   ]
  },
  {
   "cell_type": "code",
   "execution_count": 1,
   "id": "044bca88-f6e9-40c7-aef8-9a871ebb8d46",
   "metadata": {},
   "outputs": [],
   "source": [
    "import turtle\n",
    "\n",
    "turtle.tracer(False)  # Stop animation and don't update content on screen\n",
    "wn = turtle.Screen()\n",
    "sasha = turtle.Turtle()\n",
    "length = 12\n",
    "\n",
    "for i in range(65):\n",
    "    sasha.forward(length)\n",
    "    sasha.right(120)\n",
    "    length += 10\n",
    "\n",
    "turtle.update()  # Update content on screen\n",
    "turtle.done()\n"
   ]
  },
  {
   "cell_type": "code",
   "execution_count": null,
   "id": "42a2b370-10fa-42e5-9a0d-8b42750c9b2a",
   "metadata": {},
   "outputs": [],
   "source": [
    "CLASS=3\n",
    "N_SCHOOL=[[['CLASS_1'],[],[]],[['CLASS_2'],[],[]],[['CLASS_3'],[],[]]]\n",
    "SCHOOL=[['CLASS_1', ['ram', 'bheem', 'rahim', 'vinay', 'vignesh', 'varun', 'mani', 'siva', 'sai', 'sravani'], [75.0, 76.0, 78.0, 46.0, 69.0, 59.0, 90.0, 79.0, 67.0, 50.0]],['CLASS_2', ['venkat', 'pavan', 'syamala', 'narayana', 'charani', 'bharathi', 'ahmad', 'arun'], [56.0, 67.0, 78.0, 89.0, 90.0, 57.0, 68.0, 79.0]],['CLASS_3', ['dhanush', 'dharani', 'keerthana', 'rajesh', 'vamsi', 'varun', 'sailaja'], [45.0, 56.0, 67.0, 78.0, 89.0, 80.0, 97.0]]]\n",
    "jv=[]\n",
    "N_CLASS=[f\"CLASS_{int(CLASS+1)}\"]\n",
    "N_STU_NAMES=[]\n",
    "N_PERCENT=[]\n",
    "for i in range(len(SCHOOL)):\n",
    "    for j in SCHOOL[i][2]:\n",
    "        if(j>75.0):\n",
    "            INDEX=SCHOOL[i][2].index(j)\n",
    "            if((i+1)<len(SCHOOL)):\n",
    "                N_SCHOOL[i+1][2].append(j)\n",
    "                N_SCHOOL[i+1][1].append(SCHOOL[i][1][INDEX])\n",
    "            else:\n",
    "                N_PERCENT.append(j)\n",
    "                N_STU_NAMES.append(SCHOOL[i][1][INDEX])\n",
    "        else:\n",
    "            INDEX=SCHOOL[i][2].index(j)\n",
    "            N_SCHOOL[i][2].append(j)\n",
    "            N_SCHOOL[i][1].append(SCHOOL[i][1][INDEX])\n",
    "N_CLASS.append(N_STU_NAMES)\n",
    "N_CLASS.append(N_PERCENT)\n",
    "N_SCHOOL.append(N_CLASS)\n",
    "print(N_SCHOOL)"
   ]
  }
 ],
 "metadata": {
  "kernelspec": {
   "display_name": "Python 3 (ipykernel)",
   "language": "python",
   "name": "python3"
  },
  "language_info": {
   "codemirror_mode": {
    "name": "ipython",
    "version": 3
   },
   "file_extension": ".py",
   "mimetype": "text/x-python",
   "name": "python",
   "nbconvert_exporter": "python",
   "pygments_lexer": "ipython3",
   "version": "3.10.11"
  }
 },
 "nbformat": 4,
 "nbformat_minor": 5
}
