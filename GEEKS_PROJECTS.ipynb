{
 "cells": [
  {
   "cell_type": "markdown",
   "id": "a8ffd96f-8d7d-479c-9888-93c6cddd9360",
   "metadata": {},
   "source": [
    "NUMBER GUESSING GAME IN PYTHON"
   ]
  },
  {
   "cell_type": "code",
   "execution_count": 97,
   "id": "755e4eab-5d8e-4dac-991b-68a8dc15c94c",
   "metadata": {},
   "outputs": [
    {
     "name": "stdin",
     "output_type": "stream",
     "text": [
      "ENTER THE LOWER BOUND: 1\n",
      "ENTER THE UPPER BOUND: 1000\n"
     ]
    },
    {
     "name": "stdout",
     "output_type": "stream",
     "text": [
      "770\n",
      "YOU HAVE 10 NUMBER OF CHANCES\n"
     ]
    },
    {
     "name": "stdin",
     "output_type": "stream",
     "text": [
      "ENTER YOUR GUESS: 45\n"
     ]
    },
    {
     "name": "stdout",
     "output_type": "stream",
     "text": [
      "Try Again! You guessed too small\n"
     ]
    },
    {
     "name": "stdin",
     "output_type": "stream",
     "text": [
      "ENTER YOUR GUESS: 890\n"
     ]
    },
    {
     "name": "stdout",
     "output_type": "stream",
     "text": [
      "Try Again! You guessed too high\n"
     ]
    },
    {
     "name": "stdin",
     "output_type": "stream",
     "text": [
      "ENTER YOUR GUESS: 789\n"
     ]
    },
    {
     "name": "stdout",
     "output_type": "stream",
     "text": [
      "Try Again! You guessed too high\n"
     ]
    },
    {
     "name": "stdin",
     "output_type": "stream",
     "text": [
      "ENTER YOUR GUESS: 765\n"
     ]
    },
    {
     "name": "stdout",
     "output_type": "stream",
     "text": [
      "Try Again! You guessed too small\n"
     ]
    },
    {
     "name": "stdin",
     "output_type": "stream",
     "text": [
      "ENTER YOUR GUESS: 770\n"
     ]
    },
    {
     "name": "stdout",
     "output_type": "stream",
     "text": [
      "CONGRATULATIONS YOU GUESSED RIGHT IN ATTEMPT 5\n"
     ]
    }
   ],
   "source": [
    "import numpy as np\n",
    "import math\n",
    "A=int(input(\"ENTER THE LOWER BOUND:\"))\n",
    "B=int(input(\"ENTER THE UPPER BOUND:\"))\n",
    "arr=np.arange(A,B)\n",
    "RANDVALUE=np.random.choice(arr)\n",
    "print(RANDVALUE)\n",
    "NOC=math.log(B-A+1,2)\n",
    "CHANCES=round(NOC)\n",
    "print(\"YOU HAVE\",CHANCES,\"NUMBER OF CHANCES\")\n",
    "while(True):\n",
    "    for i in range(1,CHANCES):\n",
    "        GUESS=int(input(\"ENTER YOUR GUESS:\"))\n",
    "        if(GUESS==RANDVALUE):\n",
    "            print(\"CONGRATULATIONS YOU GUESSED RIGHT IN ATTEMPT\",i)\n",
    "            break\n",
    "        elif(GUESS<RANDVALUE):\n",
    "            print('Try Again! You guessed too small')\n",
    "        else:\n",
    "            print(\"Try Again! You guessed too high\")\n",
    "    if(GUESS==RANDVALUE):\n",
    "        break\n",
    "    if(i==CHANCES-1 and GUESS!=RANDVALUE):\n",
    "        GUESS=int(input(\"ENTER YOUR GUESS:\"))\n",
    "        if(GUESS==RANDVALUE):\n",
    "            print(\"COMGRATULATIONS YOU GUESSED RIGHT IN ATTEMPT\",i+1)\n",
    "            break\n",
    "        else:\n",
    "            print(\"Better Luck Next Time!\")\n",
    "            break"
   ]
  },
  {
   "cell_type": "raw",
   "id": "99ac5cb1-f728-486b-99f3-46c20678fe92",
   "metadata": {},
   "source": []
  },
  {
   "cell_type": "markdown",
   "id": "62bb7627-7f0c-4366-ad4a-312a6ec5551d",
   "metadata": {},
   "source": [
    "WORD GUESSSING GAME IN PYTHON"
   ]
  },
  {
   "cell_type": "raw",
   "id": "1dd265db-14f1-4e7a-b669-4a21e24ca087",
   "metadata": {},
   "source": []
  },
  {
   "cell_type": "code",
   "execution_count": 96,
   "id": "a615df05-4d93-41e2-a146-d9bf8f8e76fa",
   "metadata": {},
   "outputs": [
    {
     "name": "stdin",
     "output_type": "stream",
     "text": [
      "ENTER YOUR NAME: SYAMALA DEVI\n"
     ]
    },
    {
     "name": "stdout",
     "output_type": "stream",
     "text": [
      "GOOD LUCK SYAMALA DEVI\n",
      "board\n",
      "GUESS THE CHARACTERS OF RANDWORD\n",
      "YOU HAVE 10 CHANCES TO GUESS THE RANDWORD COMPLETELY\n",
      "YOU CAN ENTER ONLY ONE CHARACTER FOR EACH CHANCE\n",
      "*****\n"
     ]
    },
    {
     "name": "stdin",
     "output_type": "stream",
     "text": [
      "ENTER THE CHARACTER B\n"
     ]
    },
    {
     "name": "stdout",
     "output_type": "stream",
     "text": [
      "YOU'R GUESS IS RIGHT YOU STILL HAVE 9 CHANCES\n",
      "b****\n"
     ]
    },
    {
     "name": "stdin",
     "output_type": "stream",
     "text": [
      "ENTER THE CHARACTER E\n"
     ]
    },
    {
     "name": "stdout",
     "output_type": "stream",
     "text": [
      "Wrong GUESS and your turns is decreased by 1 YOU HAVE 8 CHANCES ONLY\n"
     ]
    },
    {
     "name": "stdin",
     "output_type": "stream",
     "text": [
      "ENTER THE CHARACTER O\n"
     ]
    },
    {
     "name": "stdout",
     "output_type": "stream",
     "text": [
      "YOU'R GUESS IS RIGHT YOU STILL HAVE 7 CHANCES\n",
      "bo***\n"
     ]
    },
    {
     "name": "stdin",
     "output_type": "stream",
     "text": [
      "ENTER THE CHARACTER A\n"
     ]
    },
    {
     "name": "stdout",
     "output_type": "stream",
     "text": [
      "YOU'R GUESS IS RIGHT YOU STILL HAVE 6 CHANCES\n",
      "boa**\n"
     ]
    },
    {
     "name": "stdin",
     "output_type": "stream",
     "text": [
      "ENTER THE CHARACTER R\n"
     ]
    },
    {
     "name": "stdout",
     "output_type": "stream",
     "text": [
      "YOU'R GUESS IS RIGHT YOU STILL HAVE 5 CHANCES\n",
      "boar*\n"
     ]
    },
    {
     "name": "stdin",
     "output_type": "stream",
     "text": [
      "ENTER THE CHARACTER S\n"
     ]
    },
    {
     "name": "stdout",
     "output_type": "stream",
     "text": [
      "Wrong GUESS and your turns is decreased by 1 YOU HAVE 4 CHANCES ONLY\n"
     ]
    },
    {
     "name": "stdin",
     "output_type": "stream",
     "text": [
      "ENTER THE CHARACTER N\n"
     ]
    },
    {
     "name": "stdout",
     "output_type": "stream",
     "text": [
      "Wrong GUESS and your turns is decreased by 1 YOU HAVE 3 CHANCES ONLY\n"
     ]
    },
    {
     "name": "stdin",
     "output_type": "stream",
     "text": [
      "ENTER THE CHARACTER D\n"
     ]
    },
    {
     "name": "stdout",
     "output_type": "stream",
     "text": [
      "YOU WON THE GAME\n",
      "THE COMPLETE RANDWORD IS board\n"
     ]
    }
   ],
   "source": [
    "import numpy as np\n",
    "NAME=input(\"ENTER YOUR NAME:\")\n",
    "print(\"GOOD LUCK\",NAME)\n",
    "WORDS=np.array(['rainbow','COMPUTER','science','PROGRAMMING','PYTHON','MATHEMATICS', 'player', 'CONDITION',\n",
    "         'reverse', 'water', 'board', 'GEEKS'])\n",
    "RANDWORD=np.random.choice(WORDS)\n",
    "print(RANDWORD)\n",
    "TURNS=len(RANDWORD)*2\n",
    "print(\"GUESS THE CHARACTERS OF RANDWORD\")\n",
    "print(\"YOU HAVE\",TURNS,\"CHANCES TO GUESS THE RANDWORD COMPLETELY\")\n",
    "print(\"YOU CAN ENTER ONLY ONE CHARACTER FOR EACH CHANCE\")\n",
    "WORD=\"\"\n",
    "for i in range(len(RANDWORD)):\n",
    "    WORD=WORD+\"*\"    \n",
    "print(WORD)\n",
    "def get_alphabetic_input():\n",
    "    while(True):\n",
    "        user_input=input(\"ENTER THE CHARACTER\")[:1]\n",
    "        if user_input.isalpha():\n",
    "            if(RANDWORD.isupper()):\n",
    "                user_input=user_input.upper()\n",
    "            else:\n",
    "                user_input=user_input.lower()\n",
    "            break\n",
    "        else:\n",
    "            print(\"ALPHABETIC CHARACTERS ONLY\")\n",
    "    return user_input\n",
    "def find_indices_of_character(input_string, target_character):\n",
    "    return [index for index, char in enumerate(input_string) if char == target_character]\n",
    "def replace_at_position(original_string, new_substring, position):\n",
    "    if position < 0 or position >= len(original_string):\n",
    "        return original_string  # Invalid position, no change needed\n",
    "    return WORD[:position] + new_substring + WORD[position+1:len(RANDWORD)]\n",
    "for i in range(TURNS):\n",
    "    GUESS=get_alphabetic_input()\n",
    "    if(GUESS in RANDWORD):\n",
    "        INDICES=find_indices_of_character(RANDWORD,GUESS)\n",
    "        INDEX=[INDEX for INDEX in INDICES if WORD[INDEX]!=GUESS]\n",
    "        if(INDEX!=[]):\n",
    "            TURNS=TURNS-1           \n",
    "            WORD=replace_at_position(WORD,GUESS,INDEX[0])\n",
    "            if(WORD!=RANDWORD):\n",
    "                print(\"YOU'R GUESS IS RIGHT YOU STILL HAVE\",TURNS,\"CHANCES\")\n",
    "                print(WORD)\n",
    "            elif(WORD==RANDWORD):\n",
    "                print(\"YOU WON THE GAME\")\n",
    "                break\n",
    "            else:\n",
    "                pass\n",
    "        else:\n",
    "            TURNS=TURNS-1\n",
    "            print(\"Wrong GUESS and your turns is decreased by 1 YOU HAVE\",TURNS,\"CHANCES ONLY\")\n",
    "    else:\n",
    "        TURNS=TURNS-1\n",
    "        if(TURNS==0):\n",
    "            print(\"WELL PLAYED BETTER LUCK NEXT TIME\")\n",
    "        else:\n",
    "            print(\"Wrong GUESS and your turns is decreased by 1 YOU HAVE\",TURNS,\"CHANCES ONLY\")\n",
    "print(\"THE COMPLETE RANDWORD IS\",WORD)"
   ]
  },
  {
   "cell_type": "code",
   "execution_count": null,
   "id": "b284c6e6-c276-4fe4-9ebf-672c50ec318b",
   "metadata": {},
   "outputs": [],
   "source": []
  }
 ],
 "metadata": {
  "kernelspec": {
   "display_name": "Python 3 (ipykernel)",
   "language": "python",
   "name": "python3"
  },
  "language_info": {
   "codemirror_mode": {
    "name": "ipython",
    "version": 3
   },
   "file_extension": ".py",
   "mimetype": "text/x-python",
   "name": "python",
   "nbconvert_exporter": "python",
   "pygments_lexer": "ipython3",
   "version": "3.10.11"
  }
 },
 "nbformat": 4,
 "nbformat_minor": 5
}
