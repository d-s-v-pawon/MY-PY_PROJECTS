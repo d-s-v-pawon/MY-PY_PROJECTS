{
 "cells": [
  {
   "cell_type": "code",
   "execution_count": 5,
   "id": "572e995c-ffaf-4024-ad17-5b055bb818b5",
   "metadata": {},
   "outputs": [
    {
     "name": "stdin",
     "output_type": "stream",
     "text": [
      "enter the number: 23\n",
      "enter the number: 546\n",
      "enter the number: -345\n",
      "enter the number: 3543\n",
      "enter the number: -\n"
     ]
    },
    {
     "name": "stdout",
     "output_type": "stream",
     "text": [
      "-4411\n"
     ]
    }
   ],
   "source": [
    "from calculator import subtraction"
   ]
  },
  {
   "cell_type": "code",
   "execution_count": 1,
   "id": "92d1e61f-e213-4a88-afaf-a1dec20c7298",
   "metadata": {},
   "outputs": [
    {
     "name": "stdin",
     "output_type": "stream",
     "text": [
      "enter the number: 23\n",
      "enter the number: 435\n",
      "enter the number: 56\n",
      "enter the number: -345\n",
      "enter the number: 234\n",
      "enter the number: +\n"
     ]
    },
    {
     "name": "stdout",
     "output_type": "stream",
     "text": [
      "403\n"
     ]
    }
   ],
   "source": [
    "from calculator import addition"
   ]
  },
  {
   "cell_type": "code",
   "execution_count": 3,
   "id": "d8529fcd-5ab6-403d-b21f-040791cb2b2b",
   "metadata": {},
   "outputs": [
    {
     "name": "stdin",
     "output_type": "stream",
     "text": [
      "enter the number: 23\n",
      "enter the number: 2\n",
      "enter the number: 3\n",
      "enter the number: 2345\n",
      "enter the number: *\n"
     ]
    },
    {
     "name": "stdout",
     "output_type": "stream",
     "text": [
      "323610\n"
     ]
    }
   ],
   "source": [
    "from calculator import multiplication"
   ]
  },
  {
   "cell_type": "code",
   "execution_count": 4,
   "id": "485d6887-06ac-46ca-ba70-24feb2883d4e",
   "metadata": {},
   "outputs": [
    {
     "name": "stdin",
     "output_type": "stream",
     "text": [
      "ENTER NUMERATOR: 324\n",
      "ENTER THE DENOMINATOR: 435\n"
     ]
    },
    {
     "name": "stdout",
     "output_type": "stream",
     "text": [
      "0.7448275862068966\n"
     ]
    },
    {
     "name": "stdin",
     "output_type": "stream",
     "text": [
      "ENTER ANOTHER NUMBER: 23\n",
      "ENTER ANOTHER NUMBER: 3\n",
      "ENTER ANOTHER NUMBER: 4\n",
      "ENTER ANOTHER NUMBER: dfg\n"
     ]
    },
    {
     "name": "stdout",
     "output_type": "stream",
     "text": [
      "0.0026986506746626685\n"
     ]
    }
   ],
   "source": [
    "from calculator import division"
   ]
  },
  {
   "cell_type": "code",
   "execution_count": 1,
   "id": "ee1f3397-3d08-49a8-94b0-a49e0ea75ecf",
   "metadata": {},
   "outputs": [
    {
     "name": "stdin",
     "output_type": "stream",
     "text": [
      "ENTER NUMERATOR: 23\n",
      "ENTER THE DENOMINATOR: 2\n"
     ]
    },
    {
     "name": "stdout",
     "output_type": "stream",
     "text": [
      "11.5\n"
     ]
    },
    {
     "name": "stdin",
     "output_type": "stream",
     "text": [
      "ENTER ANOTHER NUMBER: -234\n",
      "ENTER ANOTHER NUMBER: -3\n",
      "ENTER ANOTHER NUMBER: egr\n"
     ]
    },
    {
     "name": "stdout",
     "output_type": "stream",
     "text": [
      "0.01638176638176638\n"
     ]
    }
   ],
   "source": [
    "from calculator import division"
   ]
  },
  {
   "cell_type": "code",
   "execution_count": 1,
   "id": "26025551-7c9e-4858-9057-e45610521caf",
   "metadata": {},
   "outputs": [
    {
     "name": "stdin",
     "output_type": "stream",
     "text": [
      "enter the number: 5\n",
      "enter the number: 3\n",
      "enter the number: 5\n",
      "enter the number: -3\n",
      "enter the number: -\n"
     ]
    },
    {
     "name": "stdout",
     "output_type": "stream",
     "text": [
      "-6\n"
     ]
    }
   ],
   "source": [
    "from calculator import subtraction"
   ]
  },
  {
   "cell_type": "code",
   "execution_count": 1,
   "id": "35a3cc68-d02d-402a-a3da-4200b540ed65",
   "metadata": {},
   "outputs": [
    {
     "name": "stdin",
     "output_type": "stream",
     "text": [
      "ENTER NUMERATOR: 1200\n",
      "ENTER THE DENOMINATOR: 3\n"
     ]
    },
    {
     "name": "stdout",
     "output_type": "stream",
     "text": [
      "400.0\n"
     ]
    },
    {
     "name": "stdin",
     "output_type": "stream",
     "text": [
      "ENTER ANOTHER NUMBER: 2\n",
      "ENTER ANOTHER NUMBER: 2\n",
      "ENTER ANOTHER NUMBER: /\n"
     ]
    },
    {
     "name": "stdout",
     "output_type": "stream",
     "text": [
      "100.0\n"
     ]
    }
   ],
   "source": [
    "from calculator import division"
   ]
  },
  {
   "cell_type": "code",
   "execution_count": null,
   "id": "e392262b-8043-48fb-9d3e-2862175d829c",
   "metadata": {},
   "outputs": [],
   "source": []
  }
 ],
 "metadata": {
  "kernelspec": {
   "display_name": "Python 3 (ipykernel)",
   "language": "python",
   "name": "python3"
  },
  "language_info": {
   "codemirror_mode": {
    "name": "ipython",
    "version": 3
   },
   "file_extension": ".py",
   "mimetype": "text/x-python",
   "name": "python",
   "nbconvert_exporter": "python",
   "pygments_lexer": "ipython3",
   "version": "3.10.11"
  }
 },
 "nbformat": 4,
 "nbformat_minor": 5
}
