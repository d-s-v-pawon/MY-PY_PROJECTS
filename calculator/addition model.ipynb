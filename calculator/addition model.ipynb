{
 "cells": [
  {
   "cell_type": "code",
   "execution_count": 69,
   "id": "dba38a99-24f0-4735-8d33-d9c1bfb91d0b",
   "metadata": {},
   "outputs": [
    {
     "name": "stdin",
     "output_type": "stream",
     "text": [
      "ENTER THE NO OF DIGITS TO ADD: 5\n",
      "enter the number: 20\n",
      "enter the number: 20\n",
      "enter the number: 20\n",
      "enter the number: 20\n",
      "enter the number: 20\n"
     ]
    },
    {
     "name": "stdout",
     "output_type": "stream",
     "text": [
      "100\n"
     ]
    }
   ],
   "source": [
    "def add():\n",
    "    n=int(input(\"ENTER THE NO OF DIGITS TO ADD:\"))\n",
    "    l=[]\n",
    "    ADDITION=0\n",
    "    for i in range(1,n+1):\n",
    "        NUM=input(\"enter the number:\")\n",
    "        l.append(NUM)\n",
    "    for i in range(len(l)):\n",
    "        li=int(l[i])\n",
    "        ADDITION=ADDITION+li\n",
    "    print(ADDITION)\n",
    "add()"
   ]
  },
  {
   "cell_type": "code",
   "execution_count": 84,
   "id": "538ea88c-e4e2-4683-8211-c60239ab85d9",
   "metadata": {},
   "outputs": [
    {
     "name": "stdin",
     "output_type": "stream",
     "text": [
      "enter the number: 20\n",
      "enter the number: 10\n",
      "enter the number: -5\n",
      "enter the number: +\n"
     ]
    },
    {
     "name": "stdout",
     "output_type": "stream",
     "text": [
      "25\n"
     ]
    }
   ],
   "source": [
    "def add():\n",
    "    l=[]\n",
    "    ADDITION=0\n",
    "    while(True):\n",
    "        NUM=input(\"enter the number:\")\n",
    "        if(NUM==\"+\"):\n",
    "            for i in range(len(l)):\n",
    "                li=int(l[i])\n",
    "                ADDITION=ADDITION+li\n",
    "            print(ADDITION)\n",
    "            break\n",
    "        else:\n",
    "            l.append(NUM)\n",
    "add()"
   ]
  },
  {
   "cell_type": "code",
   "execution_count": null,
   "id": "60332146-929a-4b94-9626-8b5accef8584",
   "metadata": {},
   "outputs": [],
   "source": []
  }
 ],
 "metadata": {
  "kernelspec": {
   "display_name": "Python 3 (ipykernel)",
   "language": "python",
   "name": "python3"
  },
  "language_info": {
   "codemirror_mode": {
    "name": "ipython",
    "version": 3
   },
   "file_extension": ".py",
   "mimetype": "text/x-python",
   "name": "python",
   "nbconvert_exporter": "python",
   "pygments_lexer": "ipython3",
   "version": "3.10.11"
  }
 },
 "nbformat": 4,
 "nbformat_minor": 5
}
