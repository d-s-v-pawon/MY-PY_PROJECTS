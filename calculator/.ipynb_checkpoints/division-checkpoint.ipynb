{
 "cells": [
  {
   "cell_type": "code",
   "execution_count": 15,
   "id": "f4e7e37c-0ba5-462a-9ee2-d03dbc5dc47c",
   "metadata": {},
   "outputs": [
    {
     "name": "stdin",
     "output_type": "stream",
     "text": [
      "ENTER NUMERATOR: 1000\n",
      "ENTER THE DENOMINATOR: 2\n"
     ]
    },
    {
     "name": "stdout",
     "output_type": "stream",
     "text": [
      "500.0\n"
     ]
    },
    {
     "name": "stdin",
     "output_type": "stream",
     "text": [
      "ENTER ANOTHER NUMBER: 2\n",
      "ENTER ANOTHER NUMBER: 2\n",
      "ENTER ANOTHER NUMBER: 5\n",
      "ENTER ANOTHER NUMBER: 2\n",
      "ENTER ANOTHER NUMBER: sdf\n"
     ]
    },
    {
     "name": "stdout",
     "output_type": "stream",
     "text": [
      "12.5\n"
     ]
    }
   ],
   "source": [
    "def div():\n",
    "    x=float(input(\"ENTER NUMERATOR:\"))\n",
    "    y=float(input(\"ENTER THE DENOMINATOR:\"))\n",
    "    DIVISION=x/y\n",
    "    print(DIVISION)\n",
    "    while(True):\n",
    "        z=input(\"ENTER ANOTHER NUMBER:\")\n",
    "        if z.isalpha():\n",
    "            break\n",
    "        DIVISION=DIVISION/float(z)\n",
    "    print(DIVISION)\n",
    "div()"
   ]
  },
  {
   "cell_type": "code",
   "execution_count": null,
   "id": "e0dbadff-4a3f-4fb1-b14e-9d094344c220",
   "metadata": {},
   "outputs": [],
   "source": []
  }
 ],
 "metadata": {
  "kernelspec": {
   "display_name": "Python 3 (ipykernel)",
   "language": "python",
   "name": "python3"
  },
  "language_info": {
   "codemirror_mode": {
    "name": "ipython",
    "version": 3
   },
   "file_extension": ".py",
   "mimetype": "text/x-python",
   "name": "python",
   "nbconvert_exporter": "python",
   "pygments_lexer": "ipython3",
   "version": "3.10.11"
  }
 },
 "nbformat": 4,
 "nbformat_minor": 5
}
