{
 "cells": [
  {
   "cell_type": "code",
   "execution_count": 52,
   "id": "4fbb9be1-25b9-45ea-bbbf-0c76152af424",
   "metadata": {},
   "outputs": [
    {
     "name": "stdin",
     "output_type": "stream",
     "text": [
      "ENTER THE NO OF DIGITS TO SUBTRACT: 4\n",
      "enter the number: 20\n",
      "enter the number: 14\n",
      "enter the number: 7\n",
      "enter the number: -2\n"
     ]
    },
    {
     "name": "stdout",
     "output_type": "stream",
     "text": [
      "-3\n"
     ]
    }
   ],
   "source": [
    "def sub():\n",
    "    n=int(input(\"ENTER THE NO OF DIGITS TO SUBTRACT:\"))\n",
    "    l=[]\n",
    "    for i in range(1,n+1):\n",
    "        NUM=input(\"enter the number:\")\n",
    "        l.append(NUM)\n",
    "        SUBTRACTION=int(l[0])\n",
    "    for i in range(1,len(l)):\n",
    "        li=int(l[i])\n",
    "        if(li<0):\n",
    "            SUBTRACTION=SUBTRACTION+li\n",
    "        else:\n",
    "             SUBTRACTION=SUBTRACTION-li\n",
    "    print(SUBTRACTION) \n",
    "sub()"
   ]
  },
  {
   "cell_type": "code",
   "execution_count": 50,
   "id": "e37b61bf-8103-4487-88d4-953ed1456bdc",
   "metadata": {},
   "outputs": [
    {
     "name": "stdin",
     "output_type": "stream",
     "text": [
      "enter the number: 20\n",
      "enter the number: 14\n",
      "enter the number: 7\n",
      "enter the number: -2\n",
      "enter the number: -\n"
     ]
    },
    {
     "name": "stdout",
     "output_type": "stream",
     "text": [
      "-3\n"
     ]
    }
   ],
   "source": [
    "def sub():\n",
    "    l=[]\n",
    "    while(True):\n",
    "        NUM=input(\"enter the number:\")\n",
    "        if(NUM==\"-\"):\n",
    "            for i in range(1,len(l)):\n",
    "                li=int(l[i])\n",
    "                if(li<0):\n",
    "                    SUBTRACTION=SUBTRACTION+li\n",
    "                else:\n",
    "                    SUBTRACTION=SUBTRACTION-li\n",
    "            print(SUBTRACTION)\n",
    "            break\n",
    "        else:\n",
    "            l.append(NUM)\n",
    "        SUBTRACTION=int(l[0])\n",
    "sub()"
   ]
  }
 ],
 "metadata": {
  "kernelspec": {
   "display_name": "Python 3 (ipykernel)",
   "language": "python",
   "name": "python3"
  },
  "language_info": {
   "codemirror_mode": {
    "name": "ipython",
    "version": 3
   },
   "file_extension": ".py",
   "mimetype": "text/x-python",
   "name": "python",
   "nbconvert_exporter": "python",
   "pygments_lexer": "ipython3",
   "version": "3.10.11"
  }
 },
 "nbformat": 4,
 "nbformat_minor": 5
}
