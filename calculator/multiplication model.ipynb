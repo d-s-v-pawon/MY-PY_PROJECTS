{
 "cells": [
  {
   "cell_type": "code",
   "execution_count": 3,
   "id": "ec4cf510-a47f-4ead-8d7f-baaddcaf73ee",
   "metadata": {},
   "outputs": [
    {
     "name": "stdin",
     "output_type": "stream",
     "text": [
      "ENTER THE NO OF DIGITS TO MULTIPLY: 3\n",
      "enter the number: 2\n",
      "enter the number: 4\n",
      "enter the number: -5\n"
     ]
    },
    {
     "name": "stdout",
     "output_type": "stream",
     "text": [
      "-40\n"
     ]
    }
   ],
   "source": [
    "def mul():\n",
    "    n=int(input(\"ENTER THE NO OF DIGITS TO MULTIPLY:\"))\n",
    "    l=[]\n",
    "    for i in range(1,n+1):\n",
    "        NUM=input(\"enter the number:\")\n",
    "        l.append(NUM)\n",
    "        MULTIPLICATION=int(l[0])\n",
    "    for i in range(1,len(l)):\n",
    "        li=int(l[i])\n",
    "        MULTIPLICATION=MULTIPLICATION*li\n",
    "    print(MULTIPLICATION) \n",
    "mul()"
   ]
  },
  {
   "cell_type": "code",
   "execution_count": 3,
   "id": "d463e2a3-c52a-4f1c-a954-e7e1cbc1bd7c",
   "metadata": {},
   "outputs": [
    {
     "name": "stdin",
     "output_type": "stream",
     "text": [
      "enter the number: 2\n",
      "enter the number: 3\n",
      "enter the number: 4\n",
      "enter the number: -4\n",
      "enter the number: *\n"
     ]
    },
    {
     "name": "stdout",
     "output_type": "stream",
     "text": [
      "-96\n"
     ]
    }
   ],
   "source": [
    "def mul():\n",
    "    l=[]\n",
    "    while(True):\n",
    "        NUM=input(\"enter the number:\")\n",
    "        if(NUM==\"*\"):\n",
    "            for i in range(1,len(l)):\n",
    "                li=int(l[i])\n",
    "                MULTIPLICATION=MULTIPLICATION*li\n",
    "            print(MULTIPLICATION)\n",
    "            break\n",
    "        else:\n",
    "            l.append(NUM)\n",
    "        MULTIPLICATION=int(l[0])\n",
    "mul()"
   ]
  },
  {
   "cell_type": "code",
   "execution_count": null,
   "id": "c9197c30-fdf7-4a18-a350-d2bc8b931ff0",
   "metadata": {},
   "outputs": [],
   "source": []
  }
 ],
 "metadata": {
  "kernelspec": {
   "display_name": "Python 3 (ipykernel)",
   "language": "python",
   "name": "python3"
  },
  "language_info": {
   "codemirror_mode": {
    "name": "ipython",
    "version": 3
   },
   "file_extension": ".py",
   "mimetype": "text/x-python",
   "name": "python",
   "nbconvert_exporter": "python",
   "pygments_lexer": "ipython3",
   "version": "3.10.11"
  }
 },
 "nbformat": 4,
 "nbformat_minor": 5
}
